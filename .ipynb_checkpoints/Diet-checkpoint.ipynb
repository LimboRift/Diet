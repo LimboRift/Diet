{
 "cells": [
  {
   "cell_type": "markdown",
   "metadata": {},
   "source": [
    "<b> Load packages"
   ]
  },
  {
   "cell_type": "code",
   "execution_count": 1,
   "metadata": {},
   "outputs": [
    {
     "name": "stderr",
     "output_type": "stream",
     "text": [
      "Warning message:\n",
      "\"package 'glmnet' was built under R version 3.6.2\"Loading required package: Matrix\n",
      "Loaded glmnet 3.0-2\n",
      "\n",
      "Warning message:\n",
      "\"package 'plotmo' was built under R version 3.6.2\"Loading required package: Formula\n",
      "Loading required package: plotrix\n",
      "Loading required package: TeachingDemos\n",
      "Warning message:\n",
      "\"package 'TeachingDemos' was built under R version 3.6.2\"Warning message:\n",
      "\"package 'MLmetrics' was built under R version 3.6.2\"\n",
      "Attaching package: 'MLmetrics'\n",
      "\n",
      "The following object is masked from 'package:base':\n",
      "\n",
      "    Recall\n",
      "\n",
      "Warning message:\n",
      "\"package 'lavaan' was built under R version 3.6.2\"This is lavaan 0.6-5\n",
      "lavaan is BETA software! Please report any bugs.\n",
      "Warning message:\n",
      "\"package 'ggplot2' was built under R version 3.6.2\"Warning message:\n",
      "\"package 'gridExtra' was built under R version 3.6.2\"Warning message:\n",
      "\"package 'tidyverse' was built under R version 3.6.2\"-- Attaching packages --------------------------------------- tidyverse 1.3.0 --\n",
      "v tibble  2.1.3     v dplyr   0.8.4\n",
      "v tidyr   1.0.2     v stringr 1.4.0\n",
      "v readr   1.3.1     v forcats 0.4.0\n",
      "v purrr   0.3.3     \n",
      "Warning message:\n",
      "\"package 'tibble' was built under R version 3.6.2\"Warning message:\n",
      "\"package 'tidyr' was built under R version 3.6.2\"Warning message:\n",
      "\"package 'purrr' was built under R version 3.6.2\"Warning message:\n",
      "\"package 'dplyr' was built under R version 3.6.2\"-- Conflicts ------------------------------------------ tidyverse_conflicts() --\n",
      "x dplyr::combine() masks gridExtra::combine()\n",
      "x tidyr::expand()  masks Matrix::expand()\n",
      "x dplyr::filter()  masks stats::filter()\n",
      "x dplyr::lag()     masks stats::lag()\n",
      "x tidyr::pack()    masks Matrix::pack()\n",
      "x dplyr::select()  masks MASS::select()\n",
      "x tidyr::unpack()  masks Matrix::unpack()\n"
     ]
    }
   ],
   "source": [
    "library(glmnet)\n",
    "library(MASS)\n",
    "library(readxl)\n",
    "library(plotmo)\n",
    "library(MLmetrics)\n",
    "library(lavaan)\n",
    "library(ggplot2)\n",
    "library(gridExtra)\n",
    "library(tidyverse)\n"
   ]
  },
  {
   "cell_type": "markdown",
   "metadata": {},
   "source": [
    "<b> Input the data"
   ]
  },
  {
   "cell_type": "code",
   "execution_count": 2,
   "metadata": {
    "scrolled": true
   },
   "outputs": [
    {
     "name": "stderr",
     "output_type": "stream",
     "text": [
      "Warning message in read_fun(path = enc2native(normalizePath(path)), sheet_i = sheet, :\n",
      "\"Expecting date in A2588 / R2588C1: got '2019/10/06 10:49:36 PM AST'\"Warning message in read_fun(path = enc2native(normalizePath(path)), sheet_i = sheet, :\n",
      "\"Expecting date in A2589 / R2589C1: got '2019/10/06 10:50:51 PM AST'\"Warning message in read_fun(path = enc2native(normalizePath(path)), sheet_i = sheet, :\n",
      "\"Expecting date in A2590 / R2590C1: got '2019/10/06 11:03:45 PM AST'\"Warning message in read_fun(path = enc2native(normalizePath(path)), sheet_i = sheet, :\n",
      "\"Expecting date in A2591 / R2591C1: got '2019/10/06 11:26:50 PM AST'\"Warning message in read_fun(path = enc2native(normalizePath(path)), sheet_i = sheet, :\n",
      "\"Expecting date in A2592 / R2592C1: got '2019/10/06 4:23:19 PM AST'\"Warning message in read_fun(path = enc2native(normalizePath(path)), sheet_i = sheet, :\n",
      "\"Expecting date in A2593 / R2593C1: got '2019/10/06 4:25:01 PM AST'\"Warning message in read_fun(path = enc2native(normalizePath(path)), sheet_i = sheet, :\n",
      "\"Expecting date in A2594 / R2594C1: got '2019/10/06 4:25:20 PM AST'\"Warning message in read_fun(path = enc2native(normalizePath(path)), sheet_i = sheet, :\n",
      "\"Expecting date in A2595 / R2595C1: got '2019/10/06 4:26:42 PM AST'\"Warning message in read_fun(path = enc2native(normalizePath(path)), sheet_i = sheet, :\n",
      "\"Expecting date in A2596 / R2596C1: got '2019/10/06 4:30:07 PM AST'\"Warning message in read_fun(path = enc2native(normalizePath(path)), sheet_i = sheet, :\n",
      "\"Expecting date in A2597 / R2597C1: got '2019/10/06 5:02:51 PM AST'\"Warning message in read_fun(path = enc2native(normalizePath(path)), sheet_i = sheet, :\n",
      "\"Expecting date in A2598 / R2598C1: got '2019/10/06 7:05:13 PM AST'\"Warning message in read_fun(path = enc2native(normalizePath(path)), sheet_i = sheet, :\n",
      "\"Expecting date in A2599 / R2599C1: got '2019/10/06 7:48:46 PM AST'\"Warning message in read_fun(path = enc2native(normalizePath(path)), sheet_i = sheet, :\n",
      "\"Expecting date in A2600 / R2600C1: got '2019/10/06 8:49:36 PM AST'\"Warning message in read_fun(path = enc2native(normalizePath(path)), sheet_i = sheet, :\n",
      "\"Expecting date in A2601 / R2601C1: got '2019/10/07 1:08:05 PM AST'\"Warning message in read_fun(path = enc2native(normalizePath(path)), sheet_i = sheet, :\n",
      "\"Expecting date in A2602 / R2602C1: got '2019/10/07 1:19:15 PM AST'\"Warning message in read_fun(path = enc2native(normalizePath(path)), sheet_i = sheet, :\n",
      "\"Expecting date in A2603 / R2603C1: got '2019/10/07 1:50:37 PM AST'\"Warning message in read_fun(path = enc2native(normalizePath(path)), sheet_i = sheet, :\n",
      "\"Expecting date in A2604 / R2604C1: got '2019/10/07 11:20:06 AM AST'\"Warning message in read_fun(path = enc2native(normalizePath(path)), sheet_i = sheet, :\n",
      "\"Expecting date in A2605 / R2605C1: got '2019/10/07 11:31:53 AM AST'\"Warning message in read_fun(path = enc2native(normalizePath(path)), sheet_i = sheet, :\n",
      "\"Expecting date in A2606 / R2606C1: got '2019/10/07 11:38:52 PM AST'\"Warning message in read_fun(path = enc2native(normalizePath(path)), sheet_i = sheet, :\n",
      "\"Expecting date in A2607 / R2607C1: got '2019/10/07 11:54:23 AM AST'\"Warning message in read_fun(path = enc2native(normalizePath(path)), sheet_i = sheet, :\n",
      "\"Expecting date in A2608 / R2608C1: got '2019/10/07 11:54:25 AM AST'\"Warning message in read_fun(path = enc2native(normalizePath(path)), sheet_i = sheet, :\n",
      "\"Expecting date in A2609 / R2609C1: got '2019/10/07 11:55:49 AM AST'\"Warning message in read_fun(path = enc2native(normalizePath(path)), sheet_i = sheet, :\n",
      "\"Expecting date in A2610 / R2610C1: got '2019/10/07 12:02:01 PM AST'\"Warning message in read_fun(path = enc2native(normalizePath(path)), sheet_i = sheet, :\n",
      "\"Expecting date in A2611 / R2611C1: got '2019/10/07 12:07:02 AM AST'\"Warning message in read_fun(path = enc2native(normalizePath(path)), sheet_i = sheet, :\n",
      "\"Expecting date in A2612 / R2612C1: got '2019/10/07 12:15:32 PM AST'\"Warning message in read_fun(path = enc2native(normalizePath(path)), sheet_i = sheet, :\n",
      "\"Expecting date in A2613 / R2613C1: got '2019/10/07 12:16:35 PM AST'\"Warning message in read_fun(path = enc2native(normalizePath(path)), sheet_i = sheet, :\n",
      "\"Expecting date in A2614 / R2614C1: got '2019/10/07 12:21:30 PM AST'\"Warning message in read_fun(path = enc2native(normalizePath(path)), sheet_i = sheet, :\n",
      "\"Expecting date in A2615 / R2615C1: got '2019/10/07 12:42:59 PM AST'\"Warning message in read_fun(path = enc2native(normalizePath(path)), sheet_i = sheet, :\n",
      "\"Expecting date in A2616 / R2616C1: got '2019/10/07 12:53:37 PM AST'\"Warning message in read_fun(path = enc2native(normalizePath(path)), sheet_i = sheet, :\n",
      "\"Expecting date in A2617 / R2617C1: got '2019/10/07 12:59:34 PM AST'\"Warning message in read_fun(path = enc2native(normalizePath(path)), sheet_i = sheet, :\n",
      "\"Expecting date in A2618 / R2618C1: got '2019/10/07 2:16:37 PM AST'\"Warning message in read_fun(path = enc2native(normalizePath(path)), sheet_i = sheet, :\n",
      "\"Expecting date in A2619 / R2619C1: got '2019/10/07 3:31:08 PM AST'\"Warning message in read_fun(path = enc2native(normalizePath(path)), sheet_i = sheet, :\n",
      "\"Expecting date in A2620 / R2620C1: got '2019/10/07 3:53:30 PM AST'\"Warning message in read_fun(path = enc2native(normalizePath(path)), sheet_i = sheet, :\n",
      "\"Expecting date in A2621 / R2621C1: got '2019/10/07 4:27:26 PM AST'\"Warning message in read_fun(path = enc2native(normalizePath(path)), sheet_i = sheet, :\n",
      "\"Expecting date in A2622 / R2622C1: got '2019/10/07 5:09:17 PM AST'\"Warning message in read_fun(path = enc2native(normalizePath(path)), sheet_i = sheet, :\n",
      "\"Expecting date in A2623 / R2623C1: got '2019/10/07 6:58:32 AM AST'\"Warning message in read_fun(path = enc2native(normalizePath(path)), sheet_i = sheet, :\n",
      "\"Expecting date in A2624 / R2624C1: got '2019/10/09 3:30:16 PM AST'\"Warning message in read_fun(path = enc2native(normalizePath(path)), sheet_i = sheet, :\n",
      "\"Expecting date in A2625 / R2625C1: got '2019/10/09 3:33:52 PM AST'\"Warning message in read_fun(path = enc2native(normalizePath(path)), sheet_i = sheet, :\n",
      "\"Expecting date in A2626 / R2626C1: got '2019/10/09 3:35:59 PM AST'\"Warning message in read_fun(path = enc2native(normalizePath(path)), sheet_i = sheet, :\n",
      "\"Expecting date in A2627 / R2627C1: got '2019/10/09 5:20:39 PM AST'\"Warning message in read_fun(path = enc2native(normalizePath(path)), sheet_i = sheet, :\n",
      "\"Expecting date in A2628 / R2628C1: got '2019/10/10 12:45:13 PM AST'\"Warning message in read_fun(path = enc2native(normalizePath(path)), sheet_i = sheet, :\n",
      "\"Expecting date in A2629 / R2629C1: got '2019/10/11 1:23:00 PM AST'\"Warning message in read_fun(path = enc2native(normalizePath(path)), sheet_i = sheet, :\n",
      "\"Expecting date in A2630 / R2630C1: got '2019/10/11 11:39:46 AM AST'\"Warning message in read_fun(path = enc2native(normalizePath(path)), sheet_i = sheet, :\n",
      "\"Expecting date in A2631 / R2631C1: got '2019/10/11 11:55:12 AM AST'\"Warning message in read_fun(path = enc2native(normalizePath(path)), sheet_i = sheet, :\n",
      "\"Expecting date in A2632 / R2632C1: got '2019/10/11 12:01:02 PM AST'\"Warning message in read_fun(path = enc2native(normalizePath(path)), sheet_i = sheet, :\n",
      "\"Expecting date in A2633 / R2633C1: got '2019/10/11 12:17:23 PM AST'\"Warning message in read_fun(path = enc2native(normalizePath(path)), sheet_i = sheet, :\n",
      "\"Expecting date in A2634 / R2634C1: got '2019/10/11 12:21:56 PM AST'\"Warning message in read_fun(path = enc2native(normalizePath(path)), sheet_i = sheet, :\n",
      "\"Expecting date in A2635 / R2635C1: got '2019/10/11 12:30:00 PM AST'\"Warning message in read_fun(path = enc2native(normalizePath(path)), sheet_i = sheet, :\n",
      "\"Expecting date in A2636 / R2636C1: got '2019/10/11 2:14:47 PM AST'\"Warning message in read_fun(path = enc2native(normalizePath(path)), sheet_i = sheet, :\n",
      "\"Expecting date in A2637 / R2637C1: got '2019/10/11 2:31:26 PM AST'\""
     ]
    }
   ],
   "source": [
    "data <- read_excel(\"Math Department Diet Mood total .xlsx\")"
   ]
  },
  {
   "cell_type": "markdown",
   "metadata": {},
   "source": [
    "<b> Check data and variables"
   ]
  },
  {
   "cell_type": "code",
   "execution_count": 3,
   "metadata": {},
   "outputs": [
    {
     "data": {
      "text/html": [
       "<ol class=list-inline>\n",
       "\t<li>2636</li>\n",
       "\t<li>27</li>\n",
       "</ol>\n"
      ],
      "text/latex": [
       "\\begin{enumerate*}\n",
       "\\item 2636\n",
       "\\item 27\n",
       "\\end{enumerate*}\n"
      ],
      "text/markdown": [
       "1. 2636\n",
       "2. 27\n",
       "\n",
       "\n"
      ],
      "text/plain": [
       "[1] 2636   27"
      ]
     },
     "metadata": {},
     "output_type": "display_data"
    }
   ],
   "source": [
    "dim(data)"
   ]
  },
  {
   "cell_type": "code",
   "execution_count": 4,
   "metadata": {},
   "outputs": [
    {
     "name": "stdout",
     "output_type": "stream",
     "text": [
      "# A tibble: 2,533 x 1\n",
      "   Timestamp          \n",
      "   <fct>              \n",
      " 1 2014-03-11 06:39:38\n",
      " 2 2014-03-11 06:42:58\n",
      " 3 2014-03-11 07:04:07\n",
      " 4 2014-03-11 07:14:35\n",
      " 5 2014-03-11 07:17:27\n",
      " 6 2014-03-11 07:20:44\n",
      " 7 2014-03-11 07:33:16\n",
      " 8 2014-03-11 07:41:05\n",
      " 9 2014-03-11 07:45:39\n",
      "10 2014-03-11 07:46:18\n",
      "# ... with 2,523 more rows\n",
      "# A tibble: 4 x 1\n",
      "  `1. What is your gender?`\n",
      "  <fct>                    \n",
      "1 Female                   \n",
      "2 Male                     \n",
      "3 <NA>                     \n",
      "4 Other                    \n",
      "# A tibble: 10 x 1\n",
      "   `2. What is your age?`\n",
      "   <fct>                 \n",
      " 1 18-29                 \n",
      " 2 30-39                 \n",
      " 3 40-49                 \n",
      " 4 50 and above          \n",
      " 5 40-50                 \n",
      " 6 50-60                 \n",
      " 7 Over 70               \n",
      " 8 18-25                 \n",
      " 9 30-40                 \n",
      "10 25-29                 \n",
      "# A tibble: 10 x 1\n",
      "   `3. In which region you are living now?`\n",
      "   <fct>                                   \n",
      " 1 Asia                                    \n",
      " 2 North America/Central America           \n",
      " 3 Middle East/North Africa                \n",
      " 4 Europe                                  \n",
      " 5 Africa                                  \n",
      " 6 Australia                               \n",
      " 7 South America                           \n",
      " 8 Option 8                                \n",
      " 9 Australia /New Zealand                  \n",
      "10 Australia                               \n",
      "# A tibble: 9 x 1\n",
      "  `4. What is the highest level of education you have completed?`\n",
      "  <fct>                                                          \n",
      "1 2 or 4 Years of College Degree (AA, BA, BS)                    \n",
      "2 Master's Degree                                                \n",
      "3 Doctoral Degree                                                \n",
      "4 High School                                                    \n",
      "5 Professional Degree (MD, JD, PharmD, ...)                      \n",
      "6 Less than High School                                          \n",
      "7 Professional                                                   \n",
      "8 Graduate                                                       \n",
      "9 <NA>                                                           \n",
      "# A tibble: 18 x 1\n",
      "   `5. What is your dietary pattern?`                                      \n",
      "   <fct>                                                                   \n",
      " 1 Mediterranean Diet                                                      \n",
      " 2 Eastern Diet                                                            \n",
      " 3 Western Diet                                                            \n",
      " 4 Mediterrenean Diet                                                      \n",
      " 5 Mediterrean Diet                                                        \n",
      " 6 Mediterranean Diet                                                      \n",
      " 7 Western Diet                                                            \n",
      " 8 Eastern Diet (mostly rice products, dark leafy vegetables, fruits, nuts)\n",
      " 9 Korean Diet (mostly fish, soy, fermented vegetables)                    \n",
      "10 Vegetarian                                                              \n",
      "11 Vegan                                                                   \n",
      "12 Caribbean diet                                                          \n",
      "13 Western                                                                 \n",
      "14 Vegan diet                                                              \n",
      "15 <NA>                                                                    \n",
      "16 Korean Diet                                                             \n",
      "17 Asian Diet                                                              \n",
      "18 Sophomore                                                               \n",
      "# A tibble: 7 x 1\n",
      "  `6. On average week, how many times a day do you exercise at least 20 minutes~\n",
      "  <fct>                                                                         \n",
      "1 None                                                                          \n",
      "2 1 time                                                                        \n",
      "3 2 times                                                                       \n",
      "4 4 times                                                                       \n",
      "5 More than 4 times                                                             \n",
      "6 3 times                                                                       \n",
      "7 Western Diet                                                                  \n",
      "# A tibble: 8 x 1\n",
      "  `7. In the past 7 days, how many times did you eat breakfast?`\n",
      "  <fct>                                                         \n",
      "1 4 times                                                       \n",
      "2 6 or 7 times                                                  \n",
      "3 1 time                                                        \n",
      "4 5 times                                                       \n",
      "5 3 times                                                       \n",
      "6 2 times                                                       \n",
      "7 None                                                          \n",
      "8 Never                                                         \n",
      "# A tibble: 8 x 1\n",
      "  `8. On average week, how many times a day do you eat whole grain products?`\n",
      "  <fct>                                                                      \n",
      "1 More than 4 times                                                          \n",
      "2 1 time                                                                     \n",
      "3 2 times                                                                    \n",
      "4 None                                                                       \n",
      "5 4 times                                                                    \n",
      "6 3 times                                                                    \n",
      "7 2 times                                                                    \n",
      "8 <NA>                                                                       \n",
      "# A tibble: 9 x 1\n",
      "  `9. On average week, how many times a day do you have dairy products?`\n",
      "  <fct>                                                                 \n",
      "1 More than 4 times                                                     \n",
      "2 1 time                                                                \n",
      "3 2 times                                                               \n",
      "4 3 times                                                               \n",
      "5 4 times                                                               \n",
      "6 None                                                                  \n",
      "7 More that 4 times                                                     \n",
      "8 1 serving                                                             \n",
      "9 <NA>                                                                  \n",
      "# A tibble: 7 x 1\n",
      "  `10. On average week, how many times a day do you consume coffee or other sou~\n",
      "  <fct>                                                                         \n",
      "1 More than 4 times                                                             \n",
      "2 3 times                                                                       \n",
      "3 2 times                                                                       \n",
      "4 None                                                                          \n",
      "5 4 times                                                                       \n",
      "6 1 time                                                                        \n",
      "7 Never                                                                         \n",
      "# A tibble: 6 x 1\n",
      "  `11. On average week, how many times a day do you consume fruits?`\n",
      "  <fct>                                                             \n",
      "1 3 times                                                           \n",
      "2 4 times                                                           \n",
      "3 1 time                                                            \n",
      "4 2 times                                                           \n",
      "5 More than 4 times                                                 \n",
      "6 None                                                              \n",
      "# A tibble: 8 x 1\n",
      "  `12. On average week, how many times a day do you consume flaxseed, and or nu~\n",
      "  <fct>                                                                         \n",
      "1 1 time                                                                        \n",
      "2 3 times                                                                       \n",
      "3 None                                                                          \n",
      "4 More than 4 times                                                             \n",
      "5 2 times                                                                       \n",
      "6 4 times                                                                       \n",
      "7 3 times                                                                       \n",
      "8 3 timesÂ                                                                      \n",
      "# A tibble: 6 x 1\n",
      "  `13. On average week, how many times do you eat rice, and or pasta?`\n",
      "  <fct>                                                               \n",
      "1 More than 4 times                                                   \n",
      "2 2 times                                                             \n",
      "3 4 times                                                             \n",
      "4 3 times                                                             \n",
      "5 1 time                                                              \n",
      "6 None                                                                \n",
      "# A tibble: 6 x 1\n",
      "  `14. On average week, how times do you eat meat, chicken, or turkey?`\n",
      "  <fct>                                                                \n",
      "1 More than 4 times                                                    \n",
      "2 2 times                                                              \n",
      "3 4 times                                                              \n",
      "4 3 times                                                              \n",
      "5 1 time                                                               \n",
      "6 None                                                                 \n",
      "# A tibble: 7 x 1\n",
      "  `15. On average week, how many times do you eat dark green leafy vegetables?`\n",
      "  <fct>                                                                        \n",
      "1 1 time                                                                       \n",
      "2 2 times                                                                      \n",
      "3 4 times                                                                      \n",
      "4 More than 4 times                                                            \n",
      "5 3 times                                                                      \n",
      "6 None                                                                         \n",
      "7 1 serving                                                                    \n",
      "# A tibble: 7 x 1\n",
      "  `16. On average week, how many times do you eat beans?`\n",
      "  <fct>                                                  \n",
      "1 None                                                   \n",
      "2 1 time                                                 \n",
      "3 4 times                                                \n",
      "4 2 times                                                \n",
      "5 3 times                                                \n",
      "6 More than 4 times                                      \n",
      "7 2 times                                                \n",
      "# A tibble: 6 x 1\n",
      "  `17. On average week, how many times do you eat fish and shellfish (including~\n",
      "  <fct>                                                                         \n",
      "1 1 time                                                                        \n",
      "2 None                                                                          \n",
      "3 3 times                                                                       \n",
      "4 2 times                                                                       \n",
      "5 More than 4 times                                                             \n",
      "6 4 times                                                                       \n",
      "# A tibble: 6 x 1\n",
      "  `18. On average week, how many times do you eat fast foods or pre-made food?`\n",
      "  <fct>                                                                        \n",
      "1 None                                                                         \n",
      "2 1 time                                                                       \n",
      "3 4 times                                                                      \n",
      "4 More than 4 times                                                            \n",
      "5 2 times                                                                      \n",
      "6 3 times                                                                      \n",
      "# A tibble: 6 x 1\n",
      "  `19. On average week, how many times do you take multivitamin supplements?`\n",
      "  <fct>                                                                      \n",
      "1 None                                                                       \n",
      "2 More than 4 times                                                          \n",
      "3 2 times                                                                    \n",
      "4 1 time                                                                     \n",
      "5 3 times                                                                    \n",
      "6 4 times                                                                    \n",
      "# A tibble: 7 x 1\n",
      "  `20. On average week, how many times do you take fish oil supplements?`\n",
      "  <fct>                                                                  \n",
      "1 None                                                                   \n",
      "2 1 time                                                                 \n",
      "3 More than 4 times                                                      \n",
      "4 2 times                                                                \n",
      "5 3 times                                                                \n",
      "6 4 times                                                                \n",
      "7 1 times                                                                \n",
      "# A tibble: 6 x 1\n",
      "  `21. During the past month, about how often did you feel NERVOUS?`\n",
      "  <fct>                                                             \n",
      "1 All the time                                                      \n",
      "2 Some of the time                                                  \n",
      "3 Most of the time                                                  \n",
      "4 None of the time                                                  \n",
      "5 A little of the time                                              \n",
      "6 None                                                              \n",
      "# A tibble: 5 x 1\n",
      "  `21. During the past month, about how often did you feel HOPELESS?`\n",
      "  <fct>                                                              \n",
      "1 Most of the time                                                   \n",
      "2 A little of the time                                               \n",
      "3 None of the time                                                   \n",
      "4 All the time                                                       \n",
      "5 Some of the time                                                   \n",
      "# A tibble: 5 x 1\n",
      "  `22. During the past month, about how often did you feel RESTLESS or FIDGETY?`\n",
      "  <fct>                                                                         \n",
      "1 Most of the time                                                              \n",
      "2 A little of the time                                                          \n",
      "3 Some of the time                                                              \n",
      "4 All the time                                                                  \n",
      "5 None of the time                                                              \n",
      "# A tibble: 5 x 1\n",
      "  `23. During the past month, about how often did you feel SO DEPRESSED THAT NO~\n",
      "  <fct>                                                                         \n",
      "1 Most of the time                                                              \n",
      "2 A little of the time                                                          \n",
      "3 None of the time                                                              \n",
      "4 All the time                                                                  \n",
      "5 Some of the time                                                              \n",
      "# A tibble: 5 x 1\n",
      "  `24. During the past month, about how often did you feel THAT EVERYTHING WAS ~\n",
      "  <fct>                                                                         \n",
      "1 Most of the time                                                              \n",
      "2 Some of the time                                                              \n",
      "3 None of the time                                                              \n",
      "4 All the time                                                                  \n",
      "5 A little of the time                                                          \n",
      "# A tibble: 5 x 1\n",
      "  `25. During the past month, about how often did you feel WORTHLESS?`\n",
      "  <fct>                                                               \n",
      "1 Some of the time                                                    \n",
      "2 None of the time                                                    \n",
      "3 Most of the time                                                    \n",
      "4 All the time                                                        \n",
      "5 A little of the time                                                \n"
     ]
    }
   ],
   "source": [
    "for (i in 1:length(data)) {\n",
    "  data[,i] = as.factor(as.matrix(data[,i]))\n",
    "  print(unique(data[,i]))\n",
    "}"
   ]
  },
  {
   "cell_type": "markdown",
   "metadata": {},
   "source": [
    "<b> Rename the data"
   ]
  },
  {
   "cell_type": "code",
   "execution_count": 5,
   "metadata": {},
   "outputs": [
    {
     "data": {
      "text/html": [
       "<ol class=list-inline>\n",
       "\t<li>'timestamp'</li>\n",
       "\t<li>'gender'</li>\n",
       "\t<li>'age'</li>\n",
       "\t<li>'region'</li>\n",
       "\t<li>'education'</li>\n",
       "\t<li>'diet'</li>\n",
       "\t<li>'exercise'</li>\n",
       "\t<li>'breakfast'</li>\n",
       "\t<li>'whole_grain'</li>\n",
       "\t<li>'dairy_product'</li>\n",
       "\t<li>'coffee'</li>\n",
       "\t<li>'fruits'</li>\n",
       "\t<li>'flaxseed_nuts'</li>\n",
       "\t<li>'rice_pasta'</li>\n",
       "\t<li>'meat'</li>\n",
       "\t<li>'vegetables'</li>\n",
       "\t<li>'beans'</li>\n",
       "\t<li>'fish'</li>\n",
       "\t<li>'fast_food'</li>\n",
       "\t<li>'multivitamin'</li>\n",
       "\t<li>'fish_oil'</li>\n",
       "\t<li>'nervous'</li>\n",
       "\t<li>'hopeless'</li>\n",
       "\t<li>'restless'</li>\n",
       "\t<li>'depressed'</li>\n",
       "\t<li>'effort'</li>\n",
       "\t<li>'worthless'</li>\n",
       "</ol>\n"
      ],
      "text/latex": [
       "\\begin{enumerate*}\n",
       "\\item 'timestamp'\n",
       "\\item 'gender'\n",
       "\\item 'age'\n",
       "\\item 'region'\n",
       "\\item 'education'\n",
       "\\item 'diet'\n",
       "\\item 'exercise'\n",
       "\\item 'breakfast'\n",
       "\\item 'whole\\_grain'\n",
       "\\item 'dairy\\_product'\n",
       "\\item 'coffee'\n",
       "\\item 'fruits'\n",
       "\\item 'flaxseed\\_nuts'\n",
       "\\item 'rice\\_pasta'\n",
       "\\item 'meat'\n",
       "\\item 'vegetables'\n",
       "\\item 'beans'\n",
       "\\item 'fish'\n",
       "\\item 'fast\\_food'\n",
       "\\item 'multivitamin'\n",
       "\\item 'fish\\_oil'\n",
       "\\item 'nervous'\n",
       "\\item 'hopeless'\n",
       "\\item 'restless'\n",
       "\\item 'depressed'\n",
       "\\item 'effort'\n",
       "\\item 'worthless'\n",
       "\\end{enumerate*}\n"
      ],
      "text/markdown": [
       "1. 'timestamp'\n",
       "2. 'gender'\n",
       "3. 'age'\n",
       "4. 'region'\n",
       "5. 'education'\n",
       "6. 'diet'\n",
       "7. 'exercise'\n",
       "8. 'breakfast'\n",
       "9. 'whole_grain'\n",
       "10. 'dairy_product'\n",
       "11. 'coffee'\n",
       "12. 'fruits'\n",
       "13. 'flaxseed_nuts'\n",
       "14. 'rice_pasta'\n",
       "15. 'meat'\n",
       "16. 'vegetables'\n",
       "17. 'beans'\n",
       "18. 'fish'\n",
       "19. 'fast_food'\n",
       "20. 'multivitamin'\n",
       "21. 'fish_oil'\n",
       "22. 'nervous'\n",
       "23. 'hopeless'\n",
       "24. 'restless'\n",
       "25. 'depressed'\n",
       "26. 'effort'\n",
       "27. 'worthless'\n",
       "\n",
       "\n"
      ],
      "text/plain": [
       " [1] \"timestamp\"     \"gender\"        \"age\"           \"region\"       \n",
       " [5] \"education\"     \"diet\"          \"exercise\"      \"breakfast\"    \n",
       " [9] \"whole_grain\"   \"dairy_product\" \"coffee\"        \"fruits\"       \n",
       "[13] \"flaxseed_nuts\" \"rice_pasta\"    \"meat\"          \"vegetables\"   \n",
       "[17] \"beans\"         \"fish\"          \"fast_food\"     \"multivitamin\" \n",
       "[21] \"fish_oil\"      \"nervous\"       \"hopeless\"      \"restless\"     \n",
       "[25] \"depressed\"     \"effort\"        \"worthless\"    "
      ]
     },
     "metadata": {},
     "output_type": "display_data"
    }
   ],
   "source": [
    "names(data) = c(\"timestamp\",\"gender\",\"age\",\"region\",\"education\",\"diet\",\n",
    "                \"exercise\",\"breakfast\",\"whole_grain\",\"dairy_product\",\"coffee\",\n",
    "                \"fruits\",\"flaxseed_nuts\",\"rice_pasta\",\"meat\",\"vegetables\",\"beans\"\n",
    "                ,\"fish\",\"fast_food\",\"multivitamin\",\"fish_oil\",\n",
    "                \"nervous\",\"hopeless\",\"restless\",\"depressed\",\"effort\",\"worthless\")\n",
    "names(data)"
   ]
  },
  {
   "cell_type": "markdown",
   "metadata": {},
   "source": [
    "# 1.1 Cleaning the data "
   ]
  },
  {
   "cell_type": "markdown",
   "metadata": {},
   "source": [
    "### Remove observations with N/A"
   ]
  },
  {
   "cell_type": "code",
   "execution_count": 6,
   "metadata": {},
   "outputs": [
    {
     "data": {
      "text/html": [
       "2328"
      ],
      "text/latex": [
       "2328"
      ],
      "text/markdown": [
       "2328"
      ],
      "text/plain": [
       "[1] 2328"
      ]
     },
     "metadata": {},
     "output_type": "display_data"
    }
   ],
   "source": [
    "data = na.omit(data)\n",
    "dim(data)[1]"
   ]
  },
  {
   "cell_type": "markdown",
   "metadata": {},
   "source": [
    "### Remove, combine and rename"
   ]
  },
  {
   "cell_type": "markdown",
   "metadata": {},
   "source": [
    "For **Gender**:\n",
    "\n",
    "There is only one **Other** observation. For better analysis on data, I remove levels with only one observation, the same for other variables."
   ]
  },
  {
   "cell_type": "code",
   "execution_count": 7,
   "metadata": {},
   "outputs": [
    {
     "data": {
      "text/html": [
       "2327"
      ],
      "text/latex": [
       "2327"
      ],
      "text/markdown": [
       "2327"
      ],
      "text/plain": [
       "[1] 2327"
      ]
     },
     "metadata": {},
     "output_type": "display_data"
    }
   ],
   "source": [
    "data = data [-which(data$gender=='Other'),]\n",
    "dim(data)[1]"
   ]
  },
  {
   "cell_type": "markdown",
   "metadata": {},
   "source": [
    "Check **Gender** levels"
   ]
  },
  {
   "cell_type": "code",
   "execution_count": 8,
   "metadata": {},
   "outputs": [
    {
     "data": {
      "text/html": [
       "<table>\n",
       "<thead><tr><th scope=col>gender</th></tr></thead>\n",
       "<tbody>\n",
       "\t<tr><td>Female</td></tr>\n",
       "\t<tr><td>Male  </td></tr>\n",
       "</tbody>\n",
       "</table>\n"
      ],
      "text/latex": [
       "\\begin{tabular}{r|l}\n",
       " gender\\\\\n",
       "\\hline\n",
       "\t Female\\\\\n",
       "\t Male  \\\\\n",
       "\\end{tabular}\n"
      ],
      "text/markdown": [
       "\n",
       "| gender |\n",
       "|---|\n",
       "| Female |\n",
       "| Male   |\n",
       "\n"
      ],
      "text/plain": [
       "  gender\n",
       "1 Female\n",
       "2 Male  "
      ]
     },
     "metadata": {},
     "output_type": "display_data"
    }
   ],
   "source": [
    "unique(data[,2])"
   ]
  },
  {
   "cell_type": "markdown",
   "metadata": {},
   "source": [
    "----"
   ]
  },
  {
   "cell_type": "markdown",
   "metadata": {},
   "source": [
    "For **Region**:\n",
    "- There are two **Option 8** observations.\n",
    "- There are repeated levels such as: **Middle East/North Africa** and **Africa**, **Australia** and **Australia /New Zealand**. I combine those observations into **Africa** and **Australia**."
   ]
  },
  {
   "cell_type": "code",
   "execution_count": 9,
   "metadata": {},
   "outputs": [
    {
     "data": {
      "text/html": [
       "<table>\n",
       "<thead><tr><th scope=col>region</th></tr></thead>\n",
       "<tbody>\n",
       "\t<tr><td>Asia                         </td></tr>\n",
       "\t<tr><td>North America/Central America</td></tr>\n",
       "\t<tr><td>Middle East/North Africa     </td></tr>\n",
       "\t<tr><td>Europe                       </td></tr>\n",
       "\t<tr><td>Africa                       </td></tr>\n",
       "\t<tr><td>Australia                    </td></tr>\n",
       "\t<tr><td>South America                </td></tr>\n",
       "\t<tr><td>Option 8                     </td></tr>\n",
       "\t<tr><td>Australia /New Zealand       </td></tr>\n",
       "\t<tr><td>Australia                    </td></tr>\n",
       "</tbody>\n",
       "</table>\n"
      ],
      "text/latex": [
       "\\begin{tabular}{r|l}\n",
       " region\\\\\n",
       "\\hline\n",
       "\t Asia                         \\\\\n",
       "\t North America/Central America\\\\\n",
       "\t Middle East/North Africa     \\\\\n",
       "\t Europe                       \\\\\n",
       "\t Africa                       \\\\\n",
       "\t Australia                    \\\\\n",
       "\t South America                \\\\\n",
       "\t Option 8                     \\\\\n",
       "\t Australia /New Zealand       \\\\\n",
       "\t Australia                    \\\\\n",
       "\\end{tabular}\n"
      ],
      "text/markdown": [
       "\n",
       "| region |\n",
       "|---|\n",
       "| Asia                          |\n",
       "| North America/Central America |\n",
       "| Middle East/North Africa      |\n",
       "| Europe                        |\n",
       "| Africa                        |\n",
       "| Australia                     |\n",
       "| South America                 |\n",
       "| Option 8                      |\n",
       "| Australia /New Zealand        |\n",
       "| Australia                     |\n",
       "\n"
      ],
      "text/plain": [
       "   region                       \n",
       "1  Asia                         \n",
       "2  North America/Central America\n",
       "3  Middle East/North Africa     \n",
       "4  Europe                       \n",
       "5  Africa                       \n",
       "6  Australia                    \n",
       "7  South America                \n",
       "8  Option 8                     \n",
       "9  Australia /New Zealand       \n",
       "10 Australia                    "
      ]
     },
     "metadata": {},
     "output_type": "display_data"
    }
   ],
   "source": [
    "ureg = unique(data$region)\n",
    "unique(data[,4])"
   ]
  },
  {
   "cell_type": "code",
   "execution_count": 10,
   "metadata": {
    "scrolled": true
   },
   "outputs": [
    {
     "data": {
      "text/html": [
       "2325"
      ],
      "text/latex": [
       "2325"
      ],
      "text/markdown": [
       "2325"
      ],
      "text/plain": [
       "[1] 2325"
      ]
     },
     "metadata": {},
     "output_type": "display_data"
    }
   ],
   "source": [
    "data = data [-which(data$region==ureg[8]),]\n",
    "dim(data)[1]"
   ]
  },
  {
   "cell_type": "code",
   "execution_count": 11,
   "metadata": {},
   "outputs": [
    {
     "data": {
      "text/html": [
       "2325"
      ],
      "text/latex": [
       "2325"
      ],
      "text/markdown": [
       "2325"
      ],
      "text/plain": [
       "[1] 2325"
      ]
     },
     "metadata": {},
     "output_type": "display_data"
    }
   ],
   "source": [
    "#combine into Africa\n",
    "data$region[which(data$region==ureg[3])] = ureg[5]\n",
    "#combine into Australia/New Zealand\n",
    "data$region[which(data$region==ureg[6])] = ureg[9]\n",
    "data$region[which(data$region==ureg[10])] = ureg[9]\n",
    "dim(data)[1]"
   ]
  },
  {
   "cell_type": "markdown",
   "metadata": {},
   "source": [
    "Check **Region** levels"
   ]
  },
  {
   "cell_type": "code",
   "execution_count": 12,
   "metadata": {
    "scrolled": true
   },
   "outputs": [
    {
     "data": {
      "text/html": [
       "<table>\n",
       "<thead><tr><th scope=col>region</th></tr></thead>\n",
       "<tbody>\n",
       "\t<tr><td>Asia                         </td></tr>\n",
       "\t<tr><td>North America/Central America</td></tr>\n",
       "\t<tr><td>Africa                       </td></tr>\n",
       "\t<tr><td>Europe                       </td></tr>\n",
       "\t<tr><td>Australia /New Zealand       </td></tr>\n",
       "\t<tr><td>South America                </td></tr>\n",
       "</tbody>\n",
       "</table>\n"
      ],
      "text/latex": [
       "\\begin{tabular}{r|l}\n",
       " region\\\\\n",
       "\\hline\n",
       "\t Asia                         \\\\\n",
       "\t North America/Central America\\\\\n",
       "\t Africa                       \\\\\n",
       "\t Europe                       \\\\\n",
       "\t Australia /New Zealand       \\\\\n",
       "\t South America                \\\\\n",
       "\\end{tabular}\n"
      ],
      "text/markdown": [
       "\n",
       "| region |\n",
       "|---|\n",
       "| Asia                          |\n",
       "| North America/Central America |\n",
       "| Africa                        |\n",
       "| Europe                        |\n",
       "| Australia /New Zealand        |\n",
       "| South America                 |\n",
       "\n"
      ],
      "text/plain": [
       "  region                       \n",
       "1 Asia                         \n",
       "2 North America/Central America\n",
       "3 Africa                       \n",
       "4 Europe                       \n",
       "5 Australia /New Zealand       \n",
       "6 South America                "
      ]
     },
     "metadata": {},
     "output_type": "display_data"
    }
   ],
   "source": [
    "unique(data[,4])"
   ]
  },
  {
   "cell_type": "markdown",
   "metadata": {},
   "source": [
    "----"
   ]
  },
  {
   "cell_type": "markdown",
   "metadata": {},
   "source": [
    "For **Diet** (type):\n",
    "- There are repeated levels, such as **Mediterranean Diet** due to the spelling.\n",
    "- There are **Sophomore** observations, which are levels from other column.\n",
    "- **Asian diet, Caribbean diet, Korean diet, Vegan diet** each only has one observations."
   ]
  },
  {
   "cell_type": "code",
   "execution_count": 13,
   "metadata": {},
   "outputs": [
    {
     "data": {
      "text/html": [
       "<table>\n",
       "<thead><tr><th scope=col>diet</th></tr></thead>\n",
       "<tbody>\n",
       "\t<tr><td>Mediterranean Diet </td></tr>\n",
       "\t<tr><td>Eastern Diet       </td></tr>\n",
       "\t<tr><td>Western Diet       </td></tr>\n",
       "\t<tr><td>Mediterrenean Diet </td></tr>\n",
       "\t<tr><td>Mediterrean Diet   </td></tr>\n",
       "\t<tr><td>Western Diet       </td></tr>\n",
       "\t<tr><td>Vegetarian         </td></tr>\n",
       "\t<tr><td>Vegan              </td></tr>\n",
       "\t<tr><td>Caribbean diet     </td></tr>\n",
       "\t<tr><td>Mediterranean Diet </td></tr>\n",
       "\t<tr><td>Western            </td></tr>\n",
       "\t<tr><td>Vegan diet         </td></tr>\n",
       "\t<tr><td>Korean Diet        </td></tr>\n",
       "\t<tr><td>Asian Diet         </td></tr>\n",
       "\t<tr><td>Sophomore          </td></tr>\n",
       "</tbody>\n",
       "</table>\n"
      ],
      "text/latex": [
       "\\begin{tabular}{r|l}\n",
       " diet\\\\\n",
       "\\hline\n",
       "\t Mediterranean Diet \\\\\n",
       "\t Eastern Diet       \\\\\n",
       "\t Western Diet       \\\\\n",
       "\t Mediterrenean Diet \\\\\n",
       "\t Mediterrean Diet   \\\\\n",
       "\t Western Diet       \\\\\n",
       "\t Vegetarian         \\\\\n",
       "\t Vegan              \\\\\n",
       "\t Caribbean diet     \\\\\n",
       "\t Mediterranean Diet \\\\\n",
       "\t Western            \\\\\n",
       "\t Vegan diet         \\\\\n",
       "\t Korean Diet        \\\\\n",
       "\t Asian Diet         \\\\\n",
       "\t Sophomore          \\\\\n",
       "\\end{tabular}\n"
      ],
      "text/markdown": [
       "\n",
       "| diet |\n",
       "|---|\n",
       "| Mediterranean Diet  |\n",
       "| Eastern Diet        |\n",
       "| Western Diet        |\n",
       "| Mediterrenean Diet  |\n",
       "| Mediterrean Diet    |\n",
       "| Western Diet        |\n",
       "| Vegetarian          |\n",
       "| Vegan               |\n",
       "| Caribbean diet      |\n",
       "| Mediterranean Diet  |\n",
       "| Western             |\n",
       "| Vegan diet          |\n",
       "| Korean Diet         |\n",
       "| Asian Diet          |\n",
       "| Sophomore           |\n",
       "\n"
      ],
      "text/plain": [
       "   diet               \n",
       "1  Mediterranean Diet \n",
       "2  Eastern Diet       \n",
       "3  Western Diet       \n",
       "4  Mediterrenean Diet \n",
       "5  Mediterrean Diet   \n",
       "6  Western Diet       \n",
       "7  Vegetarian         \n",
       "8  Vegan              \n",
       "9  Caribbean diet     \n",
       "10 Mediterranean Diet \n",
       "11 Western            \n",
       "12 Vegan diet         \n",
       "13 Korean Diet        \n",
       "14 Asian Diet         \n",
       "15 Sophomore          "
      ]
     },
     "metadata": {},
     "output_type": "display_data"
    }
   ],
   "source": [
    "udt = unique(data$diet)\n",
    "unique(data[,6])"
   ]
  },
  {
   "cell_type": "code",
   "execution_count": 14,
   "metadata": {},
   "outputs": [
    {
     "data": {
      "text/html": [
       "2323"
      ],
      "text/latex": [
       "2323"
      ],
      "text/markdown": [
       "2323"
      ],
      "text/plain": [
       "[1] 2323"
      ]
     },
     "metadata": {},
     "output_type": "display_data"
    },
    {
     "data": {
      "text/html": [
       "2314"
      ],
      "text/latex": [
       "2314"
      ],
      "text/markdown": [
       "2314"
      ],
      "text/plain": [
       "[1] 2314"
      ]
     },
     "metadata": {},
     "output_type": "display_data"
    }
   ],
   "source": [
    "#combine all Mediterranean Diet\n",
    "data$diet[which(data$diet==udt[1])] = udt[10]\n",
    "data$diet[which(data$diet==udt[4])] = udt[10]\n",
    "data$diet[which(data$diet==udt[5])] = udt[10]\n",
    "#combine all Western Diet\n",
    "data$diet[which(data$diet==udt[3])] = udt[6]\n",
    "data$diet[which(data$diet==udt[11])] = udt[6]\n",
    "#remove Sophomore observations\n",
    "data = data[-which(data$diet==udt[15]),]\n",
    "dim(data)[1]\n",
    "#remove Asian diet, Caribbean diet, Korean diet, Vegan diet\n",
    "data = data[-which(data$diet==udt[7]),]\n",
    "data = data[-which(data$diet==udt[8]),]\n",
    "data = data[-which(data$diet==udt[9]),]\n",
    "data = data[-which(data$diet==udt[12]),]\n",
    "data = data[-which(data$diet==udt[13]),]\n",
    "data = data[-which(data$diet==udt[14]),]\n",
    "dim(data)[1]"
   ]
  },
  {
   "cell_type": "markdown",
   "metadata": {},
   "source": [
    "Check **Diet** levels"
   ]
  },
  {
   "cell_type": "code",
   "execution_count": 15,
   "metadata": {},
   "outputs": [
    {
     "data": {
      "text/html": [
       "<table>\n",
       "<thead><tr><th scope=col>diet</th></tr></thead>\n",
       "<tbody>\n",
       "\t<tr><td>Mediterranean Diet</td></tr>\n",
       "\t<tr><td>Eastern Diet      </td></tr>\n",
       "\t<tr><td>Western Diet      </td></tr>\n",
       "</tbody>\n",
       "</table>\n"
      ],
      "text/latex": [
       "\\begin{tabular}{r|l}\n",
       " diet\\\\\n",
       "\\hline\n",
       "\t Mediterranean Diet\\\\\n",
       "\t Eastern Diet      \\\\\n",
       "\t Western Diet      \\\\\n",
       "\\end{tabular}\n"
      ],
      "text/markdown": [
       "\n",
       "| diet |\n",
       "|---|\n",
       "| Mediterranean Diet |\n",
       "| Eastern Diet       |\n",
       "| Western Diet       |\n",
       "\n"
      ],
      "text/plain": [
       "  diet              \n",
       "1 Mediterranean Diet\n",
       "2 Eastern Diet      \n",
       "3 Western Diet      "
      ]
     },
     "metadata": {},
     "output_type": "display_data"
    }
   ],
   "source": [
    "unique(data[,6])"
   ]
  },
  {
   "cell_type": "markdown",
   "metadata": {},
   "source": [
    "---"
   ]
  },
  {
   "cell_type": "markdown",
   "metadata": {},
   "source": [
    "For **Breakfast**:"
   ]
  },
  {
   "cell_type": "code",
   "execution_count": 16,
   "metadata": {},
   "outputs": [
    {
     "data": {
      "text/html": [
       "<table>\n",
       "<thead><tr><th scope=col>breakfast</th></tr></thead>\n",
       "<tbody>\n",
       "\t<tr><td>4 times     </td></tr>\n",
       "\t<tr><td>6 or 7 times</td></tr>\n",
       "\t<tr><td>1 time      </td></tr>\n",
       "\t<tr><td>5 times     </td></tr>\n",
       "\t<tr><td>3 times     </td></tr>\n",
       "\t<tr><td>2 times     </td></tr>\n",
       "\t<tr><td>None        </td></tr>\n",
       "\t<tr><td>Never       </td></tr>\n",
       "</tbody>\n",
       "</table>\n"
      ],
      "text/latex": [
       "\\begin{tabular}{r|l}\n",
       " breakfast\\\\\n",
       "\\hline\n",
       "\t 4 times     \\\\\n",
       "\t 6 or 7 times\\\\\n",
       "\t 1 time      \\\\\n",
       "\t 5 times     \\\\\n",
       "\t 3 times     \\\\\n",
       "\t 2 times     \\\\\n",
       "\t None        \\\\\n",
       "\t Never       \\\\\n",
       "\\end{tabular}\n"
      ],
      "text/markdown": [
       "\n",
       "| breakfast |\n",
       "|---|\n",
       "| 4 times      |\n",
       "| 6 or 7 times |\n",
       "| 1 time       |\n",
       "| 5 times      |\n",
       "| 3 times      |\n",
       "| 2 times      |\n",
       "| None         |\n",
       "| Never        |\n",
       "\n"
      ],
      "text/plain": [
       "  breakfast   \n",
       "1 4 times     \n",
       "2 6 or 7 times\n",
       "3 1 time      \n",
       "4 5 times     \n",
       "5 3 times     \n",
       "6 2 times     \n",
       "7 None        \n",
       "8 Never       "
      ]
     },
     "metadata": {},
     "output_type": "display_data"
    }
   ],
   "source": [
    "u8 = unique(data$breakfast)\n",
    "unique(data[,8])"
   ]
  },
  {
   "cell_type": "code",
   "execution_count": 17,
   "metadata": {},
   "outputs": [
    {
     "data": {
      "text/html": [
       "2314"
      ],
      "text/latex": [
       "2314"
      ],
      "text/markdown": [
       "2314"
      ],
      "text/plain": [
       "[1] 2314"
      ]
     },
     "metadata": {},
     "output_type": "display_data"
    }
   ],
   "source": [
    "data$breakfast[which(data$breakfast==u8[8])] = u8[7]\n",
    "dim(data)[1]"
   ]
  },
  {
   "cell_type": "markdown",
   "metadata": {},
   "source": [
    "Check **Breakfast** levels:"
   ]
  },
  {
   "cell_type": "code",
   "execution_count": 18,
   "metadata": {},
   "outputs": [
    {
     "data": {
      "text/html": [
       "<table>\n",
       "<thead><tr><th scope=col>breakfast</th></tr></thead>\n",
       "<tbody>\n",
       "\t<tr><td>4 times     </td></tr>\n",
       "\t<tr><td>6 or 7 times</td></tr>\n",
       "\t<tr><td>1 time      </td></tr>\n",
       "\t<tr><td>5 times     </td></tr>\n",
       "\t<tr><td>3 times     </td></tr>\n",
       "\t<tr><td>2 times     </td></tr>\n",
       "\t<tr><td>None        </td></tr>\n",
       "</tbody>\n",
       "</table>\n"
      ],
      "text/latex": [
       "\\begin{tabular}{r|l}\n",
       " breakfast\\\\\n",
       "\\hline\n",
       "\t 4 times     \\\\\n",
       "\t 6 or 7 times\\\\\n",
       "\t 1 time      \\\\\n",
       "\t 5 times     \\\\\n",
       "\t 3 times     \\\\\n",
       "\t 2 times     \\\\\n",
       "\t None        \\\\\n",
       "\\end{tabular}\n"
      ],
      "text/markdown": [
       "\n",
       "| breakfast |\n",
       "|---|\n",
       "| 4 times      |\n",
       "| 6 or 7 times |\n",
       "| 1 time       |\n",
       "| 5 times      |\n",
       "| 3 times      |\n",
       "| 2 times      |\n",
       "| None         |\n",
       "\n"
      ],
      "text/plain": [
       "  breakfast   \n",
       "1 4 times     \n",
       "2 6 or 7 times\n",
       "3 1 time      \n",
       "4 5 times     \n",
       "5 3 times     \n",
       "6 2 times     \n",
       "7 None        "
      ]
     },
     "metadata": {},
     "output_type": "display_data"
    }
   ],
   "source": [
    "unique(data[,8])"
   ]
  },
  {
   "cell_type": "markdown",
   "metadata": {},
   "source": [
    "---"
   ]
  },
  {
   "cell_type": "markdown",
   "metadata": {},
   "source": [
    "For **Whole grain**:"
   ]
  },
  {
   "cell_type": "code",
   "execution_count": 19,
   "metadata": {},
   "outputs": [
    {
     "data": {
      "text/html": [
       "<table>\n",
       "<thead><tr><th scope=col>whole_grain</th></tr></thead>\n",
       "<tbody>\n",
       "\t<tr><td>More than 4 times</td></tr>\n",
       "\t<tr><td>1 time           </td></tr>\n",
       "\t<tr><td>2 times          </td></tr>\n",
       "\t<tr><td>None             </td></tr>\n",
       "\t<tr><td>4 times          </td></tr>\n",
       "\t<tr><td>3 times          </td></tr>\n",
       "\t<tr><td>2 times          </td></tr>\n",
       "</tbody>\n",
       "</table>\n"
      ],
      "text/latex": [
       "\\begin{tabular}{r|l}\n",
       " whole\\_grain\\\\\n",
       "\\hline\n",
       "\t More than 4 times\\\\\n",
       "\t 1 time           \\\\\n",
       "\t 2 times          \\\\\n",
       "\t None             \\\\\n",
       "\t 4 times          \\\\\n",
       "\t 3 times          \\\\\n",
       "\t 2 times          \\\\\n",
       "\\end{tabular}\n"
      ],
      "text/markdown": [
       "\n",
       "| whole_grain |\n",
       "|---|\n",
       "| More than 4 times |\n",
       "| 1 time            |\n",
       "| 2 times           |\n",
       "| None              |\n",
       "| 4 times           |\n",
       "| 3 times           |\n",
       "| 2 times           |\n",
       "\n"
      ],
      "text/plain": [
       "  whole_grain      \n",
       "1 More than 4 times\n",
       "2 1 time           \n",
       "3 2 times          \n",
       "4 None             \n",
       "5 4 times          \n",
       "6 3 times          \n",
       "7 2 times          "
      ]
     },
     "metadata": {},
     "output_type": "display_data"
    }
   ],
   "source": [
    "u9 = unique(data$whole_grain)\n",
    "unique(data[,9])"
   ]
  },
  {
   "cell_type": "code",
   "execution_count": 20,
   "metadata": {},
   "outputs": [
    {
     "data": {
      "text/html": [
       "2314"
      ],
      "text/latex": [
       "2314"
      ],
      "text/markdown": [
       "2314"
      ],
      "text/plain": [
       "[1] 2314"
      ]
     },
     "metadata": {},
     "output_type": "display_data"
    }
   ],
   "source": [
    "data$whole_grain[which(data$whole_grain==u9[3])] = u9[7]\n",
    "dim(data)[1]"
   ]
  },
  {
   "cell_type": "markdown",
   "metadata": {},
   "source": [
    "Check **Whole grain** levels:"
   ]
  },
  {
   "cell_type": "code",
   "execution_count": 21,
   "metadata": {},
   "outputs": [
    {
     "data": {
      "text/html": [
       "<table>\n",
       "<thead><tr><th scope=col>whole_grain</th></tr></thead>\n",
       "<tbody>\n",
       "\t<tr><td>More than 4 times</td></tr>\n",
       "\t<tr><td>1 time           </td></tr>\n",
       "\t<tr><td>2 times          </td></tr>\n",
       "\t<tr><td>None             </td></tr>\n",
       "\t<tr><td>4 times          </td></tr>\n",
       "\t<tr><td>3 times          </td></tr>\n",
       "</tbody>\n",
       "</table>\n"
      ],
      "text/latex": [
       "\\begin{tabular}{r|l}\n",
       " whole\\_grain\\\\\n",
       "\\hline\n",
       "\t More than 4 times\\\\\n",
       "\t 1 time           \\\\\n",
       "\t 2 times          \\\\\n",
       "\t None             \\\\\n",
       "\t 4 times          \\\\\n",
       "\t 3 times          \\\\\n",
       "\\end{tabular}\n"
      ],
      "text/markdown": [
       "\n",
       "| whole_grain |\n",
       "|---|\n",
       "| More than 4 times |\n",
       "| 1 time            |\n",
       "| 2 times           |\n",
       "| None              |\n",
       "| 4 times           |\n",
       "| 3 times           |\n",
       "\n"
      ],
      "text/plain": [
       "  whole_grain      \n",
       "1 More than 4 times\n",
       "2 1 time           \n",
       "3 2 times          \n",
       "4 None             \n",
       "5 4 times          \n",
       "6 3 times          "
      ]
     },
     "metadata": {},
     "output_type": "display_data"
    }
   ],
   "source": [
    "unique(data[,9])"
   ]
  },
  {
   "cell_type": "markdown",
   "metadata": {},
   "source": [
    "---"
   ]
  },
  {
   "cell_type": "markdown",
   "metadata": {},
   "source": [
    "For **Dairy product**:"
   ]
  },
  {
   "cell_type": "code",
   "execution_count": 22,
   "metadata": {
    "scrolled": true
   },
   "outputs": [
    {
     "data": {
      "text/html": [
       "<table>\n",
       "<thead><tr><th scope=col>dairy_product</th></tr></thead>\n",
       "<tbody>\n",
       "\t<tr><td>More than 4 times</td></tr>\n",
       "\t<tr><td>1 time           </td></tr>\n",
       "\t<tr><td>2 times          </td></tr>\n",
       "\t<tr><td>3 times          </td></tr>\n",
       "\t<tr><td>4 times          </td></tr>\n",
       "\t<tr><td>None             </td></tr>\n",
       "\t<tr><td>More that 4 times</td></tr>\n",
       "\t<tr><td>1 serving        </td></tr>\n",
       "</tbody>\n",
       "</table>\n"
      ],
      "text/latex": [
       "\\begin{tabular}{r|l}\n",
       " dairy\\_product\\\\\n",
       "\\hline\n",
       "\t More than 4 times\\\\\n",
       "\t 1 time           \\\\\n",
       "\t 2 times          \\\\\n",
       "\t 3 times          \\\\\n",
       "\t 4 times          \\\\\n",
       "\t None             \\\\\n",
       "\t More that 4 times\\\\\n",
       "\t 1 serving        \\\\\n",
       "\\end{tabular}\n"
      ],
      "text/markdown": [
       "\n",
       "| dairy_product |\n",
       "|---|\n",
       "| More than 4 times |\n",
       "| 1 time            |\n",
       "| 2 times           |\n",
       "| 3 times           |\n",
       "| 4 times           |\n",
       "| None              |\n",
       "| More that 4 times |\n",
       "| 1 serving         |\n",
       "\n"
      ],
      "text/plain": [
       "  dairy_product    \n",
       "1 More than 4 times\n",
       "2 1 time           \n",
       "3 2 times          \n",
       "4 3 times          \n",
       "5 4 times          \n",
       "6 None             \n",
       "7 More that 4 times\n",
       "8 1 serving        "
      ]
     },
     "metadata": {},
     "output_type": "display_data"
    }
   ],
   "source": [
    "u10 = unique(data$dairy_product)\n",
    "unique(data[,10])"
   ]
  },
  {
   "cell_type": "code",
   "execution_count": 23,
   "metadata": {},
   "outputs": [
    {
     "data": {
      "text/html": [
       "2314"
      ],
      "text/latex": [
       "2314"
      ],
      "text/markdown": [
       "2314"
      ],
      "text/plain": [
       "[1] 2314"
      ]
     },
     "metadata": {},
     "output_type": "display_data"
    }
   ],
   "source": [
    "data$dairy_product[which(data$dairy_product==u10[8])] = u10[2]\n",
    "data$dairy_product[which(data$dairy_product==u10[7])] = u10[1]\n",
    "dim(data)[1]"
   ]
  },
  {
   "cell_type": "markdown",
   "metadata": {},
   "source": [
    "Check **Dairy product** levels:"
   ]
  },
  {
   "cell_type": "code",
   "execution_count": 24,
   "metadata": {},
   "outputs": [
    {
     "data": {
      "text/html": [
       "<table>\n",
       "<thead><tr><th scope=col>dairy_product</th></tr></thead>\n",
       "<tbody>\n",
       "\t<tr><td>More than 4 times</td></tr>\n",
       "\t<tr><td>1 time           </td></tr>\n",
       "\t<tr><td>2 times          </td></tr>\n",
       "\t<tr><td>3 times          </td></tr>\n",
       "\t<tr><td>4 times          </td></tr>\n",
       "\t<tr><td>None             </td></tr>\n",
       "</tbody>\n",
       "</table>\n"
      ],
      "text/latex": [
       "\\begin{tabular}{r|l}\n",
       " dairy\\_product\\\\\n",
       "\\hline\n",
       "\t More than 4 times\\\\\n",
       "\t 1 time           \\\\\n",
       "\t 2 times          \\\\\n",
       "\t 3 times          \\\\\n",
       "\t 4 times          \\\\\n",
       "\t None             \\\\\n",
       "\\end{tabular}\n"
      ],
      "text/markdown": [
       "\n",
       "| dairy_product |\n",
       "|---|\n",
       "| More than 4 times |\n",
       "| 1 time            |\n",
       "| 2 times           |\n",
       "| 3 times           |\n",
       "| 4 times           |\n",
       "| None              |\n",
       "\n"
      ],
      "text/plain": [
       "  dairy_product    \n",
       "1 More than 4 times\n",
       "2 1 time           \n",
       "3 2 times          \n",
       "4 3 times          \n",
       "5 4 times          \n",
       "6 None             "
      ]
     },
     "metadata": {},
     "output_type": "display_data"
    }
   ],
   "source": [
    "unique(data[,10])"
   ]
  },
  {
   "cell_type": "markdown",
   "metadata": {},
   "source": [
    "---"
   ]
  },
  {
   "cell_type": "markdown",
   "metadata": {},
   "source": [
    "For **Coffee**:"
   ]
  },
  {
   "cell_type": "code",
   "execution_count": 25,
   "metadata": {},
   "outputs": [
    {
     "data": {
      "text/html": [
       "<table>\n",
       "<thead><tr><th scope=col>coffee</th></tr></thead>\n",
       "<tbody>\n",
       "\t<tr><td>More than 4 times</td></tr>\n",
       "\t<tr><td>3 times          </td></tr>\n",
       "\t<tr><td>2 times          </td></tr>\n",
       "\t<tr><td>None             </td></tr>\n",
       "\t<tr><td>4 times          </td></tr>\n",
       "\t<tr><td>1 time           </td></tr>\n",
       "\t<tr><td>Never            </td></tr>\n",
       "</tbody>\n",
       "</table>\n"
      ],
      "text/latex": [
       "\\begin{tabular}{r|l}\n",
       " coffee\\\\\n",
       "\\hline\n",
       "\t More than 4 times\\\\\n",
       "\t 3 times          \\\\\n",
       "\t 2 times          \\\\\n",
       "\t None             \\\\\n",
       "\t 4 times          \\\\\n",
       "\t 1 time           \\\\\n",
       "\t Never            \\\\\n",
       "\\end{tabular}\n"
      ],
      "text/markdown": [
       "\n",
       "| coffee |\n",
       "|---|\n",
       "| More than 4 times |\n",
       "| 3 times           |\n",
       "| 2 times           |\n",
       "| None              |\n",
       "| 4 times           |\n",
       "| 1 time            |\n",
       "| Never             |\n",
       "\n"
      ],
      "text/plain": [
       "  coffee           \n",
       "1 More than 4 times\n",
       "2 3 times          \n",
       "3 2 times          \n",
       "4 None             \n",
       "5 4 times          \n",
       "6 1 time           \n",
       "7 Never            "
      ]
     },
     "metadata": {},
     "output_type": "display_data"
    }
   ],
   "source": [
    "u11 = unique(data$coffee)\n",
    "unique(data[,11])"
   ]
  },
  {
   "cell_type": "code",
   "execution_count": 26,
   "metadata": {},
   "outputs": [
    {
     "data": {
      "text/html": [
       "2314"
      ],
      "text/latex": [
       "2314"
      ],
      "text/markdown": [
       "2314"
      ],
      "text/plain": [
       "[1] 2314"
      ]
     },
     "metadata": {},
     "output_type": "display_data"
    }
   ],
   "source": [
    "data$coffee[which(data$coffee==u11[7])] = u11[4]\n",
    "dim(data)[1]"
   ]
  },
  {
   "cell_type": "markdown",
   "metadata": {},
   "source": [
    "Check **Coffee** levels:"
   ]
  },
  {
   "cell_type": "code",
   "execution_count": 27,
   "metadata": {},
   "outputs": [
    {
     "data": {
      "text/html": [
       "<table>\n",
       "<thead><tr><th scope=col>coffee</th></tr></thead>\n",
       "<tbody>\n",
       "\t<tr><td>More than 4 times</td></tr>\n",
       "\t<tr><td>3 times          </td></tr>\n",
       "\t<tr><td>2 times          </td></tr>\n",
       "\t<tr><td>None             </td></tr>\n",
       "\t<tr><td>4 times          </td></tr>\n",
       "\t<tr><td>1 time           </td></tr>\n",
       "</tbody>\n",
       "</table>\n"
      ],
      "text/latex": [
       "\\begin{tabular}{r|l}\n",
       " coffee\\\\\n",
       "\\hline\n",
       "\t More than 4 times\\\\\n",
       "\t 3 times          \\\\\n",
       "\t 2 times          \\\\\n",
       "\t None             \\\\\n",
       "\t 4 times          \\\\\n",
       "\t 1 time           \\\\\n",
       "\\end{tabular}\n"
      ],
      "text/markdown": [
       "\n",
       "| coffee |\n",
       "|---|\n",
       "| More than 4 times |\n",
       "| 3 times           |\n",
       "| 2 times           |\n",
       "| None              |\n",
       "| 4 times           |\n",
       "| 1 time            |\n",
       "\n"
      ],
      "text/plain": [
       "  coffee           \n",
       "1 More than 4 times\n",
       "2 3 times          \n",
       "3 2 times          \n",
       "4 None             \n",
       "5 4 times          \n",
       "6 1 time           "
      ]
     },
     "metadata": {},
     "output_type": "display_data"
    }
   ],
   "source": [
    "unique(data[,11])"
   ]
  },
  {
   "cell_type": "markdown",
   "metadata": {},
   "source": [
    "---"
   ]
  },
  {
   "cell_type": "markdown",
   "metadata": {},
   "source": [
    "For **Vegetables**:"
   ]
  },
  {
   "cell_type": "code",
   "execution_count": 28,
   "metadata": {},
   "outputs": [
    {
     "data": {
      "text/html": [
       "<table>\n",
       "<thead><tr><th scope=col>vegetables</th></tr></thead>\n",
       "<tbody>\n",
       "\t<tr><td>1 time           </td></tr>\n",
       "\t<tr><td>2 times          </td></tr>\n",
       "\t<tr><td>4 times          </td></tr>\n",
       "\t<tr><td>More than 4 times</td></tr>\n",
       "\t<tr><td>3 times          </td></tr>\n",
       "\t<tr><td>None             </td></tr>\n",
       "\t<tr><td>1 serving        </td></tr>\n",
       "</tbody>\n",
       "</table>\n"
      ],
      "text/latex": [
       "\\begin{tabular}{r|l}\n",
       " vegetables\\\\\n",
       "\\hline\n",
       "\t 1 time           \\\\\n",
       "\t 2 times          \\\\\n",
       "\t 4 times          \\\\\n",
       "\t More than 4 times\\\\\n",
       "\t 3 times          \\\\\n",
       "\t None             \\\\\n",
       "\t 1 serving        \\\\\n",
       "\\end{tabular}\n"
      ],
      "text/markdown": [
       "\n",
       "| vegetables |\n",
       "|---|\n",
       "| 1 time            |\n",
       "| 2 times           |\n",
       "| 4 times           |\n",
       "| More than 4 times |\n",
       "| 3 times           |\n",
       "| None              |\n",
       "| 1 serving         |\n",
       "\n"
      ],
      "text/plain": [
       "  vegetables       \n",
       "1 1 time           \n",
       "2 2 times          \n",
       "3 4 times          \n",
       "4 More than 4 times\n",
       "5 3 times          \n",
       "6 None             \n",
       "7 1 serving        "
      ]
     },
     "metadata": {},
     "output_type": "display_data"
    }
   ],
   "source": [
    "u16 = unique(data$vegetables)\n",
    "unique(data[,16])"
   ]
  },
  {
   "cell_type": "code",
   "execution_count": 29,
   "metadata": {},
   "outputs": [
    {
     "data": {
      "text/html": [
       "2314"
      ],
      "text/latex": [
       "2314"
      ],
      "text/markdown": [
       "2314"
      ],
      "text/plain": [
       "[1] 2314"
      ]
     },
     "metadata": {},
     "output_type": "display_data"
    }
   ],
   "source": [
    "data$vegetables[which(data$vegetables==u16[7])] = u16[1]\n",
    "dim(data)[1]"
   ]
  },
  {
   "cell_type": "markdown",
   "metadata": {},
   "source": [
    "Check **Vegetables** levels:"
   ]
  },
  {
   "cell_type": "code",
   "execution_count": 30,
   "metadata": {},
   "outputs": [
    {
     "data": {
      "text/html": [
       "<table>\n",
       "<thead><tr><th scope=col>vegetables</th></tr></thead>\n",
       "<tbody>\n",
       "\t<tr><td>1 time           </td></tr>\n",
       "\t<tr><td>2 times          </td></tr>\n",
       "\t<tr><td>4 times          </td></tr>\n",
       "\t<tr><td>More than 4 times</td></tr>\n",
       "\t<tr><td>3 times          </td></tr>\n",
       "\t<tr><td>None             </td></tr>\n",
       "</tbody>\n",
       "</table>\n"
      ],
      "text/latex": [
       "\\begin{tabular}{r|l}\n",
       " vegetables\\\\\n",
       "\\hline\n",
       "\t 1 time           \\\\\n",
       "\t 2 times          \\\\\n",
       "\t 4 times          \\\\\n",
       "\t More than 4 times\\\\\n",
       "\t 3 times          \\\\\n",
       "\t None             \\\\\n",
       "\\end{tabular}\n"
      ],
      "text/markdown": [
       "\n",
       "| vegetables |\n",
       "|---|\n",
       "| 1 time            |\n",
       "| 2 times           |\n",
       "| 4 times           |\n",
       "| More than 4 times |\n",
       "| 3 times           |\n",
       "| None              |\n",
       "\n"
      ],
      "text/plain": [
       "  vegetables       \n",
       "1 1 time           \n",
       "2 2 times          \n",
       "3 4 times          \n",
       "4 More than 4 times\n",
       "5 3 times          \n",
       "6 None             "
      ]
     },
     "metadata": {},
     "output_type": "display_data"
    }
   ],
   "source": [
    "unique(data[,16])"
   ]
  },
  {
   "cell_type": "markdown",
   "metadata": {},
   "source": [
    "---"
   ]
  },
  {
   "cell_type": "markdown",
   "metadata": {},
   "source": [
    "For **Beans**:"
   ]
  },
  {
   "cell_type": "code",
   "execution_count": 31,
   "metadata": {},
   "outputs": [
    {
     "data": {
      "text/html": [
       "<table>\n",
       "<thead><tr><th scope=col>beans</th></tr></thead>\n",
       "<tbody>\n",
       "\t<tr><td>None             </td></tr>\n",
       "\t<tr><td>1 time           </td></tr>\n",
       "\t<tr><td>4 times          </td></tr>\n",
       "\t<tr><td>2 times          </td></tr>\n",
       "\t<tr><td>3 times          </td></tr>\n",
       "\t<tr><td>More than 4 times</td></tr>\n",
       "\t<tr><td>2 times          </td></tr>\n",
       "</tbody>\n",
       "</table>\n"
      ],
      "text/latex": [
       "\\begin{tabular}{r|l}\n",
       " beans\\\\\n",
       "\\hline\n",
       "\t None             \\\\\n",
       "\t 1 time           \\\\\n",
       "\t 4 times          \\\\\n",
       "\t 2 times          \\\\\n",
       "\t 3 times          \\\\\n",
       "\t More than 4 times\\\\\n",
       "\t 2 times          \\\\\n",
       "\\end{tabular}\n"
      ],
      "text/markdown": [
       "\n",
       "| beans |\n",
       "|---|\n",
       "| None              |\n",
       "| 1 time            |\n",
       "| 4 times           |\n",
       "| 2 times           |\n",
       "| 3 times           |\n",
       "| More than 4 times |\n",
       "| 2 times           |\n",
       "\n"
      ],
      "text/plain": [
       "  beans            \n",
       "1 None             \n",
       "2 1 time           \n",
       "3 4 times          \n",
       "4 2 times          \n",
       "5 3 times          \n",
       "6 More than 4 times\n",
       "7 2 times          "
      ]
     },
     "metadata": {},
     "output_type": "display_data"
    }
   ],
   "source": [
    "u17 = unique(data$beans)\n",
    "unique(data[,17])"
   ]
  },
  {
   "cell_type": "code",
   "execution_count": 32,
   "metadata": {},
   "outputs": [
    {
     "data": {
      "text/html": [
       "2314"
      ],
      "text/latex": [
       "2314"
      ],
      "text/markdown": [
       "2314"
      ],
      "text/plain": [
       "[1] 2314"
      ]
     },
     "metadata": {},
     "output_type": "display_data"
    }
   ],
   "source": [
    "data$beans[which(data$beans==u17[4])] = u17[7]\n",
    "dim(data)[1]"
   ]
  },
  {
   "cell_type": "markdown",
   "metadata": {},
   "source": [
    "Check **Beans** levels:"
   ]
  },
  {
   "cell_type": "code",
   "execution_count": 33,
   "metadata": {},
   "outputs": [
    {
     "data": {
      "text/html": [
       "<table>\n",
       "<thead><tr><th scope=col>beans</th></tr></thead>\n",
       "<tbody>\n",
       "\t<tr><td>None             </td></tr>\n",
       "\t<tr><td>1 time           </td></tr>\n",
       "\t<tr><td>4 times          </td></tr>\n",
       "\t<tr><td>2 times          </td></tr>\n",
       "\t<tr><td>3 times          </td></tr>\n",
       "\t<tr><td>More than 4 times</td></tr>\n",
       "</tbody>\n",
       "</table>\n"
      ],
      "text/latex": [
       "\\begin{tabular}{r|l}\n",
       " beans\\\\\n",
       "\\hline\n",
       "\t None             \\\\\n",
       "\t 1 time           \\\\\n",
       "\t 4 times          \\\\\n",
       "\t 2 times          \\\\\n",
       "\t 3 times          \\\\\n",
       "\t More than 4 times\\\\\n",
       "\\end{tabular}\n"
      ],
      "text/markdown": [
       "\n",
       "| beans |\n",
       "|---|\n",
       "| None              |\n",
       "| 1 time            |\n",
       "| 4 times           |\n",
       "| 2 times           |\n",
       "| 3 times           |\n",
       "| More than 4 times |\n",
       "\n"
      ],
      "text/plain": [
       "  beans            \n",
       "1 None             \n",
       "2 1 time           \n",
       "3 4 times          \n",
       "4 2 times          \n",
       "5 3 times          \n",
       "6 More than 4 times"
      ]
     },
     "metadata": {},
     "output_type": "display_data"
    }
   ],
   "source": [
    "unique(data[,17])"
   ]
  },
  {
   "cell_type": "markdown",
   "metadata": {},
   "source": [
    "---"
   ]
  },
  {
   "cell_type": "markdown",
   "metadata": {},
   "source": [
    "For **Fish oil**:"
   ]
  },
  {
   "cell_type": "code",
   "execution_count": 34,
   "metadata": {},
   "outputs": [
    {
     "data": {
      "text/html": [
       "<table>\n",
       "<thead><tr><th scope=col>fish_oil</th></tr></thead>\n",
       "<tbody>\n",
       "\t<tr><td>None             </td></tr>\n",
       "\t<tr><td>1 time           </td></tr>\n",
       "\t<tr><td>More than 4 times</td></tr>\n",
       "\t<tr><td>2 times          </td></tr>\n",
       "\t<tr><td>3 times          </td></tr>\n",
       "\t<tr><td>4 times          </td></tr>\n",
       "\t<tr><td>1 times          </td></tr>\n",
       "</tbody>\n",
       "</table>\n"
      ],
      "text/latex": [
       "\\begin{tabular}{r|l}\n",
       " fish\\_oil\\\\\n",
       "\\hline\n",
       "\t None             \\\\\n",
       "\t 1 time           \\\\\n",
       "\t More than 4 times\\\\\n",
       "\t 2 times          \\\\\n",
       "\t 3 times          \\\\\n",
       "\t 4 times          \\\\\n",
       "\t 1 times          \\\\\n",
       "\\end{tabular}\n"
      ],
      "text/markdown": [
       "\n",
       "| fish_oil |\n",
       "|---|\n",
       "| None              |\n",
       "| 1 time            |\n",
       "| More than 4 times |\n",
       "| 2 times           |\n",
       "| 3 times           |\n",
       "| 4 times           |\n",
       "| 1 times           |\n",
       "\n"
      ],
      "text/plain": [
       "  fish_oil         \n",
       "1 None             \n",
       "2 1 time           \n",
       "3 More than 4 times\n",
       "4 2 times          \n",
       "5 3 times          \n",
       "6 4 times          \n",
       "7 1 times          "
      ]
     },
     "metadata": {},
     "output_type": "display_data"
    }
   ],
   "source": [
    "u21 = unique(data$fish_oil)\n",
    "unique(data[,21])"
   ]
  },
  {
   "cell_type": "code",
   "execution_count": 35,
   "metadata": {},
   "outputs": [
    {
     "data": {
      "text/html": [
       "2314"
      ],
      "text/latex": [
       "2314"
      ],
      "text/markdown": [
       "2314"
      ],
      "text/plain": [
       "[1] 2314"
      ]
     },
     "metadata": {},
     "output_type": "display_data"
    }
   ],
   "source": [
    "data$fish_oil[which(data$fish_oil==u21[7])] = u21[1]\n",
    "dim(data)[1]"
   ]
  },
  {
   "cell_type": "markdown",
   "metadata": {},
   "source": [
    "Check **Fish oil** levels:"
   ]
  },
  {
   "cell_type": "code",
   "execution_count": 36,
   "metadata": {},
   "outputs": [
    {
     "data": {
      "text/html": [
       "<table>\n",
       "<thead><tr><th scope=col>fish_oil</th></tr></thead>\n",
       "<tbody>\n",
       "\t<tr><td>None             </td></tr>\n",
       "\t<tr><td>1 time           </td></tr>\n",
       "\t<tr><td>More than 4 times</td></tr>\n",
       "\t<tr><td>2 times          </td></tr>\n",
       "\t<tr><td>3 times          </td></tr>\n",
       "\t<tr><td>4 times          </td></tr>\n",
       "</tbody>\n",
       "</table>\n"
      ],
      "text/latex": [
       "\\begin{tabular}{r|l}\n",
       " fish\\_oil\\\\\n",
       "\\hline\n",
       "\t None             \\\\\n",
       "\t 1 time           \\\\\n",
       "\t More than 4 times\\\\\n",
       "\t 2 times          \\\\\n",
       "\t 3 times          \\\\\n",
       "\t 4 times          \\\\\n",
       "\\end{tabular}\n"
      ],
      "text/markdown": [
       "\n",
       "| fish_oil |\n",
       "|---|\n",
       "| None              |\n",
       "| 1 time            |\n",
       "| More than 4 times |\n",
       "| 2 times           |\n",
       "| 3 times           |\n",
       "| 4 times           |\n",
       "\n"
      ],
      "text/plain": [
       "  fish_oil         \n",
       "1 None             \n",
       "2 1 time           \n",
       "3 More than 4 times\n",
       "4 2 times          \n",
       "5 3 times          \n",
       "6 4 times          "
      ]
     },
     "metadata": {},
     "output_type": "display_data"
    }
   ],
   "source": [
    "unique(data[,21])"
   ]
  },
  {
   "cell_type": "markdown",
   "metadata": {},
   "source": [
    "---"
   ]
  },
  {
   "cell_type": "markdown",
   "metadata": {},
   "source": [
    "For **Nervous**:"
   ]
  },
  {
   "cell_type": "code",
   "execution_count": 37,
   "metadata": {
    "scrolled": true
   },
   "outputs": [
    {
     "data": {
      "text/html": [
       "<table>\n",
       "<thead><tr><th scope=col>nervous</th></tr></thead>\n",
       "<tbody>\n",
       "\t<tr><td>All the time        </td></tr>\n",
       "\t<tr><td>Some of the time    </td></tr>\n",
       "\t<tr><td>Most of the time    </td></tr>\n",
       "\t<tr><td>None of the time    </td></tr>\n",
       "\t<tr><td>A little of the time</td></tr>\n",
       "\t<tr><td>None                </td></tr>\n",
       "</tbody>\n",
       "</table>\n"
      ],
      "text/latex": [
       "\\begin{tabular}{r|l}\n",
       " nervous\\\\\n",
       "\\hline\n",
       "\t All the time        \\\\\n",
       "\t Some of the time    \\\\\n",
       "\t Most of the time    \\\\\n",
       "\t None of the time    \\\\\n",
       "\t A little of the time\\\\\n",
       "\t None                \\\\\n",
       "\\end{tabular}\n"
      ],
      "text/markdown": [
       "\n",
       "| nervous |\n",
       "|---|\n",
       "| All the time         |\n",
       "| Some of the time     |\n",
       "| Most of the time     |\n",
       "| None of the time     |\n",
       "| A little of the time |\n",
       "| None                 |\n",
       "\n"
      ],
      "text/plain": [
       "  nervous             \n",
       "1 All the time        \n",
       "2 Some of the time    \n",
       "3 Most of the time    \n",
       "4 None of the time    \n",
       "5 A little of the time\n",
       "6 None                "
      ]
     },
     "metadata": {},
     "output_type": "display_data"
    }
   ],
   "source": [
    "u22 = unique(data$nervous)\n",
    "unique(data[,22])"
   ]
  },
  {
   "cell_type": "code",
   "execution_count": 38,
   "metadata": {},
   "outputs": [
    {
     "data": {
      "text/html": [
       "2314"
      ],
      "text/latex": [
       "2314"
      ],
      "text/markdown": [
       "2314"
      ],
      "text/plain": [
       "[1] 2314"
      ]
     },
     "metadata": {},
     "output_type": "display_data"
    }
   ],
   "source": [
    "data$nervous[which(data$nervous==u22[6])] = u22[4]\n",
    "dim(data)[1]"
   ]
  },
  {
   "cell_type": "markdown",
   "metadata": {},
   "source": [
    "Check **Nervous** levels:"
   ]
  },
  {
   "cell_type": "code",
   "execution_count": 39,
   "metadata": {
    "scrolled": true
   },
   "outputs": [
    {
     "data": {
      "text/html": [
       "<table>\n",
       "<thead><tr><th scope=col>nervous</th></tr></thead>\n",
       "<tbody>\n",
       "\t<tr><td>All the time        </td></tr>\n",
       "\t<tr><td>Some of the time    </td></tr>\n",
       "\t<tr><td>Most of the time    </td></tr>\n",
       "\t<tr><td>None of the time    </td></tr>\n",
       "\t<tr><td>A little of the time</td></tr>\n",
       "</tbody>\n",
       "</table>\n"
      ],
      "text/latex": [
       "\\begin{tabular}{r|l}\n",
       " nervous\\\\\n",
       "\\hline\n",
       "\t All the time        \\\\\n",
       "\t Some of the time    \\\\\n",
       "\t Most of the time    \\\\\n",
       "\t None of the time    \\\\\n",
       "\t A little of the time\\\\\n",
       "\\end{tabular}\n"
      ],
      "text/markdown": [
       "\n",
       "| nervous |\n",
       "|---|\n",
       "| All the time         |\n",
       "| Some of the time     |\n",
       "| Most of the time     |\n",
       "| None of the time     |\n",
       "| A little of the time |\n",
       "\n"
      ],
      "text/plain": [
       "  nervous             \n",
       "1 All the time        \n",
       "2 Some of the time    \n",
       "3 Most of the time    \n",
       "4 None of the time    \n",
       "5 A little of the time"
      ]
     },
     "metadata": {},
     "output_type": "display_data"
    }
   ],
   "source": [
    "unique(data[,22])"
   ]
  },
  {
   "cell_type": "markdown",
   "metadata": {},
   "source": [
    "---"
   ]
  },
  {
   "cell_type": "markdown",
   "metadata": {},
   "source": [
    "After above cleaning, there are **2314** observations left."
   ]
  },
  {
   "cell_type": "markdown",
   "metadata": {},
   "source": [
    "# 1.2 Convert categorical variables into numerical variables"
   ]
  },
  {
   "cell_type": "markdown",
   "metadata": {},
   "source": [
    "To obtain more information from the data, I convert a categorical variable into a numerical variable if levels of variable indicate clear order."
   ]
  },
  {
   "cell_type": "code",
   "execution_count": 40,
   "metadata": {},
   "outputs": [],
   "source": [
    "x=as.data.frame(data[,2:21])\n",
    "y=as.matrix(data[,22:27])"
   ]
  },
  {
   "cell_type": "markdown",
   "metadata": {},
   "source": [
    "- For **Education**, I convert it into number 1 to 8, from low education level to high education level according to the order of 'Less than high school','High school','AA, BA, BS','Graduate','Master's Degree','Doctoral Degree','Professional Degree','Professional'."
   ]
  },
  {
   "cell_type": "code",
   "execution_count": 41,
   "metadata": {
    "scrolled": true
   },
   "outputs": [],
   "source": [
    "xm1 = matrix(0,dim(x)[1],1)\n",
    "for (i in 1:dim(x)[1]) {\n",
    "  if (x[i,4]==\"Less than High School\"){\n",
    "    xm1[i,1]=1\n",
    "  }\n",
    "  if (x[i,4]==\"High School\"){\n",
    "    xm1[i,1]=2\n",
    "  }\n",
    "  if (x[i,4]==\"2 or 4 Years of College Degree (AA, BA, BS)\"){\n",
    "    xm1[i,1]=3\n",
    "  }\n",
    "  if (x[i,4]==\"Graduate\"){\n",
    "    xm1[i,1]=4\n",
    "  }\n",
    "  if (x[i,4]==\"Master's Degree\"){\n",
    "    xm1[i,1]=5\n",
    "  }\n",
    "  if (x[i,4]==\"Doctoral Degree\"){\n",
    "    xm1[i,1]=6\n",
    "  }\n",
    "  if (x[i,4]==\"Professional Degree (MD, JD, PharmD, ...)\"){\n",
    "    xm1[i,1]=7\n",
    "  }\n",
    "  if (x[i,4]==\"Professional\"){\n",
    "    xm1[i,1]=8\n",
    "  }\n",
    "}\n",
    "x[,4]=xm1\n"
   ]
  },
  {
   "cell_type": "code",
   "execution_count": 42,
   "metadata": {},
   "outputs": [
    {
     "data": {
      "text/html": [
       "<table>\n",
       "<tbody>\n",
       "\t<tr><td>3</td></tr>\n",
       "\t<tr><td>5</td></tr>\n",
       "\t<tr><td>6</td></tr>\n",
       "\t<tr><td>2</td></tr>\n",
       "\t<tr><td>7</td></tr>\n",
       "\t<tr><td>1</td></tr>\n",
       "\t<tr><td>8</td></tr>\n",
       "\t<tr><td>4</td></tr>\n",
       "</tbody>\n",
       "</table>\n"
      ],
      "text/latex": [
       "\\begin{tabular}{l}\n",
       "\t 3\\\\\n",
       "\t 5\\\\\n",
       "\t 6\\\\\n",
       "\t 2\\\\\n",
       "\t 7\\\\\n",
       "\t 1\\\\\n",
       "\t 8\\\\\n",
       "\t 4\\\\\n",
       "\\end{tabular}\n"
      ],
      "text/markdown": [
       "\n",
       "| 3 |\n",
       "| 5 |\n",
       "| 6 |\n",
       "| 2 |\n",
       "| 7 |\n",
       "| 1 |\n",
       "| 8 |\n",
       "| 4 |\n",
       "\n"
      ],
      "text/plain": [
       "     [,1]\n",
       "[1,] 3   \n",
       "[2,] 5   \n",
       "[3,] 6   \n",
       "[4,] 2   \n",
       "[5,] 7   \n",
       "[6,] 1   \n",
       "[7,] 8   \n",
       "[8,] 4   "
      ]
     },
     "metadata": {},
     "output_type": "display_data"
    }
   ],
   "source": [
    "unique(x$edu)"
   ]
  },
  {
   "cell_type": "markdown",
   "metadata": {},
   "source": [
    "- For the frequency of consuming different type of food, I convert 'None' into 0, and 'More than X times' into X +1, frequency between 1 and X to the relative number."
   ]
  },
  {
   "cell_type": "code",
   "execution_count": 43,
   "metadata": {},
   "outputs": [],
   "source": [
    "xm=matrix(0,dim(x)[1],dim(x)[2])\n",
    "for (i in 6:20) {\n",
    "  for (j in 1:nrow(x)) {\n",
    "    if (x[j,i]=='None'){\n",
    "      xm[j,i]=0\n",
    "    }\n",
    "    if (x[j,i]=='1 time'){\n",
    "      xm[j,i]=1\n",
    "    }\n",
    "    if ((x[j,i]=='2 times')|(x[j,i]==unique(x[,8])[3])){\n",
    "      xm[j,i]=2\n",
    "    }\n",
    "    if ((x[j,i]=='3 times')|(x[j,i]==unique(x[,12])[2])){\n",
    "      xm[j,i]=3\n",
    "    }\n",
    "    if (x[j,i]=='4 times'){\n",
    "      xm[j,i]=4\n",
    "    }\n",
    "    if ((x[j,i]=='5 times')|(x[j,i]=='More than 4 times')){\n",
    "      xm[j,i]=5\n",
    "    }\n",
    "    if (x[j,i]=='6 or 7 times'){\n",
    "      xm[j,i]=6\n",
    "    }\n",
    "  }\n",
    "}\n",
    "x[,6:20]=xm[,6:20]"
   ]
  },
  {
   "cell_type": "code",
   "execution_count": 44,
   "metadata": {},
   "outputs": [
    {
     "name": "stdout",
     "output_type": "stream",
     "text": [
      "[1] 0 1 2 4 5 3\n",
      "[1] 4 6 1 5 3 2 0\n",
      "[1] 5 1 2 0 4 3\n",
      "[1] 5 1 2 3 4 0\n",
      "[1] 5 3 2 0 4 1\n",
      "[1] 3 4 1 2 5 0\n",
      "[1] 1 3 0 5 2 4\n",
      "[1] 5 2 4 3 1 0\n",
      "[1] 5 2 4 3 1 0\n",
      "[1] 1 2 4 5 3 0\n",
      "[1] 0 1 4 2 3 5\n",
      "[1] 1 0 3 2 5 4\n",
      "[1] 0 1 4 5 2 3\n",
      "[1] 0 5 2 1 3 4\n",
      "[1] 0 1 5 2 3 4\n"
     ]
    }
   ],
   "source": [
    "for (i in 6:20) {\n",
    "  print(unique(x[,i]))\n",
    "}"
   ]
  },
  {
   "cell_type": "markdown",
   "metadata": {},
   "source": [
    "- To interpret the mental health status better, I convert 'All the time'... 'None of the time' into 1 to 5, and get a new response called **mental health score** from the average of the original 6 responses."
   ]
  },
  {
   "cell_type": "code",
   "execution_count": 45,
   "metadata": {},
   "outputs": [],
   "source": [
    "s=matrix(0,dim(y)[1],dim(y)[2])\n",
    "for (i in 1:dim(y)[1]) {\n",
    "  for (j in 1:dim(y)[2]) {\n",
    "    if (y[i,j]=='None of the time'){\n",
    "      s[i,j]=5\n",
    "    }\n",
    "    if (y[i,j]=='A little of the time'){\n",
    "      s[i,j]=4\n",
    "    }\n",
    "    if (y[i,j]=='Some of the time'){\n",
    "      s[i,j]=3\n",
    "    }\n",
    "    if (y[i,j]=='Most of the time'){\n",
    "      s[i,j]=2\n",
    "    }\n",
    "    if (y[i,j]=='All the time'){\n",
    "      s[i,j]=1\n",
    "    }\n",
    "  }\n",
    "}\n",
    "y=rowMeans(s)"
   ]
  },
  {
   "cell_type": "code",
   "execution_count": 46,
   "metadata": {},
   "outputs": [
    {
     "data": {
      "image/png": "[encoded data removed]",
      "text/plain": [
       "Plot with title \"Mental health score distribution histogram\""
      ]
     },
     "metadata": {},
     "output_type": "display_data"
    }
   ],
   "source": [
    "barplot(prop.table(table(y)),main = 'Mental health score distribution histogram',xlab = 'Score', ylab = 'Frequency')"
   ]
  },
  {
   "cell_type": "markdown",
   "metadata": {},
   "source": [
    "# 1.3 Visualization"
   ]
  },
  {
   "cell_type": "markdown",
   "metadata": {},
   "source": [
    "Visualize the data to check.\n",
    "\n",
    "For each level/value, the scatter plot shows the distribution of mental health score, lines connect means of mental health score, and colors indicate increasing or decreasing (red or blue)."
   ]
  },
  {
   "cell_type": "code",
   "execution_count": 47,
   "metadata": {
    "scrolled": false
   },
   "outputs": [
    {
     "data": {
      "image/png": "[encoded data removed]",
      "text/plain": [
       "plot without title"
      ]
     },
     "metadata": {},
     "output_type": "display_data"
    },
    {
     "data": {
      "image/png": "[encoded data removed]",
      "text/plain": [
       "plot without title"
      ]
     },
     "metadata": {},
     "output_type": "display_data"
    },
    {
     "data": {
      "image/png": "[encoded data removed]",
      "text/plain": [
       "plot without title"
      ]
     },
     "metadata": {},
     "output_type": "display_data"
    },
    {
     "data": {
      "image/png": "[encoded data removed]",
      "text/plain": [
       "plot without title"
      ]
     },
     "metadata": {},
     "output_type": "display_data"
    },
    {
     "data": {
      "image/png": "[encoded data removed]",
      "text/plain": [
       "plot without title"
      ]
     },
     "metadata": {},
     "output_type": "display_data"
    },
    {
     "data": {
      "image/png": "[encoded data removed]",
      "text/plain": [
       "plot without title"
      ]
     },
     "metadata": {},
     "output_type": "display_data"
    },
    {
     "data": {
      "image/png": "[encoded data removed]",
      "text/plain": [
       "plot without title"
      ]
     },
     "metadata": {},
     "output_type": "display_data"
    },
    {
     "data": {
      "image/png": "[encoded data removed]",
      "text/plain": [
       "plot without title"
      ]
     },
     "metadata": {},
     "output_type": "display_data"
    },
    {
     "data": {
      "image/png": "[encoded data removed]",
      "text/plain": [
       "plot without title"
      ]
     },
     "metadata": {},
     "output_type": "display_data"
    },
    {
     "data": {
      "image/png": "[encoded data removed]",
      "text/plain": [
       "plot without title"
      ]
     },
     "metadata": {},
     "output_type": "display_data"
    },
    {
     "data": {
      "image/png": "[encoded data removed]",
      "text/plain": [
       "plot without title"
      ]
     },
     "metadata": {},
     "output_type": "display_data"
    },
    {
     "data": {
      "image/png": "[encoded data removed]",
      "text/plain": [
       "plot without title"
      ]
     },
     "metadata": {},
     "output_type": "display_data"
    },
    {
     "data": {
      "image/png": "[encoded data removed]",
      "text/plain": [
       "plot without title"
      ]
     },
     "metadata": {},
     "output_type": "display_data"
    },
    {
     "data": {
      "image/png": "[encoded data removed]",
      "text/plain": [
       "plot without title"
      ]
     },
     "metadata": {},
     "output_type": "display_data"
    },
    {
     "data": {
      "image/png": "[encoded data removed]",
      "text/plain": [
       "plot without title"
      ]
     },
     "metadata": {},
     "output_type": "display_data"
    },
    {
     "data": {
      "image/png": "[encoded data removed]",
      "text/plain": [
       "plot without title"
      ]
     },
     "metadata": {},
     "output_type": "display_data"
    },
    {
     "data": {
      "image/png": "[encoded data removed]",
      "text/plain": [
       "plot without title"
      ]
     },
     "metadata": {},
     "output_type": "display_data"
    },
    {
     "data": {
      "image/png": "[encoded data removed]",
      "text/plain": [
       "plot without title"
      ]
     },
     "metadata": {},
     "output_type": "display_data"
    },
    {
     "data": {
      "image/png": "[encoded data removed]",
      "text/plain": [
       "plot without title"
      ]
     },
     "metadata": {},
     "output_type": "display_data"
    },
    {
     "data": {
      "image/png": "[encoded data removed]",
      "text/plain": [
       "plot without title"
      ]
     },
     "metadata": {},
     "output_type": "display_data"
    }
   ],
   "source": [
    "theme_update(plot.title = element_text(hjust = 0.5,size=22))\n",
    "for (i in 1:dim(x)[2]) {\n",
    "    what=matrix(0,1,length(unique(x[,i])))\n",
    "    colnames(what)=sort(unique(x[,i]))\n",
    "    for (j in 1:length(unique(x[,i]))) {\n",
    "        what[1,j]=mean(y[x[,i]==sort(unique(x[,i]))[j]])\n",
    "    }\n",
    "    whatcol = c()\n",
    "    for (j in 1:length(what)-1){\n",
    "        whatcol = c(whatcol,what[j+1] >= what[j])\n",
    "    }\n",
    "    whatcol = as.numeric(whatcol)+1\n",
    "    for (j in 1:length(whatcol)) {\n",
    "        if (whatcol[j] == 1){\n",
    "            whatcol[j] = 4\n",
    "        }\n",
    "    }\n",
    "    whatcol = c(whatcol,99)\n",
    "    p=ggplot(data = data, aes(x = x[,i], y = y))+geom_jitter(width = .3,height = .1)+ggtitle(as.character(colnames(x)[i]))+xlab('type/frequency')+ stat_summary(aes(y = y,group=1), fun.y=mean, colour=whatcol, geom=\"line\",group=1,size = 2)\n",
    "    print(p)\n",
    "}"
   ]
  },
  {
   "cell_type": "markdown",
   "metadata": {},
   "source": [
    "The plot shows:\n",
    "- There are some variables with only few observations on some levels, those observations need to be removed\n",
    "- There are some variables suitable for broken stick regression\n",
    "- Most observations don't eat fish oil at all\n",
    "- Too many 18-29 years old observations"
   ]
  },
  {
   "cell_type": "markdown",
   "metadata": {},
   "source": [
    "Remove minor levels:"
   ]
  },
  {
   "cell_type": "code",
   "execution_count": 48,
   "metadata": {},
   "outputs": [
    {
     "data": {
      "text/html": [
       "<ol class=list-inline>\n",
       "\t<li>2291</li>\n",
       "\t<li>20</li>\n",
       "</ol>\n"
      ],
      "text/latex": [
       "\\begin{enumerate*}\n",
       "\\item 2291\n",
       "\\item 20\n",
       "\\end{enumerate*}\n"
      ],
      "text/markdown": [
       "1. 2291\n",
       "2. 20\n",
       "\n",
       "\n"
      ],
      "text/plain": [
       "[1] 2291   20"
      ]
     },
     "metadata": {},
     "output_type": "display_data"
    }
   ],
   "source": [
    "#Region: Australia/New Zealand, South America\n",
    "reg = c(which(x$region == \"Australia /New Zealand\"),which(x$region == \"South America\"))\n",
    "#Education: Level 4 and 8 (\"Graduate\" and \"Professional\")\n",
    "edu = c(which(x$education ==4),which(x$education ==8))\n",
    "x = x[-c(reg,edu),]\n",
    "y = y[-c(reg,edu)]\n",
    "dim(x)"
   ]
  },
  {
   "cell_type": "markdown",
   "metadata": {},
   "source": [
    "---\n",
    "Variables suitable for broken stick regression:\n",
    "\n",
    "**Whole_grain, flaxseed/nuts, vegetables**"
   ]
  },
  {
   "cell_type": "markdown",
   "metadata": {},
   "source": [
    "---"
   ]
  },
  {
   "cell_type": "code",
   "execution_count": 49,
   "metadata": {},
   "outputs": [
    {
     "data": {
      "text/html": [
       "0.8765"
      ],
      "text/latex": [
       "0.8765"
      ],
      "text/markdown": [
       "0.8765"
      ],
      "text/plain": [
       "[1] 0.8765"
      ]
     },
     "metadata": {},
     "output_type": "display_data"
    },
    {
     "data": {
      "text/html": [
       "0.6499"
      ],
      "text/latex": [
       "0.6499"
      ],
      "text/markdown": [
       "0.6499"
      ],
      "text/plain": [
       "[1] 0.6499"
      ]
     },
     "metadata": {},
     "output_type": "display_data"
    }
   ],
   "source": [
    "#remove fish_oil variables\n",
    "round(sum((x$fish_oil)==0)/nrow(x),4)\n",
    "round(sum((x$age)=='18-29')/nrow(x),4)\n",
    "x = x[,-20]"
   ]
  },
  {
   "cell_type": "markdown",
   "metadata": {},
   "source": [
    "There are **88%** of observations don't eat fish oil every week, and **65%** of observations are 18-29 years old.\n",
    "\n",
    "Therefore, I decide to remove fish oil variable, and sample some observations from 18-29 group to analyze seperately."
   ]
  },
  {
   "cell_type": "markdown",
   "metadata": {},
   "source": [
    "# 1.4 New Dataset Summary"
   ]
  },
  {
   "cell_type": "markdown",
   "metadata": {},
   "source": [
    "A new data set with **2291** observations, **19** variables and **1** response is obtained."
   ]
  },
  {
   "cell_type": "markdown",
   "metadata": {},
   "source": [
    "| **Name of variable** | **Type**    | **Description**                            |\n",
    "|:---------------------|:------------|:-------------------------------------------|\n",
    "| y (Mental health score)| Numerical   | Mental health score, from 1 to 5         |\n",
    "| Gender               | Categorical | Female or Male                             |\n",
    "| Age                  | Categorical | 18-29, 30-39, 40-49 or 50 and above        |\n",
    "| Region               | Categorical | Continent participant comes from           |\n",
    "| Diet                 | Categorical | Different diet type                        |\n",
    "| Education            | Numerical   | From 1 to 8, indicating education level    |\n",
    "| Exercise             | Numerical   | Frequency of exercise per week             |\n",
    "| Breakfast            | Numerical   | Frequency of breakfast per week            |\n",
    "| Whole grain          | Numerical   | Frequency of eating whole grain per week   |\n",
    "| Dairy product        | Numerical   | Frequency of eating dairy product per week |\n",
    "| Coffee               | Numerical   | Frequency of drinking coffee per week      |\n",
    "| Fruit                | Numerical   | Frequency of eating fruit per week         |\n",
    "| Flaxseed/nuts        | Numerical   | Frequency of eating flaxseed/nuts per week |\n",
    "| Rice/pasta           | Numerical   | Frequency of eating rice/pasta per week    |\n",
    "| Meat                 | Numerical   | Frequency of eating meat per week          |\n",
    "| Vegetables           | Numerical   | Frequency of eating vegetables per week    |\n",
    "| Beans                | Numerical   | Frequency of eating beans per week         |\n",
    "| Fish                 | Numerical   | Frequency of eating fish per week          |\n",
    "| Fast food            | Numerical   | Frequency of eating fast food per week     |\n",
    "| Multivitamin         | Numerical   | Frequency of eating multivitamin per week  |\n"
   ]
  },
  {
   "cell_type": "markdown",
   "metadata": {},
   "source": [
    "# 2.1 Statistical Analysis Setup"
   ]
  },
  {
   "cell_type": "markdown",
   "metadata": {},
   "source": [
    "I split the whole data into **50%** training dataset and **50%** testing dataset."
   ]
  },
  {
   "cell_type": "code",
   "execution_count": 50,
   "metadata": {},
   "outputs": [
    {
     "data": {
      "text/html": [
       "<ol class=list-inline>\n",
       "\t<li>1145</li>\n",
       "\t<li>19</li>\n",
       "</ol>\n"
      ],
      "text/latex": [
       "\\begin{enumerate*}\n",
       "\\item 1145\n",
       "\\item 19\n",
       "\\end{enumerate*}\n"
      ],
      "text/markdown": [
       "1. 1145\n",
       "2. 19\n",
       "\n",
       "\n"
      ],
      "text/plain": [
       "[1] 1145   19"
      ]
     },
     "metadata": {},
     "output_type": "display_data"
    },
    {
     "data": {
      "text/html": [
       "<ol class=list-inline>\n",
       "\t<li>1145</li>\n",
       "\t<li>19</li>\n",
       "</ol>\n"
      ],
      "text/latex": [
       "\\begin{enumerate*}\n",
       "\\item 1145\n",
       "\\item 19\n",
       "\\end{enumerate*}\n"
      ],
      "text/markdown": [
       "1. 1145\n",
       "2. 19\n",
       "\n",
       "\n"
      ],
      "text/plain": [
       "[1] 1145   19"
      ]
     },
     "metadata": {},
     "output_type": "display_data"
    }
   ],
   "source": [
    "df = cbind(y,x)\n",
    "set.seed(123)\n",
    "train = df[sample(nrow(df),0.5*nrow(df)),]\n",
    "test = df[sample(nrow(df),0.5*nrow(df)),]\n",
    "train_y=train[,1]\n",
    "train_x=train[,-1]\n",
    "test_y=test[,1]\n",
    "test_x=test[,-1]\n",
    "dim(train_x)\n",
    "dim(test_x)"
   ]
  },
  {
   "cell_type": "markdown",
   "metadata": {},
   "source": [
    "Also I want to know more about young age observations."
   ]
  },
  {
   "cell_type": "code",
   "execution_count": 51,
   "metadata": {
    "scrolled": true
   },
   "outputs": [
    {
     "data": {
      "text/html": [
       "1489"
      ],
      "text/latex": [
       "1489"
      ],
      "text/markdown": [
       "1489"
      ],
      "text/plain": [
       "[1] 1489"
      ]
     },
     "metadata": {},
     "output_type": "display_data"
    }
   ],
   "source": [
    "df18 = df[which(df$age=='18-29'),]\n",
    "dim(df18)[1]"
   ]
  },
  {
   "cell_type": "code",
   "execution_count": 52,
   "metadata": {},
   "outputs": [],
   "source": [
    "lhw <- function(x) ifelse(x < 1,4-x,0)\n",
    "rhw <- function(x) ifelse(x < 1,0,x-4)\n",
    "lhv <- function(x) ifelse(x < 1,4-x,0)\n",
    "rhv <- function(x) ifelse(x < 1,0,x-4)\n",
    "lhf <- function(x) ifelse(x < 4,4-x,0)\n",
    "rhf <- function(x) ifelse(x < 4,0,x-4)"
   ]
  },
  {
   "cell_type": "markdown",
   "metadata": {},
   "source": [
    "# 2.2 Linear Regression Model"
   ]
  },
  {
   "cell_type": "markdown",
   "metadata": {},
   "source": [
    "As the reponse now is numerical, I use linear regression model first."
   ]
  },
  {
   "cell_type": "markdown",
   "metadata": {},
   "source": [
    "<b>Significant variables and their coefficients are:"
   ]
  },
  {
   "cell_type": "code",
   "execution_count": 53,
   "metadata": {
    "scrolled": true
   },
   "outputs": [
    {
     "data": {
      "text/html": [
       "<table>\n",
       "<thead><tr><th></th><th scope=col>Estimate</th><th scope=col>Pr(&gt;|t|)</th></tr></thead>\n",
       "<tbody>\n",
       "\t<tr><th scope=row>(Intercept)</th><td> 3.5318</td><td>0.0000 </td></tr>\n",
       "\t<tr><th scope=row>genderMale</th><td> 0.1561</td><td>0.0027 </td></tr>\n",
       "\t<tr><th scope=row>age30-39</th><td> 0.1766</td><td>0.0352 </td></tr>\n",
       "\t<tr><th scope=row>age40-49</th><td> 0.3524</td><td>0.0000 </td></tr>\n",
       "\t<tr><th scope=row>age50 and above</th><td> 0.5449</td><td>0.0000 </td></tr>\n",
       "\t<tr><th scope=row>regionNorth America/Central America</th><td> 0.1487</td><td>0.0410 </td></tr>\n",
       "\t<tr><th scope=row>exercise</th><td> 0.0360</td><td>0.0112 </td></tr>\n",
       "\t<tr><th scope=row>breakfast</th><td> 0.0503</td><td>0.0000 </td></tr>\n",
       "\t<tr><th scope=row>coffee</th><td>-0.0401</td><td>0.0026 </td></tr>\n",
       "\t<tr><th scope=row>lhv(vegetables)</th><td>-0.0785</td><td>0.0044 </td></tr>\n",
       "\t<tr><th scope=row>fast_food</th><td>-0.0944</td><td>0.0000 </td></tr>\n",
       "</tbody>\n",
       "</table>\n"
      ],
      "text/latex": [
       "\\begin{tabular}{r|ll}\n",
       "  & Estimate & Pr(>\\textbar{}t\\textbar{})\\\\\n",
       "\\hline\n",
       "\t(Intercept) &  3.5318 & 0.0000 \\\\\n",
       "\tgenderMale &  0.1561 & 0.0027 \\\\\n",
       "\tage30-39 &  0.1766 & 0.0352 \\\\\n",
       "\tage40-49 &  0.3524 & 0.0000 \\\\\n",
       "\tage50 and above &  0.5449 & 0.0000 \\\\\n",
       "\tregionNorth America/Central America &  0.1487 & 0.0410 \\\\\n",
       "\texercise &  0.0360 & 0.0112 \\\\\n",
       "\tbreakfast &  0.0503 & 0.0000 \\\\\n",
       "\tcoffee & -0.0401 & 0.0026 \\\\\n",
       "\tlhv(vegetables) & -0.0785 & 0.0044 \\\\\n",
       "\tfast\\_food & -0.0944 & 0.0000 \\\\\n",
       "\\end{tabular}\n"
      ],
      "text/markdown": [
       "\n",
       "| <!--/--> | Estimate | Pr(>|t|) |\n",
       "|---|---|---|\n",
       "| (Intercept) |  3.5318 | 0.0000  |\n",
       "| genderMale |  0.1561 | 0.0027  |\n",
       "| age30-39 |  0.1766 | 0.0352  |\n",
       "| age40-49 |  0.3524 | 0.0000  |\n",
       "| age50 and above |  0.5449 | 0.0000  |\n",
       "| regionNorth America/Central America |  0.1487 | 0.0410  |\n",
       "| exercise |  0.0360 | 0.0112  |\n",
       "| breakfast |  0.0503 | 0.0000  |\n",
       "| coffee | -0.0401 | 0.0026  |\n",
       "| lhv(vegetables) | -0.0785 | 0.0044  |\n",
       "| fast_food | -0.0944 | 0.0000  |\n",
       "\n"
      ],
      "text/plain": [
       "                                    Estimate Pr(>|t|)\n",
       "(Intercept)                          3.5318  0.0000  \n",
       "genderMale                           0.1561  0.0027  \n",
       "age30-39                             0.1766  0.0352  \n",
       "age40-49                             0.3524  0.0000  \n",
       "age50 and above                      0.5449  0.0000  \n",
       "regionNorth America/Central America  0.1487  0.0410  \n",
       "exercise                             0.0360  0.0112  \n",
       "breakfast                            0.0503  0.0000  \n",
       "coffee                              -0.0401  0.0026  \n",
       "lhv(vegetables)                     -0.0785  0.0044  \n",
       "fast_food                           -0.0944  0.0000  "
      ]
     },
     "metadata": {},
     "output_type": "display_data"
    }
   ],
   "source": [
    "lmod1 = lm(y~gender+age+region+diet+education+exercise+breakfast+lhw(whole_grain)+rhw(whole_grain)+dairy_product+coffee+\n",
    "           fruits+lhf(flaxseed_nuts)+rhf(flaxseed_nuts)+rice_pasta+meat+lhv(vegetables)+rhv(vegetables)+beans+fish+fast_food\n",
    "           +multivitamin, data = train)\n",
    "round(summary(lmod1)$coef[which(summary(lmod1)$coef[,4] <= .05),c(1,4)],4)"
   ]
  },
  {
   "cell_type": "markdown",
   "metadata": {},
   "source": [
    "<b> Use the variables above significant variables to fit linear regression model on test dataset, significant variables and their coefficients are:"
   ]
  },
  {
   "cell_type": "code",
   "execution_count": 54,
   "metadata": {},
   "outputs": [
    {
     "data": {
      "text/html": [
       "<table>\n",
       "<thead><tr><th></th><th scope=col>Estimate</th><th scope=col>Pr(&gt;|t|)</th></tr></thead>\n",
       "<tbody>\n",
       "\t<tr><th scope=row>(Intercept)</th><td> 3.4771</td><td>0.0000 </td></tr>\n",
       "\t<tr><th scope=row>genderMale</th><td> 0.2130</td><td>0.0000 </td></tr>\n",
       "\t<tr><th scope=row>age30-39</th><td> 0.2020</td><td>0.0098 </td></tr>\n",
       "\t<tr><th scope=row>age40-49</th><td> 0.3200</td><td>0.0000 </td></tr>\n",
       "\t<tr><th scope=row>age50 and above</th><td> 0.6076</td><td>0.0000 </td></tr>\n",
       "\t<tr><th scope=row>regionNorth America/Central America</th><td> 0.1833</td><td>0.0021 </td></tr>\n",
       "\t<tr><th scope=row>exercise</th><td> 0.0392</td><td>0.0033 </td></tr>\n",
       "\t<tr><th scope=row>breakfast</th><td> 0.0481</td><td>0.0000 </td></tr>\n",
       "\t<tr><th scope=row>coffee</th><td>-0.0478</td><td>0.0001 </td></tr>\n",
       "\t<tr><th scope=row>lhv(vegetables)</th><td>-0.0577</td><td>0.0287 </td></tr>\n",
       "\t<tr><th scope=row>fast_food</th><td>-0.0871</td><td>0.0000 </td></tr>\n",
       "</tbody>\n",
       "</table>\n"
      ],
      "text/latex": [
       "\\begin{tabular}{r|ll}\n",
       "  & Estimate & Pr(>\\textbar{}t\\textbar{})\\\\\n",
       "\\hline\n",
       "\t(Intercept) &  3.4771 & 0.0000 \\\\\n",
       "\tgenderMale &  0.2130 & 0.0000 \\\\\n",
       "\tage30-39 &  0.2020 & 0.0098 \\\\\n",
       "\tage40-49 &  0.3200 & 0.0000 \\\\\n",
       "\tage50 and above &  0.6076 & 0.0000 \\\\\n",
       "\tregionNorth America/Central America &  0.1833 & 0.0021 \\\\\n",
       "\texercise &  0.0392 & 0.0033 \\\\\n",
       "\tbreakfast &  0.0481 & 0.0000 \\\\\n",
       "\tcoffee & -0.0478 & 0.0001 \\\\\n",
       "\tlhv(vegetables) & -0.0577 & 0.0287 \\\\\n",
       "\tfast\\_food & -0.0871 & 0.0000 \\\\\n",
       "\\end{tabular}\n"
      ],
      "text/markdown": [
       "\n",
       "| <!--/--> | Estimate | Pr(>|t|) |\n",
       "|---|---|---|\n",
       "| (Intercept) |  3.4771 | 0.0000  |\n",
       "| genderMale |  0.2130 | 0.0000  |\n",
       "| age30-39 |  0.2020 | 0.0098  |\n",
       "| age40-49 |  0.3200 | 0.0000  |\n",
       "| age50 and above |  0.6076 | 0.0000  |\n",
       "| regionNorth America/Central America |  0.1833 | 0.0021  |\n",
       "| exercise |  0.0392 | 0.0033  |\n",
       "| breakfast |  0.0481 | 0.0000  |\n",
       "| coffee | -0.0478 | 0.0001  |\n",
       "| lhv(vegetables) | -0.0577 | 0.0287  |\n",
       "| fast_food | -0.0871 | 0.0000  |\n",
       "\n"
      ],
      "text/plain": [
       "                                    Estimate Pr(>|t|)\n",
       "(Intercept)                          3.4771  0.0000  \n",
       "genderMale                           0.2130  0.0000  \n",
       "age30-39                             0.2020  0.0098  \n",
       "age40-49                             0.3200  0.0000  \n",
       "age50 and above                      0.6076  0.0000  \n",
       "regionNorth America/Central America  0.1833  0.0021  \n",
       "exercise                             0.0392  0.0033  \n",
       "breakfast                            0.0481  0.0000  \n",
       "coffee                              -0.0478  0.0001  \n",
       "lhv(vegetables)                     -0.0577  0.0287  \n",
       "fast_food                           -0.0871  0.0000  "
      ]
     },
     "metadata": {},
     "output_type": "display_data"
    }
   ],
   "source": [
    "lmod2 = lm(y~gender+age+region+exercise+breakfast+coffee+lhv(vegetables)+fast_food, data = test)\n",
    "round(summary(lmod2)$coef[which(summary(lmod2)$coef[,4] <= .05),c(1,4)],4)"
   ]
  },
  {
   "cell_type": "markdown",
   "metadata": {},
   "source": [
    "# 2.3 Backward AIC"
   ]
  },
  {
   "cell_type": "markdown",
   "metadata": {},
   "source": [
    "To select which variables are significant, I used Backward AIC on linear regression model."
   ]
  },
  {
   "cell_type": "code",
   "execution_count": 55,
   "metadata": {},
   "outputs": [
    {
     "name": "stdout",
     "output_type": "stream",
     "text": [
      "Start:  AIC=-627.82\n",
      "y ~ gender + age + region + diet + education + exercise + breakfast + \n",
      "    lhw(whole_grain) + rhw(whole_grain) + dairy_product + coffee + \n",
      "    fruits + lhf(flaxseed_nuts) + rhf(flaxseed_nuts) + rice_pasta + \n",
      "    meat + lhv(vegetables) + rhv(vegetables) + beans + fish + \n",
      "    fast_food + multivitamin\n",
      "\n",
      "                     Df Sum of Sq    RSS     AIC\n",
      "- dairy_product       1    0.0001 630.14 -629.82\n",
      "- lhf(flaxseed_nuts)  1    0.0012 630.14 -629.82\n",
      "- multivitamin        1    0.0030 630.14 -629.81\n",
      "- fruits              1    0.0214 630.16 -629.78\n",
      "- fish                1    0.0337 630.17 -629.76\n",
      "- meat                1    0.0515 630.19 -629.72\n",
      "- rhv(vegetables)     1    0.2938 630.43 -629.28\n",
      "- lhw(whole_grain)    1    0.3552 630.49 -629.17\n",
      "- rhf(flaxseed_nuts)  1    0.6637 630.80 -628.61\n",
      "- diet                2    1.9890 632.13 -628.21\n",
      "- beans               1    0.9391 631.08 -628.11\n",
      "- rhw(whole_grain)    1    0.9902 631.13 -628.02\n",
      "- rice_pasta          1    1.0885 631.23 -627.84\n",
      "<none>                            630.14 -627.82\n",
      "- education           1    1.7981 631.94 -626.56\n",
      "- region              3    4.2090 634.35 -626.20\n",
      "- exercise            1    3.6378 633.78 -623.23\n",
      "- lhv(vegetables)     1    4.6026 634.74 -621.48\n",
      "- gender              1    5.0836 635.22 -620.62\n",
      "- coffee              1    5.1563 635.29 -620.49\n",
      "- breakfast           1   10.0591 640.20 -611.68\n",
      "- fast_food           1   16.5670 646.71 -600.10\n",
      "- age                 3   30.4518 660.59 -579.78\n",
      "\n",
      "Step:  AIC=-629.82\n",
      "y ~ gender + age + region + diet + education + exercise + breakfast + \n",
      "    lhw(whole_grain) + rhw(whole_grain) + coffee + fruits + lhf(flaxseed_nuts) + \n",
      "    rhf(flaxseed_nuts) + rice_pasta + meat + lhv(vegetables) + \n",
      "    rhv(vegetables) + beans + fish + fast_food + multivitamin\n",
      "\n",
      "                     Df Sum of Sq    RSS     AIC\n",
      "- lhf(flaxseed_nuts)  1    0.0012 630.14 -631.82\n",
      "- multivitamin        1    0.0030 630.14 -631.81\n",
      "- fruits              1    0.0215 630.16 -631.78\n",
      "- fish                1    0.0338 630.17 -631.76\n",
      "- meat                1    0.0518 630.19 -631.72\n",
      "- rhv(vegetables)     1    0.2957 630.43 -631.28\n",
      "- lhw(whole_grain)    1    0.3587 630.50 -631.17\n",
      "- rhf(flaxseed_nuts)  1    0.6636 630.80 -630.61\n",
      "- diet                2    1.9955 632.13 -630.20\n",
      "- beans               1    0.9518 631.09 -630.09\n",
      "- rhw(whole_grain)    1    1.0228 631.16 -629.96\n",
      "- rice_pasta          1    1.0992 631.24 -629.82\n",
      "<none>                            630.14 -629.82\n",
      "- education           1    1.7988 631.94 -628.55\n",
      "- region              3    4.2102 634.35 -628.19\n",
      "- exercise            1    3.6570 633.80 -625.19\n",
      "- lhv(vegetables)     1    4.6082 634.75 -623.47\n",
      "- gender              1    5.0859 635.22 -622.61\n",
      "- coffee              1    5.5088 635.65 -621.85\n",
      "- breakfast           1   10.0912 640.23 -613.63\n",
      "- fast_food           1   16.5831 646.72 -602.07\n",
      "- age                 3   30.4556 660.59 -581.77\n",
      "\n",
      "Step:  AIC=-631.82\n",
      "y ~ gender + age + region + diet + education + exercise + breakfast + \n",
      "    lhw(whole_grain) + rhw(whole_grain) + coffee + fruits + rhf(flaxseed_nuts) + \n",
      "    rice_pasta + meat + lhv(vegetables) + rhv(vegetables) + beans + \n",
      "    fish + fast_food + multivitamin\n",
      "\n",
      "                     Df Sum of Sq    RSS     AIC\n",
      "- multivitamin        1    0.0030 630.14 -633.81\n",
      "- fruits              1    0.0280 630.17 -633.76\n",
      "- fish                1    0.0330 630.17 -633.76\n",
      "- meat                1    0.0520 630.19 -633.72\n",
      "- rhv(vegetables)     1    0.2947 630.43 -633.28\n",
      "- lhw(whole_grain)    1    0.3581 630.50 -633.16\n",
      "- rhf(flaxseed_nuts)  1    0.8289 630.97 -632.31\n",
      "- diet                2    2.0357 632.18 -632.12\n",
      "- beans               1    0.9709 631.11 -632.05\n",
      "- rhw(whole_grain)    1    1.0381 631.18 -631.93\n",
      "- rice_pasta          1    1.0981 631.24 -631.82\n",
      "<none>                            630.14 -631.82\n",
      "- education           1    1.8066 631.95 -630.54\n",
      "- region              3    4.2111 634.35 -630.19\n",
      "- exercise            1    3.6586 633.80 -627.19\n",
      "- lhv(vegetables)     1    4.6100 634.75 -625.47\n",
      "- gender              1    5.0848 635.22 -624.61\n",
      "- coffee              1    5.6060 635.75 -623.67\n",
      "- breakfast           1   10.0907 640.23 -615.63\n",
      "- fast_food           1   16.5886 646.73 -604.06\n",
      "- age                 3   30.4752 660.61 -583.74\n",
      "\n",
      "Step:  AIC=-633.81\n",
      "y ~ gender + age + region + diet + education + exercise + breakfast + \n",
      "    lhw(whole_grain) + rhw(whole_grain) + coffee + fruits + rhf(flaxseed_nuts) + \n",
      "    rice_pasta + meat + lhv(vegetables) + rhv(vegetables) + beans + \n",
      "    fish + fast_food\n",
      "\n",
      "                     Df Sum of Sq    RSS     AIC\n",
      "- fruits              1     0.028 630.17 -635.76\n",
      "- fish                1     0.036 630.18 -635.75\n",
      "- meat                1     0.053 630.20 -635.71\n",
      "- rhv(vegetables)     1     0.295 630.44 -635.27\n",
      "- lhw(whole_grain)    1     0.361 630.50 -635.15\n",
      "- rhf(flaxseed_nuts)  1     0.830 630.97 -634.30\n",
      "- diet                2     2.039 632.18 -634.11\n",
      "- beans               1     0.971 631.11 -634.05\n",
      "- rhw(whole_grain)    1     1.037 631.18 -633.93\n",
      "- rice_pasta          1     1.100 631.24 -633.81\n",
      "<none>                            630.14 -633.81\n",
      "- education           1     1.804 631.95 -632.54\n",
      "- region              3     4.284 634.43 -632.05\n",
      "- exercise            1     3.695 633.84 -629.12\n",
      "- lhv(vegetables)     1     4.610 634.75 -627.46\n",
      "- gender              1     5.091 635.23 -626.60\n",
      "- coffee              1     5.603 635.75 -625.67\n",
      "- breakfast           1    10.193 640.34 -617.44\n",
      "- fast_food           1    16.640 646.78 -605.97\n",
      "- age                 3    31.728 661.87 -583.56\n",
      "\n",
      "Step:  AIC=-635.76\n",
      "y ~ gender + age + region + diet + education + exercise + breakfast + \n",
      "    lhw(whole_grain) + rhw(whole_grain) + coffee + rhf(flaxseed_nuts) + \n",
      "    rice_pasta + meat + lhv(vegetables) + rhv(vegetables) + beans + \n",
      "    fish + fast_food\n",
      "\n",
      "                     Df Sum of Sq    RSS     AIC\n",
      "- fish                1     0.033 630.20 -637.70\n",
      "- meat                1     0.049 630.22 -637.67\n",
      "- rhv(vegetables)     1     0.274 630.45 -637.26\n",
      "- lhw(whole_grain)    1     0.343 630.51 -637.13\n",
      "- rhf(flaxseed_nuts)  1     0.802 630.97 -636.30\n",
      "- diet                2     2.049 632.22 -636.04\n",
      "- beans               1     0.983 631.15 -635.97\n",
      "<none>                            630.17 -635.76\n",
      "- rice_pasta          1     1.123 631.29 -635.72\n",
      "- rhw(whole_grain)    1     1.146 631.32 -635.68\n",
      "- education           1     1.787 631.96 -634.52\n",
      "- region              3     4.262 634.43 -634.04\n",
      "- exercise            1     3.671 633.84 -631.11\n",
      "- lhv(vegetables)     1     4.582 634.75 -629.46\n",
      "- gender              1     5.099 635.27 -628.53\n",
      "- coffee              1     6.124 636.30 -626.68\n",
      "- breakfast           1    10.165 640.34 -619.44\n",
      "- fast_food           1    16.648 646.82 -607.90\n",
      "- age                 3    31.737 661.91 -585.50\n",
      "\n",
      "Step:  AIC=-637.7\n",
      "y ~ gender + age + region + diet + education + exercise + breakfast + \n",
      "    lhw(whole_grain) + rhw(whole_grain) + coffee + rhf(flaxseed_nuts) + \n",
      "    rice_pasta + meat + lhv(vegetables) + rhv(vegetables) + beans + \n",
      "    fast_food\n",
      "\n",
      "                     Df Sum of Sq    RSS     AIC\n",
      "- meat                1     0.040 630.24 -639.63\n",
      "- rhv(vegetables)     1     0.309 630.51 -639.14\n",
      "- lhw(whole_grain)    1     0.350 630.55 -639.06\n",
      "- rhf(flaxseed_nuts)  1     0.812 631.02 -638.22\n",
      "- diet                2     2.042 632.25 -637.99\n",
      "- beans               1     0.955 631.16 -637.97\n",
      "<none>                            630.20 -637.70\n",
      "- rhw(whole_grain)    1     1.144 631.35 -637.62\n",
      "- rice_pasta          1     1.145 631.35 -637.62\n",
      "- education           1     1.786 631.99 -636.46\n",
      "- region              3     4.266 634.47 -635.97\n",
      "- exercise            1     3.725 633.93 -632.95\n",
      "- lhv(vegetables)     1     4.682 634.89 -631.22\n",
      "- gender              1     5.129 635.33 -630.42\n",
      "- coffee              1     6.111 636.31 -628.65\n",
      "- breakfast           1    10.227 640.43 -621.27\n",
      "- fast_food           1    16.684 646.89 -609.78\n",
      "- age                 3    32.411 662.61 -586.28\n",
      "\n",
      "Step:  AIC=-639.63\n",
      "y ~ gender + age + region + diet + education + exercise + breakfast + \n",
      "    lhw(whole_grain) + rhw(whole_grain) + coffee + rhf(flaxseed_nuts) + \n",
      "    rice_pasta + lhv(vegetables) + rhv(vegetables) + beans + \n",
      "    fast_food\n",
      "\n"
     ]
    },
    {
     "name": "stdout",
     "output_type": "stream",
     "text": [
      "                     Df Sum of Sq    RSS     AIC\n",
      "- rhv(vegetables)     1     0.282 630.53 -641.11\n",
      "- lhw(whole_grain)    1     0.359 630.60 -640.97\n",
      "- rhf(flaxseed_nuts)  1     0.805 631.05 -640.16\n",
      "- diet                2     2.011 632.25 -639.98\n",
      "- beans               1     0.920 631.16 -639.96\n",
      "<none>                            630.24 -639.63\n",
      "- rhw(whole_grain)    1     1.136 631.38 -639.57\n",
      "- rice_pasta          1     1.294 631.54 -639.28\n",
      "- education           1     1.767 632.01 -638.42\n",
      "- region              3     4.248 634.49 -637.94\n",
      "- exercise            1     3.724 633.97 -634.88\n",
      "- lhv(vegetables)     1     4.642 634.89 -633.22\n",
      "- gender              1     5.091 635.33 -632.41\n",
      "- coffee              1     6.149 636.39 -630.51\n",
      "- breakfast           1    10.188 640.43 -623.27\n",
      "- fast_food           1    16.994 647.24 -611.16\n",
      "- age                 3    32.455 662.70 -588.13\n",
      "\n",
      "Step:  AIC=-641.11\n",
      "y ~ gender + age + region + diet + education + exercise + breakfast + \n",
      "    lhw(whole_grain) + rhw(whole_grain) + coffee + rhf(flaxseed_nuts) + \n",
      "    rice_pasta + lhv(vegetables) + beans + fast_food\n",
      "\n",
      "                     Df Sum of Sq    RSS     AIC\n",
      "- lhw(whole_grain)    1     0.436 630.96 -642.32\n",
      "- beans               1     0.720 631.25 -641.81\n",
      "- diet                2     1.933 632.46 -641.61\n",
      "- rhf(flaxseed_nuts)  1     0.932 631.46 -641.42\n",
      "- rhw(whole_grain)    1     1.032 631.56 -641.24\n",
      "<none>                            630.53 -641.11\n",
      "- rice_pasta          1     1.232 631.76 -640.88\n",
      "- education           1     1.791 632.32 -639.87\n",
      "- region              3     4.467 634.99 -639.03\n",
      "- exercise            1     4.169 634.69 -635.57\n",
      "- lhv(vegetables)     1     4.360 634.89 -635.22\n",
      "- gender              1     4.921 635.45 -634.21\n",
      "- coffee              1     6.179 636.71 -631.95\n",
      "- breakfast           1    10.161 640.69 -624.81\n",
      "- fast_food           1    17.435 647.96 -611.88\n",
      "- age                 3    33.236 663.76 -588.30\n",
      "\n",
      "Step:  AIC=-642.32\n",
      "y ~ gender + age + region + diet + education + exercise + breakfast + \n",
      "    rhw(whole_grain) + coffee + rhf(flaxseed_nuts) + rice_pasta + \n",
      "    lhv(vegetables) + beans + fast_food\n",
      "\n",
      "                     Df Sum of Sq    RSS     AIC\n",
      "- beans               1     0.570 631.53 -643.29\n",
      "- diet                2     1.954 632.92 -642.78\n",
      "- rhf(flaxseed_nuts)  1     1.073 632.03 -642.38\n",
      "<none>                            630.96 -642.32\n",
      "- rice_pasta          1     1.338 632.30 -641.90\n",
      "- education           1     1.747 632.71 -641.16\n",
      "- rhw(whole_grain)    1     1.749 632.71 -641.15\n",
      "- region              3     4.454 635.42 -640.27\n",
      "- exercise            1     4.461 635.42 -636.26\n",
      "- lhv(vegetables)     1     4.651 635.61 -635.91\n",
      "- gender              1     4.944 635.91 -635.38\n",
      "- coffee              1     5.915 636.88 -633.64\n",
      "- breakfast           1    11.647 642.61 -623.38\n",
      "- fast_food           1    17.615 648.58 -612.79\n",
      "- age                 3    32.816 663.78 -590.27\n",
      "\n",
      "Step:  AIC=-643.29\n",
      "y ~ gender + age + region + diet + education + exercise + breakfast + \n",
      "    rhw(whole_grain) + coffee + rhf(flaxseed_nuts) + rice_pasta + \n",
      "    lhv(vegetables) + fast_food\n",
      "\n",
      "                     Df Sum of Sq    RSS     AIC\n",
      "- rhf(flaxseed_nuts)  1     0.876 632.41 -643.70\n",
      "- diet                2     2.144 633.68 -643.41\n",
      "<none>                            631.53 -643.29\n",
      "- education           1     1.649 633.18 -642.30\n",
      "- rice_pasta          1     1.674 633.21 -642.26\n",
      "- rhw(whole_grain)    1     1.903 633.43 -641.84\n",
      "- region              3     4.175 635.71 -641.74\n",
      "- exercise            1     4.132 635.66 -637.82\n",
      "- lhv(vegetables)     1     4.428 635.96 -637.29\n",
      "- gender              1     5.174 636.71 -635.95\n",
      "- coffee              1     6.055 637.59 -634.36\n",
      "- breakfast           1    11.467 643.00 -624.69\n",
      "- fast_food           1    17.313 648.84 -614.32\n",
      "- age                 3    32.990 664.52 -590.99\n",
      "\n",
      "Step:  AIC=-643.7\n",
      "y ~ gender + age + region + diet + education + exercise + breakfast + \n",
      "    rhw(whole_grain) + coffee + rice_pasta + lhv(vegetables) + \n",
      "    fast_food\n",
      "\n",
      "                   Df Sum of Sq    RSS     AIC\n",
      "- diet              2     2.102 634.51 -643.90\n",
      "<none>                          632.41 -643.70\n",
      "- education         1     1.588 634.00 -642.83\n",
      "- rice_pasta        1     1.608 634.02 -642.79\n",
      "- rhw(whole_grain)  1     1.632 634.04 -642.75\n",
      "- region            3     4.354 636.76 -641.84\n",
      "- lhv(vegetables)   1     4.555 636.96 -637.48\n",
      "- exercise          1     4.688 637.10 -637.24\n",
      "- gender            1     5.123 637.53 -636.46\n",
      "- coffee            1     5.747 638.15 -635.34\n",
      "- breakfast         1    11.431 643.84 -625.19\n",
      "- fast_food         1    18.062 650.47 -613.46\n",
      "- age               3    35.269 667.68 -587.56\n",
      "\n",
      "Step:  AIC=-643.9\n",
      "y ~ gender + age + region + education + exercise + breakfast + \n",
      "    rhw(whole_grain) + coffee + rice_pasta + lhv(vegetables) + \n",
      "    fast_food\n",
      "\n",
      "                   Df Sum of Sq    RSS     AIC\n",
      "<none>                          634.51 -643.90\n",
      "- education         1     1.193 635.70 -643.75\n",
      "- rhw(whole_grain)  1     1.619 636.13 -642.98\n",
      "- rice_pasta        1     1.673 636.18 -642.89\n",
      "- lhv(vegetables)   1     4.225 638.73 -638.30\n",
      "- exercise          1     4.822 639.33 -637.23\n",
      "- gender            1     5.370 639.88 -636.25\n",
      "- coffee            1     5.976 640.49 -635.17\n",
      "- region            3     9.774 644.28 -632.40\n",
      "- breakfast         1    11.097 645.61 -626.05\n",
      "- fast_food         1    17.175 651.68 -615.32\n",
      "- age               3    34.728 669.24 -588.89\n"
     ]
    }
   ],
   "source": [
    "baic = stepAIC(lmod1, direction = 'backward')"
   ]
  },
  {
   "cell_type": "markdown",
   "metadata": {},
   "source": [
    "<b> The variables backward AIC select are:"
   ]
  },
  {
   "cell_type": "code",
   "execution_count": 56,
   "metadata": {},
   "outputs": [
    {
     "data": {
      "text/html": [
       "<dl class=dl-horizontal>\n",
       "\t<dt>(Intercept)</dt>\n",
       "\t\t<dd>3.43</dd>\n",
       "\t<dt>genderMale</dt>\n",
       "\t\t<dd>0.1579</dd>\n",
       "\t<dt>age30-39</dt>\n",
       "\t\t<dd>0.1521</dd>\n",
       "\t<dt>age40-49</dt>\n",
       "\t\t<dd>0.3592</dd>\n",
       "\t<dt>age50 and above</dt>\n",
       "\t\t<dd>0.5475</dd>\n",
       "\t<dt>regionAsia</dt>\n",
       "\t\t<dd>-0.0744</dd>\n",
       "\t<dt>regionEurope</dt>\n",
       "\t\t<dd>0.0977</dd>\n",
       "\t<dt>regionNorth America/Central America</dt>\n",
       "\t\t<dd>0.2047</dd>\n",
       "\t<dt>education</dt>\n",
       "\t\t<dd>0.0283</dd>\n",
       "\t<dt>exercise</dt>\n",
       "\t\t<dd>0.0398</dd>\n",
       "\t<dt>breakfast</dt>\n",
       "\t\t<dd>0.0509</dd>\n",
       "\t<dt>rhw(whole_grain)</dt>\n",
       "\t\t<dd>-0.0265</dd>\n",
       "\t<dt>coffee</dt>\n",
       "\t\t<dd>-0.0398</dd>\n",
       "\t<dt>rice_pasta</dt>\n",
       "\t\t<dd>-0.0274</dd>\n",
       "\t<dt>lhv(vegetables)</dt>\n",
       "\t\t<dd>-0.0711</dd>\n",
       "\t<dt>fast_food</dt>\n",
       "\t\t<dd>-0.0936</dd>\n",
       "</dl>\n"
      ],
      "text/latex": [
       "\\begin{description*}\n",
       "\\item[(Intercept)] 3.43\n",
       "\\item[genderMale] 0.1579\n",
       "\\item[age30-39] 0.1521\n",
       "\\item[age40-49] 0.3592\n",
       "\\item[age50 and above] 0.5475\n",
       "\\item[regionAsia] -0.0744\n",
       "\\item[regionEurope] 0.0977\n",
       "\\item[regionNorth America/Central America] 0.2047\n",
       "\\item[education] 0.0283\n",
       "\\item[exercise] 0.0398\n",
       "\\item[breakfast] 0.0509\n",
       "\\item[rhw(whole\\textbackslash{}\\_grain)] -0.0265\n",
       "\\item[coffee] -0.0398\n",
       "\\item[rice\\textbackslash{}\\_pasta] -0.0274\n",
       "\\item[lhv(vegetables)] -0.0711\n",
       "\\item[fast\\textbackslash{}\\_food] -0.0936\n",
       "\\end{description*}\n"
      ],
      "text/markdown": [
       "(Intercept)\n",
       ":   3.43genderMale\n",
       ":   0.1579age30-39\n",
       ":   0.1521age40-49\n",
       ":   0.3592age50 and above\n",
       ":   0.5475regionAsia\n",
       ":   -0.0744regionEurope\n",
       ":   0.0977regionNorth America/Central America\n",
       ":   0.2047education\n",
       ":   0.0283exercise\n",
       ":   0.0398breakfast\n",
       ":   0.0509rhw(whole_grain)\n",
       ":   -0.0265coffee\n",
       ":   -0.0398rice_pasta\n",
       ":   -0.0274lhv(vegetables)\n",
       ":   -0.0711fast_food\n",
       ":   -0.0936\n",
       "\n"
      ],
      "text/plain": [
       "                        (Intercept)                          genderMale \n",
       "                             3.4300                              0.1579 \n",
       "                           age30-39                            age40-49 \n",
       "                             0.1521                              0.3592 \n",
       "                    age50 and above                          regionAsia \n",
       "                             0.5475                             -0.0744 \n",
       "                       regionEurope regionNorth America/Central America \n",
       "                             0.0977                              0.2047 \n",
       "                          education                            exercise \n",
       "                             0.0283                              0.0398 \n",
       "                          breakfast                    rhw(whole_grain) \n",
       "                             0.0509                             -0.0265 \n",
       "                             coffee                          rice_pasta \n",
       "                            -0.0398                             -0.0274 \n",
       "                    lhv(vegetables)                           fast_food \n",
       "                            -0.0711                             -0.0936 "
      ]
     },
     "metadata": {},
     "output_type": "display_data"
    }
   ],
   "source": [
    "round(baic$coef,4)"
   ]
  },
  {
   "cell_type": "markdown",
   "metadata": {},
   "source": [
    "<b> Use the variables backward AIC select to fit linear regression model on test dataset, significant variables and their coefficients are:"
   ]
  },
  {
   "cell_type": "code",
   "execution_count": 57,
   "metadata": {
    "scrolled": false
   },
   "outputs": [
    {
     "data": {
      "text/html": [
       "<table>\n",
       "<thead><tr><th></th><th scope=col>Estimate</th><th scope=col>Pr(&gt;|t|)</th></tr></thead>\n",
       "<tbody>\n",
       "\t<tr><th scope=row>(Intercept)</th><td> 3.3166</td><td>0.0000 </td></tr>\n",
       "\t<tr><th scope=row>genderMale</th><td> 0.2059</td><td>0.0000 </td></tr>\n",
       "\t<tr><th scope=row>age40-49</th><td> 0.2411</td><td>0.0016 </td></tr>\n",
       "\t<tr><th scope=row>age50 and above</th><td> 0.5357</td><td>0.0000 </td></tr>\n",
       "\t<tr><th scope=row>regionNorth America/Central America</th><td> 0.1970</td><td>0.0010 </td></tr>\n",
       "\t<tr><th scope=row>education</th><td> 0.0651</td><td>0.0009 </td></tr>\n",
       "\t<tr><th scope=row>exercise</th><td> 0.0402</td><td>0.0025 </td></tr>\n",
       "\t<tr><th scope=row>breakfast</th><td> 0.0485</td><td>0.0000 </td></tr>\n",
       "\t<tr><th scope=row>coffee</th><td>-0.0462</td><td>0.0001 </td></tr>\n",
       "\t<tr><th scope=row>lhv(vegetables)</th><td>-0.0577</td><td>0.0282 </td></tr>\n",
       "\t<tr><th scope=row>fast_food</th><td>-0.0841</td><td>0.0000 </td></tr>\n",
       "</tbody>\n",
       "</table>\n"
      ],
      "text/latex": [
       "\\begin{tabular}{r|ll}\n",
       "  & Estimate & Pr(>\\textbar{}t\\textbar{})\\\\\n",
       "\\hline\n",
       "\t(Intercept) &  3.3166 & 0.0000 \\\\\n",
       "\tgenderMale &  0.2059 & 0.0000 \\\\\n",
       "\tage40-49 &  0.2411 & 0.0016 \\\\\n",
       "\tage50 and above &  0.5357 & 0.0000 \\\\\n",
       "\tregionNorth America/Central America &  0.1970 & 0.0010 \\\\\n",
       "\teducation &  0.0651 & 0.0009 \\\\\n",
       "\texercise &  0.0402 & 0.0025 \\\\\n",
       "\tbreakfast &  0.0485 & 0.0000 \\\\\n",
       "\tcoffee & -0.0462 & 0.0001 \\\\\n",
       "\tlhv(vegetables) & -0.0577 & 0.0282 \\\\\n",
       "\tfast\\_food & -0.0841 & 0.0000 \\\\\n",
       "\\end{tabular}\n"
      ],
      "text/markdown": [
       "\n",
       "| <!--/--> | Estimate | Pr(>|t|) |\n",
       "|---|---|---|\n",
       "| (Intercept) |  3.3166 | 0.0000  |\n",
       "| genderMale |  0.2059 | 0.0000  |\n",
       "| age40-49 |  0.2411 | 0.0016  |\n",
       "| age50 and above |  0.5357 | 0.0000  |\n",
       "| regionNorth America/Central America |  0.1970 | 0.0010  |\n",
       "| education |  0.0651 | 0.0009  |\n",
       "| exercise |  0.0402 | 0.0025  |\n",
       "| breakfast |  0.0485 | 0.0000  |\n",
       "| coffee | -0.0462 | 0.0001  |\n",
       "| lhv(vegetables) | -0.0577 | 0.0282  |\n",
       "| fast_food | -0.0841 | 0.0000  |\n",
       "\n"
      ],
      "text/plain": [
       "                                    Estimate Pr(>|t|)\n",
       "(Intercept)                          3.3166  0.0000  \n",
       "genderMale                           0.2059  0.0000  \n",
       "age40-49                             0.2411  0.0016  \n",
       "age50 and above                      0.5357  0.0000  \n",
       "regionNorth America/Central America  0.1970  0.0010  \n",
       "education                            0.0651  0.0009  \n",
       "exercise                             0.0402  0.0025  \n",
       "breakfast                            0.0485  0.0000  \n",
       "coffee                              -0.0462  0.0001  \n",
       "lhv(vegetables)                     -0.0577  0.0282  \n",
       "fast_food                           -0.0841  0.0000  "
      ]
     },
     "metadata": {},
     "output_type": "display_data"
    }
   ],
   "source": [
    "lmod_aic = lm(y~gender+age+region+education+exercise+breakfast+rhw(whole_grain)+coffee+rice_pasta+lhv(vegetables)+fast_food,data = test)\n",
    "round(summary(lmod_aic)$coef[which(summary(lmod_aic)$coef[,4] <= .05),c(1,4)],4)"
   ]
  },
  {
   "cell_type": "markdown",
   "metadata": {},
   "source": [
    "# 2.4 Cross Validation on LASSO regression"
   ]
  },
  {
   "cell_type": "markdown",
   "metadata": {},
   "source": [
    "Also I use cross validation on LASSO regression."
   ]
  },
  {
   "cell_type": "code",
   "execution_count": 58,
   "metadata": {
    "scrolled": false
   },
   "outputs": [
    {
     "data": {
      "text/html": [
       "<table>\n",
       "<tbody>\n",
       "\t<tr><th scope=row>gender</th><td> 0.1120</td></tr>\n",
       "\t<tr><th scope=row>age</th><td> 0.0778</td></tr>\n",
       "\t<tr><th scope=row>region</th><td> 0.0236</td></tr>\n",
       "\t<tr><th scope=row>education</th><td> 0.0231</td></tr>\n",
       "\t<tr><th scope=row>diet</th><td> 0.0053</td></tr>\n",
       "\t<tr><th scope=row>exercise</th><td> 0.0367</td></tr>\n",
       "\t<tr><th scope=row>breakfast</th><td> 0.0436</td></tr>\n",
       "\t<tr><th scope=row>coffee</th><td>-0.0364</td></tr>\n",
       "\t<tr><th scope=row>rice_pasta</th><td>-0.0220</td></tr>\n",
       "\t<tr><th scope=row>vegetables</th><td> 0.0230</td></tr>\n",
       "\t<tr><th scope=row>beans</th><td>-0.0101</td></tr>\n",
       "\t<tr><th scope=row>fast_food</th><td>-0.0882</td></tr>\n",
       "</tbody>\n",
       "</table>\n"
      ],
      "text/latex": [
       "\\begin{tabular}{r|l}\n",
       "\tgender &  0.1120\\\\\n",
       "\tage &  0.0778\\\\\n",
       "\tregion &  0.0236\\\\\n",
       "\teducation &  0.0231\\\\\n",
       "\tdiet &  0.0053\\\\\n",
       "\texercise &  0.0367\\\\\n",
       "\tbreakfast &  0.0436\\\\\n",
       "\tcoffee & -0.0364\\\\\n",
       "\trice\\_pasta & -0.0220\\\\\n",
       "\tvegetables &  0.0230\\\\\n",
       "\tbeans & -0.0101\\\\\n",
       "\tfast\\_food & -0.0882\\\\\n",
       "\\end{tabular}\n"
      ],
      "text/markdown": [
       "\n",
       "| gender |  0.1120 |\n",
       "| age |  0.0778 |\n",
       "| region |  0.0236 |\n",
       "| education |  0.0231 |\n",
       "| diet |  0.0053 |\n",
       "| exercise |  0.0367 |\n",
       "| breakfast |  0.0436 |\n",
       "| coffee | -0.0364 |\n",
       "| rice_pasta | -0.0220 |\n",
       "| vegetables |  0.0230 |\n",
       "| beans | -0.0101 |\n",
       "| fast_food | -0.0882 |\n",
       "\n"
      ],
      "text/plain": [
       "           [,1]   \n",
       "gender      0.1120\n",
       "age         0.0778\n",
       "region      0.0236\n",
       "education   0.0231\n",
       "diet        0.0053\n",
       "exercise    0.0367\n",
       "breakfast   0.0436\n",
       "coffee     -0.0364\n",
       "rice_pasta -0.0220\n",
       "vegetables  0.0230\n",
       "beans      -0.0101\n",
       "fast_food  -0.0882"
      ]
     },
     "metadata": {},
     "output_type": "display_data"
    }
   ],
   "source": [
    "mod_cv = cv.glmnet(data.matrix(train_x), train_y)\n",
    "\n",
    "mod_lasso = glmnet(x=data.matrix(train_x), y=train_y, family=\"gaussian\", lambda=mod_cv$lambda.min, alpha=1)\n",
    "round(as.matrix(mod_lasso$beta[which(mod_lasso$beta!=0),]),4)"
   ]
  },
  {
   "cell_type": "markdown",
   "metadata": {},
   "source": [
    "# 2.5 Analysis on 18-29 years old sample"
   ]
  },
  {
   "cell_type": "code",
   "execution_count": 59,
   "metadata": {},
   "outputs": [
    {
     "data": {
      "text/html": [
       "744"
      ],
      "text/latex": [
       "744"
      ],
      "text/markdown": [
       "744"
      ],
      "text/plain": [
       "[1] 744"
      ]
     },
     "metadata": {},
     "output_type": "display_data"
    }
   ],
   "source": [
    "df18s = df[sample(nrow(df18),0.5*nrow(df18)),]\n",
    "dim(df18s)[1]"
   ]
  },
  {
   "cell_type": "markdown",
   "metadata": {},
   "source": [
    "<b> Linear regression:"
   ]
  },
  {
   "cell_type": "code",
   "execution_count": 60,
   "metadata": {},
   "outputs": [
    {
     "data": {
      "text/html": [
       "<table>\n",
       "<thead><tr><th></th><th scope=col>Estimate</th><th scope=col>Pr(&gt;|t|)</th></tr></thead>\n",
       "<tbody>\n",
       "\t<tr><th scope=row>(Intercept)</th><td> 3.2494</td><td>0.0000 </td></tr>\n",
       "\t<tr><th scope=row>regionNorth America/Central America</th><td> 0.2847</td><td>0.0002 </td></tr>\n",
       "\t<tr><th scope=row>education</th><td> 0.1087</td><td>0.0000 </td></tr>\n",
       "\t<tr><th scope=row>exercise</th><td> 0.0493</td><td>0.0036 </td></tr>\n",
       "\t<tr><th scope=row>rhf(flaxseed_nuts)</th><td> 0.2325</td><td>0.0477 </td></tr>\n",
       "\t<tr><th scope=row>rice_pasta</th><td>-0.0493</td><td>0.0141 </td></tr>\n",
       "\t<tr><th scope=row>fast_food</th><td>-0.0933</td><td>0.0000 </td></tr>\n",
       "</tbody>\n",
       "</table>\n"
      ],
      "text/latex": [
       "\\begin{tabular}{r|ll}\n",
       "  & Estimate & Pr(>\\textbar{}t\\textbar{})\\\\\n",
       "\\hline\n",
       "\t(Intercept) &  3.2494 & 0.0000 \\\\\n",
       "\tregionNorth America/Central America &  0.2847 & 0.0002 \\\\\n",
       "\teducation &  0.1087 & 0.0000 \\\\\n",
       "\texercise &  0.0493 & 0.0036 \\\\\n",
       "\trhf(flaxseed\\_nuts) &  0.2325 & 0.0477 \\\\\n",
       "\trice\\_pasta & -0.0493 & 0.0141 \\\\\n",
       "\tfast\\_food & -0.0933 & 0.0000 \\\\\n",
       "\\end{tabular}\n"
      ],
      "text/markdown": [
       "\n",
       "| <!--/--> | Estimate | Pr(>|t|) |\n",
       "|---|---|---|\n",
       "| (Intercept) |  3.2494 | 0.0000  |\n",
       "| regionNorth America/Central America |  0.2847 | 0.0002  |\n",
       "| education |  0.1087 | 0.0000  |\n",
       "| exercise |  0.0493 | 0.0036  |\n",
       "| rhf(flaxseed_nuts) |  0.2325 | 0.0477  |\n",
       "| rice_pasta | -0.0493 | 0.0141  |\n",
       "| fast_food | -0.0933 | 0.0000  |\n",
       "\n"
      ],
      "text/plain": [
       "                                    Estimate Pr(>|t|)\n",
       "(Intercept)                          3.2494  0.0000  \n",
       "regionNorth America/Central America  0.2847  0.0002  \n",
       "education                            0.1087  0.0000  \n",
       "exercise                             0.0493  0.0036  \n",
       "rhf(flaxseed_nuts)                   0.2325  0.0477  \n",
       "rice_pasta                          -0.0493  0.0141  \n",
       "fast_food                           -0.0933  0.0000  "
      ]
     },
     "metadata": {},
     "output_type": "display_data"
    }
   ],
   "source": [
    "lmod18_1 = lm(y~gender+region+diet+education+exercise+breakfast+lhw(whole_grain)+rhw(whole_grain)+dairy_product+coffee+\n",
    "           fruits+lhf(flaxseed_nuts)+rhf(flaxseed_nuts)+rice_pasta+meat+lhv(vegetables)+rhv(vegetables)+beans+fish+fast_food\n",
    "           +multivitamin, data = df18s)\n",
    "round(summary(lmod18_1)$coef[which(summary(lmod18_1)$coef[,4] <= .05),c(1,4)],4)"
   ]
  },
  {
   "cell_type": "markdown",
   "metadata": {},
   "source": [
    "<b> Backward AIC"
   ]
  },
  {
   "cell_type": "code",
   "execution_count": 61,
   "metadata": {
    "scrolled": true
   },
   "outputs": [
    {
     "name": "stdout",
     "output_type": "stream",
     "text": [
      "Start:  AIC=-438.43\n",
      "y ~ gender + region + diet + education + exercise + breakfast + \n",
      "    lhw(whole_grain) + rhw(whole_grain) + dairy_product + coffee + \n",
      "    fruits + lhf(flaxseed_nuts) + rhf(flaxseed_nuts) + rice_pasta + \n",
      "    meat + lhv(vegetables) + rhv(vegetables) + beans + fish + \n",
      "    fast_food + multivitamin\n",
      "\n",
      "                     Df Sum of Sq    RSS     AIC\n",
      "- diet                2    0.8769 386.76 -440.74\n",
      "- lhw(whole_grain)    1    0.0010 385.89 -440.43\n",
      "- rhw(whole_grain)    1    0.0014 385.89 -440.43\n",
      "- fruits              1    0.0272 385.91 -440.38\n",
      "- gender              1    0.0463 385.93 -440.34\n",
      "- rhv(vegetables)     1    0.1406 386.03 -440.16\n",
      "- dairy_product       1    0.1446 386.03 -440.15\n",
      "- lhv(vegetables)     1    0.2090 386.10 -440.03\n",
      "- multivitamin        1    0.3299 386.22 -439.80\n",
      "- meat                1    0.5159 386.40 -439.44\n",
      "- beans               1    0.7815 386.67 -438.93\n",
      "- lhf(flaxseed_nuts)  1    0.9996 386.89 -438.51\n",
      "<none>                            385.89 -438.43\n",
      "- fish                1    1.0769 386.96 -438.36\n",
      "- coffee              1    1.3450 387.23 -437.84\n",
      "- breakfast           1    1.6366 387.52 -437.28\n",
      "- rhf(flaxseed_nuts)  1    2.1115 388.00 -436.37\n",
      "- rice_pasta          1    3.2512 389.14 -434.19\n",
      "- exercise            1    4.5657 390.45 -431.68\n",
      "- region              3   11.6453 397.53 -422.31\n",
      "- fast_food           1   10.0948 395.98 -421.22\n",
      "- education           1   14.0707 399.96 -413.79\n",
      "\n",
      "Step:  AIC=-440.74\n",
      "y ~ gender + region + education + exercise + breakfast + lhw(whole_grain) + \n",
      "    rhw(whole_grain) + dairy_product + coffee + fruits + lhf(flaxseed_nuts) + \n",
      "    rhf(flaxseed_nuts) + rice_pasta + meat + lhv(vegetables) + \n",
      "    rhv(vegetables) + beans + fish + fast_food + multivitamin\n",
      "\n",
      "                     Df Sum of Sq    RSS     AIC\n",
      "- lhw(whole_grain)    1    0.0000 386.76 -442.74\n",
      "- rhw(whole_grain)    1    0.0027 386.77 -442.74\n",
      "- fruits              1    0.0089 386.77 -442.73\n",
      "- gender              1    0.0578 386.82 -442.63\n",
      "- dairy_product       1    0.0871 386.85 -442.58\n",
      "- rhv(vegetables)     1    0.1350 386.90 -442.49\n",
      "- lhv(vegetables)     1    0.2771 387.04 -442.21\n",
      "- multivitamin        1    0.3205 387.08 -442.13\n",
      "- meat                1    0.5382 387.30 -441.71\n",
      "- beans               1    0.7062 387.47 -441.39\n",
      "- lhf(flaxseed_nuts)  1    0.8461 387.61 -441.12\n",
      "<none>                            386.76 -440.74\n",
      "- fish                1    1.1166 387.88 -440.60\n",
      "- coffee              1    1.3612 388.12 -440.13\n",
      "- breakfast           1    1.5676 388.33 -439.74\n",
      "- rhf(flaxseed_nuts)  1    2.0736 388.84 -438.77\n",
      "- rice_pasta          1    3.2853 390.05 -436.45\n",
      "- exercise            1    4.3882 391.15 -434.35\n",
      "- fast_food           1   10.8641 397.63 -422.13\n",
      "- region              3   13.9081 400.67 -420.46\n",
      "- education           1   15.5711 402.33 -413.38\n",
      "\n",
      "Step:  AIC=-442.74\n",
      "y ~ gender + region + education + exercise + breakfast + rhw(whole_grain) + \n",
      "    dairy_product + coffee + fruits + lhf(flaxseed_nuts) + rhf(flaxseed_nuts) + \n",
      "    rice_pasta + meat + lhv(vegetables) + rhv(vegetables) + beans + \n",
      "    fish + fast_food + multivitamin\n",
      "\n",
      "                     Df Sum of Sq    RSS     AIC\n",
      "- rhw(whole_grain)    1    0.0032 386.77 -444.74\n",
      "- fruits              1    0.0090 386.77 -444.73\n",
      "- gender              1    0.0580 386.82 -444.63\n",
      "- dairy_product       1    0.0874 386.85 -444.58\n",
      "- rhv(vegetables)     1    0.1356 386.90 -444.48\n",
      "- lhv(vegetables)     1    0.2793 387.04 -444.21\n",
      "- multivitamin        1    0.3226 387.09 -444.12\n",
      "- meat                1    0.5430 387.31 -443.70\n",
      "- beans               1    0.7073 387.47 -443.39\n",
      "- lhf(flaxseed_nuts)  1    0.8470 387.61 -443.12\n",
      "<none>                            386.76 -442.74\n",
      "- fish                1    1.1233 387.89 -442.59\n",
      "- coffee              1    1.3619 388.13 -442.13\n",
      "- breakfast           1    1.5908 388.35 -441.69\n",
      "- rhf(flaxseed_nuts)  1    2.0736 388.84 -440.77\n",
      "- rice_pasta          1    3.2856 390.05 -438.45\n",
      "- exercise            1    4.3998 391.16 -436.33\n",
      "- fast_food           1   10.9101 397.67 -424.05\n",
      "- region              3   13.9761 400.74 -422.33\n",
      "- education           1   15.6693 402.43 -415.20\n",
      "\n",
      "Step:  AIC=-444.74\n",
      "y ~ gender + region + education + exercise + breakfast + dairy_product + \n",
      "    coffee + fruits + lhf(flaxseed_nuts) + rhf(flaxseed_nuts) + \n",
      "    rice_pasta + meat + lhv(vegetables) + rhv(vegetables) + beans + \n",
      "    fish + fast_food + multivitamin\n",
      "\n",
      "                     Df Sum of Sq    RSS     AIC\n",
      "- fruits              1    0.0099 386.78 -446.72\n",
      "- gender              1    0.0571 386.82 -446.63\n",
      "- dairy_product       1    0.0842 386.85 -446.58\n",
      "- rhv(vegetables)     1    0.1370 386.90 -446.48\n",
      "- lhv(vegetables)     1    0.2787 387.05 -446.20\n",
      "- multivitamin        1    0.3273 387.09 -446.11\n",
      "- meat                1    0.5434 387.31 -445.69\n",
      "- beans               1    0.7047 387.47 -445.38\n",
      "- lhf(flaxseed_nuts)  1    0.8441 387.61 -445.12\n",
      "<none>                            386.77 -444.74\n",
      "- fish                1    1.1224 387.89 -444.58\n",
      "- coffee              1    1.3709 388.14 -444.11\n",
      "- breakfast           1    1.5998 388.37 -443.67\n",
      "- rhf(flaxseed_nuts)  1    2.0944 388.86 -442.72\n",
      "- rice_pasta          1    3.2959 390.06 -440.43\n",
      "- exercise            1    4.4159 391.18 -438.29\n",
      "- fast_food           1   10.9121 397.68 -426.04\n",
      "- region              3   14.0577 400.82 -424.18\n",
      "- education           1   15.6917 402.46 -417.15\n",
      "\n",
      "Step:  AIC=-446.72\n",
      "y ~ gender + region + education + exercise + breakfast + dairy_product + \n",
      "    coffee + lhf(flaxseed_nuts) + rhf(flaxseed_nuts) + rice_pasta + \n",
      "    meat + lhv(vegetables) + rhv(vegetables) + beans + fish + \n",
      "    fast_food + multivitamin\n",
      "\n",
      "                     Df Sum of Sq    RSS     AIC\n",
      "- gender              1    0.0546 386.83 -448.61\n",
      "- dairy_product       1    0.0748 386.85 -448.58\n",
      "- rhv(vegetables)     1    0.1503 386.93 -448.43\n",
      "- lhv(vegetables)     1    0.2979 387.07 -448.15\n",
      "- multivitamin        1    0.3325 387.11 -448.08\n",
      "- meat                1    0.5404 387.32 -447.68\n",
      "- beans               1    0.6949 387.47 -447.38\n",
      "- lhf(flaxseed_nuts)  1    0.8594 387.64 -447.07\n",
      "<none>                            386.78 -446.72\n",
      "- fish                1    1.1148 387.89 -446.58\n",
      "- coffee              1    1.3611 388.14 -446.11\n",
      "- breakfast           1    1.5982 388.38 -445.65\n",
      "- rhf(flaxseed_nuts)  1    2.0974 388.87 -444.70\n",
      "- rice_pasta          1    3.2868 390.06 -442.42\n",
      "- exercise            1    4.4183 391.20 -440.27\n",
      "- fast_food           1   11.1177 397.89 -427.64\n",
      "- region              3   14.0989 400.88 -426.08\n",
      "- education           1   15.7340 402.51 -419.05\n",
      "\n",
      "Step:  AIC=-448.61\n",
      "y ~ region + education + exercise + breakfast + dairy_product + \n",
      "    coffee + lhf(flaxseed_nuts) + rhf(flaxseed_nuts) + rice_pasta + \n",
      "    meat + lhv(vegetables) + rhv(vegetables) + beans + fish + \n",
      "    fast_food + multivitamin\n",
      "\n",
      "                     Df Sum of Sq    RSS     AIC\n",
      "- dairy_product       1    0.0697 386.90 -450.48\n",
      "- rhv(vegetables)     1    0.1756 387.01 -450.28\n",
      "- multivitamin        1    0.3067 387.14 -450.02\n",
      "- lhv(vegetables)     1    0.3249 387.16 -449.99\n",
      "- meat                1    0.5164 387.35 -449.62\n",
      "- beans               1    0.6921 387.52 -449.28\n",
      "- lhf(flaxseed_nuts)  1    0.8719 387.70 -448.94\n",
      "<none>                            386.83 -448.61\n",
      "- fish                1    1.1097 387.94 -448.48\n",
      "- coffee              1    1.3543 388.19 -448.01\n",
      "- breakfast           1    1.6253 388.46 -447.50\n",
      "- rhf(flaxseed_nuts)  1    2.1430 388.97 -446.50\n",
      "- rice_pasta          1    3.3646 390.20 -444.17\n",
      "- exercise            1    4.3677 391.20 -442.26\n",
      "- fast_food           1   11.5894 398.42 -428.65\n",
      "- region              3   14.0884 400.92 -428.00\n",
      "- education           1   15.6850 402.52 -421.04\n",
      "\n",
      "Step:  AIC=-450.48\n",
      "y ~ region + education + exercise + breakfast + coffee + lhf(flaxseed_nuts) + \n",
      "    rhf(flaxseed_nuts) + rice_pasta + meat + lhv(vegetables) + \n",
      "    rhv(vegetables) + beans + fish + fast_food + multivitamin\n",
      "\n",
      "                     Df Sum of Sq    RSS     AIC\n",
      "- rhv(vegetables)     1    0.1944 387.10 -452.11\n",
      "- multivitamin        1    0.2990 387.20 -451.91\n",
      "- lhv(vegetables)     1    0.3364 387.24 -451.83\n",
      "- meat                1    0.4709 387.37 -451.58\n",
      "- beans               1    0.6572 387.56 -451.22\n",
      "- lhf(flaxseed_nuts)  1    1.0018 387.90 -450.56\n",
      "<none>                            386.90 -450.48\n",
      "- fish                1    1.1095 388.01 -450.35\n",
      "- breakfast           1    1.5615 388.46 -449.48\n",
      "- coffee              1    1.6660 388.57 -449.28\n",
      "- rhf(flaxseed_nuts)  1    2.2149 389.12 -448.23\n",
      "- rice_pasta          1    3.4364 390.34 -445.90\n",
      "- exercise            1    4.3426 391.24 -444.18\n",
      "- fast_food           1   11.5836 398.48 -430.53\n",
      "- region              3   14.0675 400.97 -429.91\n",
      "- education           1   15.6977 402.60 -422.89\n"
     ]
    },
    {
     "name": "stdout",
     "output_type": "stream",
     "text": [
      "\n",
      "Step:  AIC=-452.11\n",
      "y ~ region + education + exercise + breakfast + coffee + lhf(flaxseed_nuts) + \n",
      "    rhf(flaxseed_nuts) + rice_pasta + meat + lhv(vegetables) + \n",
      "    beans + fish + fast_food + multivitamin\n",
      "\n",
      "                     Df Sum of Sq    RSS     AIC\n",
      "- lhv(vegetables)     1    0.2287 387.32 -453.67\n",
      "- multivitamin        1    0.3168 387.41 -453.50\n",
      "- beans               1    0.5037 387.60 -453.14\n",
      "- meat                1    0.6162 387.71 -452.92\n",
      "- lhf(flaxseed_nuts)  1    0.9558 388.05 -452.27\n",
      "<none>                            387.10 -452.11\n",
      "- fish                1    1.2907 388.39 -451.63\n",
      "- breakfast           1    1.5826 388.68 -451.07\n",
      "- coffee              1    1.6863 388.78 -450.87\n",
      "- rhf(flaxseed_nuts)  1    2.3838 389.48 -449.54\n",
      "- rice_pasta          1    3.4050 390.50 -447.59\n",
      "- exercise            1    4.6938 391.79 -445.14\n",
      "- fast_food           1   11.9608 399.06 -431.47\n",
      "- region              3   14.2599 401.36 -431.19\n",
      "- education           1   15.5899 402.69 -424.73\n",
      "\n",
      "Step:  AIC=-453.67\n",
      "y ~ region + education + exercise + breakfast + coffee + lhf(flaxseed_nuts) + \n",
      "    rhf(flaxseed_nuts) + rice_pasta + meat + beans + fish + fast_food + \n",
      "    multivitamin\n",
      "\n",
      "                     Df Sum of Sq    RSS     AIC\n",
      "- multivitamin        1    0.2986 387.62 -455.09\n",
      "- beans               1    0.4407 387.76 -454.82\n",
      "- meat                1    0.6663 387.99 -454.39\n",
      "- lhf(flaxseed_nuts)  1    0.9389 388.26 -453.87\n",
      "<none>                            387.32 -453.67\n",
      "- fish                1    1.3435 388.67 -453.09\n",
      "- breakfast           1    1.5641 388.89 -452.67\n",
      "- coffee              1    1.6541 388.98 -452.50\n",
      "- rhf(flaxseed_nuts)  1    2.3783 389.70 -451.11\n",
      "- rice_pasta          1    3.3234 390.65 -449.31\n",
      "- exercise            1    4.8299 392.15 -446.45\n",
      "- region              3   14.2236 401.55 -432.84\n",
      "- fast_food           1   12.2001 399.52 -432.59\n",
      "- education           1   15.6152 402.94 -426.26\n",
      "\n",
      "Step:  AIC=-455.09\n",
      "y ~ region + education + exercise + breakfast + coffee + lhf(flaxseed_nuts) + \n",
      "    rhf(flaxseed_nuts) + rice_pasta + meat + beans + fish + fast_food\n",
      "\n",
      "                     Df Sum of Sq    RSS     AIC\n",
      "- beans               1    0.4668 388.09 -456.20\n",
      "- meat                1    0.6576 388.28 -455.83\n",
      "- lhf(flaxseed_nuts)  1    0.9443 388.57 -455.28\n",
      "<none>                            387.62 -455.09\n",
      "- fish                1    1.2594 388.88 -454.68\n",
      "- breakfast           1    1.5118 389.13 -454.20\n",
      "- coffee              1    1.6538 389.28 -453.93\n",
      "- rhf(flaxseed_nuts)  1    2.3252 389.95 -452.64\n",
      "- rice_pasta          1    3.1894 390.81 -451.00\n",
      "- exercise            1    4.6342 392.26 -448.25\n",
      "- region              3   13.9579 401.58 -434.77\n",
      "- fast_food           1   12.0835 399.71 -434.26\n",
      "- education           1   15.5245 403.15 -427.88\n",
      "\n",
      "Step:  AIC=-456.2\n",
      "y ~ region + education + exercise + breakfast + coffee + lhf(flaxseed_nuts) + \n",
      "    rhf(flaxseed_nuts) + rice_pasta + meat + fish + fast_food\n",
      "\n",
      "                     Df Sum of Sq    RSS     AIC\n",
      "- meat                1    0.8893 388.98 -456.50\n",
      "<none>                            388.09 -456.20\n",
      "- fish                1    1.1199 389.21 -456.05\n",
      "- lhf(flaxseed_nuts)  1    1.1534 389.24 -455.99\n",
      "- breakfast           1    1.3867 389.48 -455.55\n",
      "- coffee              1    1.6274 389.72 -455.09\n",
      "- rhf(flaxseed_nuts)  1    2.2259 390.32 -453.94\n",
      "- rice_pasta          1    3.9031 391.99 -450.75\n",
      "- exercise            1    4.3405 392.43 -449.92\n",
      "- region              3   13.6192 401.71 -436.54\n",
      "- fast_food           1   11.8008 399.89 -435.91\n",
      "- education           1   15.2442 403.33 -429.53\n",
      "\n",
      "Step:  AIC=-456.5\n",
      "y ~ region + education + exercise + breakfast + coffee + lhf(flaxseed_nuts) + \n",
      "    rhf(flaxseed_nuts) + rice_pasta + fish + fast_food\n",
      "\n",
      "                     Df Sum of Sq    RSS     AIC\n",
      "<none>                            388.98 -456.50\n",
      "- lhf(flaxseed_nuts)  1    1.2459 390.22 -456.12\n",
      "- fish                1    1.4096 390.39 -455.80\n",
      "- breakfast           1    1.4277 390.41 -455.77\n",
      "- coffee              1    1.4654 390.44 -455.70\n",
      "- rhf(flaxseed_nuts)  1    2.3273 391.31 -454.06\n",
      "- rice_pasta          1    3.2804 392.26 -452.25\n",
      "- exercise            1    4.5148 393.49 -449.91\n",
      "- fast_food           1   11.1828 400.16 -437.41\n",
      "- region              3   14.2786 403.26 -435.67\n",
      "- education           1   15.4485 404.43 -429.52\n"
     ]
    }
   ],
   "source": [
    "baic18 = stepAIC(lmod18_1, direction = 'backward')"
   ]
  },
  {
   "cell_type": "code",
   "execution_count": 62,
   "metadata": {
    "scrolled": true
   },
   "outputs": [
    {
     "data": {
      "text/html": [
       "<table>\n",
       "<thead><tr><th></th><th scope=col>Estimate</th><th scope=col>Pr(&gt;|t|)</th></tr></thead>\n",
       "<tbody>\n",
       "\t<tr><th scope=row>(Intercept)</th><td> 3.2955</td><td>0.0000 </td></tr>\n",
       "\t<tr><th scope=row>regionNorth America/Central America</th><td> 0.2615</td><td>0.0006 </td></tr>\n",
       "\t<tr><th scope=row>education</th><td> 0.1037</td><td>0.0000 </td></tr>\n",
       "\t<tr><th scope=row>exercise</th><td> 0.0538</td><td>0.0008 </td></tr>\n",
       "\t<tr><th scope=row>coffee</th><td>-0.0298</td><td>0.0460 </td></tr>\n",
       "\t<tr><th scope=row>fast_food</th><td>-0.0998</td><td>0.0000 </td></tr>\n",
       "</tbody>\n",
       "</table>\n"
      ],
      "text/latex": [
       "\\begin{tabular}{r|ll}\n",
       "  & Estimate & Pr(>\\textbar{}t\\textbar{})\\\\\n",
       "\\hline\n",
       "\t(Intercept) &  3.2955 & 0.0000 \\\\\n",
       "\tregionNorth America/Central America &  0.2615 & 0.0006 \\\\\n",
       "\teducation &  0.1037 & 0.0000 \\\\\n",
       "\texercise &  0.0538 & 0.0008 \\\\\n",
       "\tcoffee & -0.0298 & 0.0460 \\\\\n",
       "\tfast\\_food & -0.0998 & 0.0000 \\\\\n",
       "\\end{tabular}\n"
      ],
      "text/markdown": [
       "\n",
       "| <!--/--> | Estimate | Pr(>|t|) |\n",
       "|---|---|---|\n",
       "| (Intercept) |  3.2955 | 0.0000  |\n",
       "| regionNorth America/Central America |  0.2615 | 0.0006  |\n",
       "| education |  0.1037 | 0.0000  |\n",
       "| exercise |  0.0538 | 0.0008  |\n",
       "| coffee | -0.0298 | 0.0460  |\n",
       "| fast_food | -0.0998 | 0.0000  |\n",
       "\n"
      ],
      "text/plain": [
       "                                    Estimate Pr(>|t|)\n",
       "(Intercept)                          3.2955  0.0000  \n",
       "regionNorth America/Central America  0.2615  0.0006  \n",
       "education                            0.1037  0.0000  \n",
       "exercise                             0.0538  0.0008  \n",
       "coffee                              -0.0298  0.0460  \n",
       "fast_food                           -0.0998  0.0000  "
      ]
     },
     "metadata": {},
     "output_type": "display_data"
    }
   ],
   "source": [
    "lmod18_2 = lm(y~gender + region + diet + education + exercise + breakfast + coffee \n",
    "            + rhf(flaxseed_nuts) + lhv(vegetables) + fast_food, data = df18s)\n",
    "round(summary(lmod18_2)$coef[which(summary(lmod18_2)$coef[,4] <= .05),c(1,4)],4)"
   ]
  },
  {
   "cell_type": "markdown",
   "metadata": {},
   "source": [
    "<b> Cross validation"
   ]
  },
  {
   "cell_type": "code",
   "execution_count": 63,
   "metadata": {},
   "outputs": [
    {
     "data": {
      "text/html": [
       "<ol class=list-inline>\n",
       "\t<li>'y'</li>\n",
       "\t<li>'gender'</li>\n",
       "\t<li>'age'</li>\n",
       "\t<li>'region'</li>\n",
       "\t<li>'education'</li>\n",
       "\t<li>'diet'</li>\n",
       "\t<li>'exercise'</li>\n",
       "\t<li>'breakfast'</li>\n",
       "\t<li>'whole_grain'</li>\n",
       "\t<li>'dairy_product'</li>\n",
       "\t<li>'coffee'</li>\n",
       "\t<li>'fruits'</li>\n",
       "\t<li>'flaxseed_nuts'</li>\n",
       "\t<li>'rice_pasta'</li>\n",
       "\t<li>'meat'</li>\n",
       "\t<li>'vegetables'</li>\n",
       "\t<li>'beans'</li>\n",
       "\t<li>'fish'</li>\n",
       "\t<li>'fast_food'</li>\n",
       "\t<li>'multivitamin'</li>\n",
       "</ol>\n"
      ],
      "text/latex": [
       "\\begin{enumerate*}\n",
       "\\item 'y'\n",
       "\\item 'gender'\n",
       "\\item 'age'\n",
       "\\item 'region'\n",
       "\\item 'education'\n",
       "\\item 'diet'\n",
       "\\item 'exercise'\n",
       "\\item 'breakfast'\n",
       "\\item 'whole\\_grain'\n",
       "\\item 'dairy\\_product'\n",
       "\\item 'coffee'\n",
       "\\item 'fruits'\n",
       "\\item 'flaxseed\\_nuts'\n",
       "\\item 'rice\\_pasta'\n",
       "\\item 'meat'\n",
       "\\item 'vegetables'\n",
       "\\item 'beans'\n",
       "\\item 'fish'\n",
       "\\item 'fast\\_food'\n",
       "\\item 'multivitamin'\n",
       "\\end{enumerate*}\n"
      ],
      "text/markdown": [
       "1. 'y'\n",
       "2. 'gender'\n",
       "3. 'age'\n",
       "4. 'region'\n",
       "5. 'education'\n",
       "6. 'diet'\n",
       "7. 'exercise'\n",
       "8. 'breakfast'\n",
       "9. 'whole_grain'\n",
       "10. 'dairy_product'\n",
       "11. 'coffee'\n",
       "12. 'fruits'\n",
       "13. 'flaxseed_nuts'\n",
       "14. 'rice_pasta'\n",
       "15. 'meat'\n",
       "16. 'vegetables'\n",
       "17. 'beans'\n",
       "18. 'fish'\n",
       "19. 'fast_food'\n",
       "20. 'multivitamin'\n",
       "\n",
       "\n"
      ],
      "text/plain": [
       " [1] \"y\"             \"gender\"        \"age\"           \"region\"       \n",
       " [5] \"education\"     \"diet\"          \"exercise\"      \"breakfast\"    \n",
       " [9] \"whole_grain\"   \"dairy_product\" \"coffee\"        \"fruits\"       \n",
       "[13] \"flaxseed_nuts\" \"rice_pasta\"    \"meat\"          \"vegetables\"   \n",
       "[17] \"beans\"         \"fish\"          \"fast_food\"     \"multivitamin\" "
      ]
     },
     "metadata": {},
     "output_type": "display_data"
    }
   ],
   "source": [
    "colnames(df18s)"
   ]
  },
  {
   "cell_type": "code",
   "execution_count": 64,
   "metadata": {},
   "outputs": [
    {
     "data": {
      "text/html": [
       "<table>\n",
       "<tbody>\n",
       "\t<tr><th scope=row>region</th><td> 0.0370</td></tr>\n",
       "\t<tr><th scope=row>education</th><td> 0.0922</td></tr>\n",
       "\t<tr><th scope=row>exercise</th><td> 0.0449</td></tr>\n",
       "\t<tr><th scope=row>breakfast</th><td> 0.0150</td></tr>\n",
       "\t<tr><th scope=row>coffee</th><td>-0.0179</td></tr>\n",
       "\t<tr><th scope=row>rice_pasta</th><td>-0.0376</td></tr>\n",
       "\t<tr><th scope=row>meat</th><td> 0.0119</td></tr>\n",
       "\t<tr><th scope=row>vegetables</th><td> 0.0118</td></tr>\n",
       "\t<tr><th scope=row>beans</th><td>-0.0032</td></tr>\n",
       "\t<tr><th scope=row>fish</th><td> 0.0248</td></tr>\n",
       "\t<tr><th scope=row>fast_food</th><td>-0.0908</td></tr>\n",
       "</tbody>\n",
       "</table>\n"
      ],
      "text/latex": [
       "\\begin{tabular}{r|l}\n",
       "\tregion &  0.0370\\\\\n",
       "\teducation &  0.0922\\\\\n",
       "\texercise &  0.0449\\\\\n",
       "\tbreakfast &  0.0150\\\\\n",
       "\tcoffee & -0.0179\\\\\n",
       "\trice\\_pasta & -0.0376\\\\\n",
       "\tmeat &  0.0119\\\\\n",
       "\tvegetables &  0.0118\\\\\n",
       "\tbeans & -0.0032\\\\\n",
       "\tfish &  0.0248\\\\\n",
       "\tfast\\_food & -0.0908\\\\\n",
       "\\end{tabular}\n"
      ],
      "text/markdown": [
       "\n",
       "| region |  0.0370 |\n",
       "| education |  0.0922 |\n",
       "| exercise |  0.0449 |\n",
       "| breakfast |  0.0150 |\n",
       "| coffee | -0.0179 |\n",
       "| rice_pasta | -0.0376 |\n",
       "| meat |  0.0119 |\n",
       "| vegetables |  0.0118 |\n",
       "| beans | -0.0032 |\n",
       "| fish |  0.0248 |\n",
       "| fast_food | -0.0908 |\n",
       "\n"
      ],
      "text/plain": [
       "           [,1]   \n",
       "region      0.0370\n",
       "education   0.0922\n",
       "exercise    0.0449\n",
       "breakfast   0.0150\n",
       "coffee     -0.0179\n",
       "rice_pasta -0.0376\n",
       "meat        0.0119\n",
       "vegetables  0.0118\n",
       "beans      -0.0032\n",
       "fish        0.0248\n",
       "fast_food  -0.0908"
      ]
     },
     "metadata": {},
     "output_type": "display_data"
    }
   ],
   "source": [
    "y_18 = df18s$y\n",
    "x_18 = df18s[,c(-1,-3)]\n",
    "mod_cv_18 = cv.glmnet(data.matrix(x_18), y_18)\n",
    "\n",
    "mod_lasso_18 = glmnet(x=data.matrix(x_18), y=y_18, family=\"gaussian\", lambda=mod_cv_18$lambda.min, alpha=1)\n",
    "round(as.matrix(mod_lasso_18$beta[which(mod_lasso_18$beta!=0),]),4)"
   ]
  },
  {
   "cell_type": "markdown",
   "metadata": {},
   "source": [
    "# Prediction"
   ]
  },
  {
   "cell_type": "markdown",
   "metadata": {},
   "source": [
    "To see if the data is predictable, I trained the above models on training set and test on test set. The prediction result of first 100 observations on test set is shown below."
   ]
  },
  {
   "cell_type": "code",
   "execution_count": 65,
   "metadata": {},
   "outputs": [
    {
     "data": {
      "image/png": "[encoded data removed]",
      "text/plain": [
       "Plot with title \"First 100 observations prediction\""
      ]
     },
     "metadata": {},
     "output_type": "display_data"
    }
   ],
   "source": [
    "par(mfrow=c(1,1))\n",
    "plot(test_y[1:100], pch=16, cex=1, ylim = c(0.7,5.3),\n",
    "     xlab = 'Observation', ylab = 'Mental health score', main = 'First 100 observations prediction')\n",
    "\n",
    "lines(predict(lmod2,test_x)[1:100], col = 'red')\n",
    "lines(predict(lmod_aic,test_x)[1:100], col = 'blue')\n",
    "legend(0,1.3,legend = c('Linear regression prediction','Backward AIC prediction')\n",
    "       ,col = c('red','blue'),lty = 1:2, cex = 1)"
   ]
  },
  {
   "cell_type": "code",
   "execution_count": 66,
   "metadata": {},
   "outputs": [
    {
     "data": {
      "text/html": [
       "<table>\n",
       "<thead><tr><th></th><th scope=col>Mean Squared Error</th></tr></thead>\n",
       "<tbody>\n",
       "\t<tr><th scope=row>linear regression</th><td>0.5548137</td></tr>\n",
       "\t<tr><th scope=row>backward AIC</th><td>0.5478575</td></tr>\n",
       "</tbody>\n",
       "</table>\n"
      ],
      "text/latex": [
       "\\begin{tabular}{r|l}\n",
       "  & Mean Squared Error\\\\\n",
       "\\hline\n",
       "\tlinear regression & 0.5548137\\\\\n",
       "\tbackward AIC & 0.5478575\\\\\n",
       "\\end{tabular}\n"
      ],
      "text/markdown": [
       "\n",
       "| <!--/--> | Mean Squared Error |\n",
       "|---|---|\n",
       "| linear regression | 0.5548137 |\n",
       "| backward AIC | 0.5478575 |\n",
       "\n"
      ],
      "text/plain": [
       "                  Mean Squared Error\n",
       "linear regression 0.5548137         \n",
       "backward AIC      0.5478575         "
      ]
     },
     "metadata": {},
     "output_type": "display_data"
    }
   ],
   "source": [
    "mset = as.matrix(c(MSE(predict(lmod2,test_x),test_y),MSE(predict(lmod_aic, test_x),test_y)),2,1)\n",
    "rownames(mset) = c('linear regression','backward AIC')\n",
    "colnames(mset) = 'Mean Squared Error'\n",
    "mset"
   ]
  },
  {
   "cell_type": "markdown",
   "metadata": {},
   "source": [
    "From the plot and MSE table, we could see that using linear regression and backward AIC give very similar result. Also, they both could only predict in a limit range. The models can not predict very low mental status score and thus not suitable to predict."
   ]
  }
 ],
 "metadata": {
  "kernelspec": {
   "display_name": "R",
   "language": "R",
   "name": "ir"
  },
  "language_info": {
   "codemirror_mode": "r",
   "file_extension": ".r",
   "mimetype": "text/x-r-source",
   "name": "R",
   "pygments_lexer": "r",
   "version": "3.6.1"
  },
  "latex_envs": {
   "LaTeX_envs_menu_present": true,
   "autoclose": false,
   "autocomplete": true,
   "bibliofile": "biblio.bib",
   "cite_by": "apalike",
   "current_citInitial": 1,
   "eqLabelWithNumbers": true,
   "eqNumInitial": 1,
   "hotkeys": {
    "equation": "Ctrl-E",
    "itemize": "Ctrl-I"
   },
   "labels_anchors": false,
   "latex_user_defs": false,
   "report_style_numbering": false,
   "user_envs_cfg": false
  },
  "toc": {
   "base_numbering": 1,
   "nav_menu": {},
   "number_sections": false,
   "sideBar": true,
   "skip_h1_title": false,
   "title_cell": "Table of Contents",
   "title_sidebar": "Contents",
   "toc_cell": false,
   "toc_position": {
    "height": "calc(100% - 180px)",
    "left": "10px",
    "top": "150px",
    "width": "384px"
   },
   "toc_section_display": true,
   "toc_window_display": true
  }
 },
 "nbformat": 4,
 "nbformat_minor": 2
}
