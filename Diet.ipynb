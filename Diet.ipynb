{
 "cells": [
  {
   "cell_type": "markdown",
   "metadata": {},
   "source": [
    "<b> Load packages"
   ]
  },
  {
   "cell_type": "code",
   "execution_count": 71,
   "metadata": {
    "collapsed": true
   },
   "outputs": [
    {
     "name": "stderr",
     "output_type": "stream",
     "text": [
      "Registered S3 methods overwritten by 'ggplot2':\n",
      "  method         from \n",
      "  [.quosures     rlang\n",
      "  c.quosures     rlang\n",
      "  print.quosures rlang\n"
     ]
    }
   ],
   "source": [
    "library(glmnet)\n",
    "library(MASS)\n",
    "library(readxl)\n",
    "library(plotmo)\n",
    "library(MLmetrics)\n",
    "library(lavaan)\n",
    "library(ggplot2)"
   ]
  },
  {
   "cell_type": "markdown",
   "metadata": {},
   "source": [
    "<b> Input the data"
   ]
  },
  {
   "cell_type": "code",
   "execution_count": 2,
   "metadata": {
    "collapsed": true
   },
   "outputs": [
    {
     "name": "stderr",
     "output_type": "stream",
     "text": [
      "Warning message in read_fun(path = enc2native(normalizePath(path)), sheet_i = sheet, :\n",
      "\"Expecting date in A2588 / R2588C1: got '2019/10/06 10:49:36 PM AST'\"Warning message in read_fun(path = enc2native(normalizePath(path)), sheet_i = sheet, :\n",
      "\"Expecting date in A2589 / R2589C1: got '2019/10/06 10:50:51 PM AST'\"Warning message in read_fun(path = enc2native(normalizePath(path)), sheet_i = sheet, :\n",
      "\"Expecting date in A2590 / R2590C1: got '2019/10/06 11:03:45 PM AST'\"Warning message in read_fun(path = enc2native(normalizePath(path)), sheet_i = sheet, :\n",
      "\"Expecting date in A2591 / R2591C1: got '2019/10/06 11:26:50 PM AST'\"Warning message in read_fun(path = enc2native(normalizePath(path)), sheet_i = sheet, :\n",
      "\"Expecting date in A2592 / R2592C1: got '2019/10/06 4:23:19 PM AST'\"Warning message in read_fun(path = enc2native(normalizePath(path)), sheet_i = sheet, :\n",
      "\"Expecting date in A2593 / R2593C1: got '2019/10/06 4:25:01 PM AST'\"Warning message in read_fun(path = enc2native(normalizePath(path)), sheet_i = sheet, :\n",
      "\"Expecting date in A2594 / R2594C1: got '2019/10/06 4:25:20 PM AST'\"Warning message in read_fun(path = enc2native(normalizePath(path)), sheet_i = sheet, :\n",
      "\"Expecting date in A2595 / R2595C1: got '2019/10/06 4:26:42 PM AST'\"Warning message in read_fun(path = enc2native(normalizePath(path)), sheet_i = sheet, :\n",
      "\"Expecting date in A2596 / R2596C1: got '2019/10/06 4:30:07 PM AST'\"Warning message in read_fun(path = enc2native(normalizePath(path)), sheet_i = sheet, :\n",
      "\"Expecting date in A2597 / R2597C1: got '2019/10/06 5:02:51 PM AST'\"Warning message in read_fun(path = enc2native(normalizePath(path)), sheet_i = sheet, :\n",
      "\"Expecting date in A2598 / R2598C1: got '2019/10/06 7:05:13 PM AST'\"Warning message in read_fun(path = enc2native(normalizePath(path)), sheet_i = sheet, :\n",
      "\"Expecting date in A2599 / R2599C1: got '2019/10/06 7:48:46 PM AST'\"Warning message in read_fun(path = enc2native(normalizePath(path)), sheet_i = sheet, :\n",
      "\"Expecting date in A2600 / R2600C1: got '2019/10/06 8:49:36 PM AST'\"Warning message in read_fun(path = enc2native(normalizePath(path)), sheet_i = sheet, :\n",
      "\"Expecting date in A2601 / R2601C1: got '2019/10/07 1:08:05 PM AST'\"Warning message in read_fun(path = enc2native(normalizePath(path)), sheet_i = sheet, :\n",
      "\"Expecting date in A2602 / R2602C1: got '2019/10/07 1:19:15 PM AST'\"Warning message in read_fun(path = enc2native(normalizePath(path)), sheet_i = sheet, :\n",
      "\"Expecting date in A2603 / R2603C1: got '2019/10/07 1:50:37 PM AST'\"Warning message in read_fun(path = enc2native(normalizePath(path)), sheet_i = sheet, :\n",
      "\"Expecting date in A2604 / R2604C1: got '2019/10/07 11:20:06 AM AST'\"Warning message in read_fun(path = enc2native(normalizePath(path)), sheet_i = sheet, :\n",
      "\"Expecting date in A2605 / R2605C1: got '2019/10/07 11:31:53 AM AST'\"Warning message in read_fun(path = enc2native(normalizePath(path)), sheet_i = sheet, :\n",
      "\"Expecting date in A2606 / R2606C1: got '2019/10/07 11:38:52 PM AST'\"Warning message in read_fun(path = enc2native(normalizePath(path)), sheet_i = sheet, :\n",
      "\"Expecting date in A2607 / R2607C1: got '2019/10/07 11:54:23 AM AST'\"Warning message in read_fun(path = enc2native(normalizePath(path)), sheet_i = sheet, :\n",
      "\"Expecting date in A2608 / R2608C1: got '2019/10/07 11:54:25 AM AST'\"Warning message in read_fun(path = enc2native(normalizePath(path)), sheet_i = sheet, :\n",
      "\"Expecting date in A2609 / R2609C1: got '2019/10/07 11:55:49 AM AST'\"Warning message in read_fun(path = enc2native(normalizePath(path)), sheet_i = sheet, :\n",
      "\"Expecting date in A2610 / R2610C1: got '2019/10/07 12:02:01 PM AST'\"Warning message in read_fun(path = enc2native(normalizePath(path)), sheet_i = sheet, :\n",
      "\"Expecting date in A2611 / R2611C1: got '2019/10/07 12:07:02 AM AST'\"Warning message in read_fun(path = enc2native(normalizePath(path)), sheet_i = sheet, :\n",
      "\"Expecting date in A2612 / R2612C1: got '2019/10/07 12:15:32 PM AST'\"Warning message in read_fun(path = enc2native(normalizePath(path)), sheet_i = sheet, :\n",
      "\"Expecting date in A2613 / R2613C1: got '2019/10/07 12:16:35 PM AST'\"Warning message in read_fun(path = enc2native(normalizePath(path)), sheet_i = sheet, :\n",
      "\"Expecting date in A2614 / R2614C1: got '2019/10/07 12:21:30 PM AST'\"Warning message in read_fun(path = enc2native(normalizePath(path)), sheet_i = sheet, :\n",
      "\"Expecting date in A2615 / R2615C1: got '2019/10/07 12:42:59 PM AST'\"Warning message in read_fun(path = enc2native(normalizePath(path)), sheet_i = sheet, :\n",
      "\"Expecting date in A2616 / R2616C1: got '2019/10/07 12:53:37 PM AST'\"Warning message in read_fun(path = enc2native(normalizePath(path)), sheet_i = sheet, :\n",
      "\"Expecting date in A2617 / R2617C1: got '2019/10/07 12:59:34 PM AST'\"Warning message in read_fun(path = enc2native(normalizePath(path)), sheet_i = sheet, :\n",
      "\"Expecting date in A2618 / R2618C1: got '2019/10/07 2:16:37 PM AST'\"Warning message in read_fun(path = enc2native(normalizePath(path)), sheet_i = sheet, :\n",
      "\"Expecting date in A2619 / R2619C1: got '2019/10/07 3:31:08 PM AST'\"Warning message in read_fun(path = enc2native(normalizePath(path)), sheet_i = sheet, :\n",
      "\"Expecting date in A2620 / R2620C1: got '2019/10/07 3:53:30 PM AST'\"Warning message in read_fun(path = enc2native(normalizePath(path)), sheet_i = sheet, :\n",
      "\"Expecting date in A2621 / R2621C1: got '2019/10/07 4:27:26 PM AST'\"Warning message in read_fun(path = enc2native(normalizePath(path)), sheet_i = sheet, :\n",
      "\"Expecting date in A2622 / R2622C1: got '2019/10/07 5:09:17 PM AST'\"Warning message in read_fun(path = enc2native(normalizePath(path)), sheet_i = sheet, :\n",
      "\"Expecting date in A2623 / R2623C1: got '2019/10/07 6:58:32 AM AST'\"Warning message in read_fun(path = enc2native(normalizePath(path)), sheet_i = sheet, :\n",
      "\"Expecting date in A2624 / R2624C1: got '2019/10/09 3:30:16 PM AST'\"Warning message in read_fun(path = enc2native(normalizePath(path)), sheet_i = sheet, :\n",
      "\"Expecting date in A2625 / R2625C1: got '2019/10/09 3:33:52 PM AST'\"Warning message in read_fun(path = enc2native(normalizePath(path)), sheet_i = sheet, :\n",
      "\"Expecting date in A2626 / R2626C1: got '2019/10/09 3:35:59 PM AST'\"Warning message in read_fun(path = enc2native(normalizePath(path)), sheet_i = sheet, :\n",
      "\"Expecting date in A2627 / R2627C1: got '2019/10/09 5:20:39 PM AST'\"Warning message in read_fun(path = enc2native(normalizePath(path)), sheet_i = sheet, :\n",
      "\"Expecting date in A2628 / R2628C1: got '2019/10/10 12:45:13 PM AST'\"Warning message in read_fun(path = enc2native(normalizePath(path)), sheet_i = sheet, :\n",
      "\"Expecting date in A2629 / R2629C1: got '2019/10/11 1:23:00 PM AST'\"Warning message in read_fun(path = enc2native(normalizePath(path)), sheet_i = sheet, :\n",
      "\"Expecting date in A2630 / R2630C1: got '2019/10/11 11:39:46 AM AST'\"Warning message in read_fun(path = enc2native(normalizePath(path)), sheet_i = sheet, :\n",
      "\"Expecting date in A2631 / R2631C1: got '2019/10/11 11:55:12 AM AST'\"Warning message in read_fun(path = enc2native(normalizePath(path)), sheet_i = sheet, :\n",
      "\"Expecting date in A2632 / R2632C1: got '2019/10/11 12:01:02 PM AST'\"Warning message in read_fun(path = enc2native(normalizePath(path)), sheet_i = sheet, :\n",
      "\"Expecting date in A2633 / R2633C1: got '2019/10/11 12:17:23 PM AST'\"Warning message in read_fun(path = enc2native(normalizePath(path)), sheet_i = sheet, :\n",
      "\"Expecting date in A2634 / R2634C1: got '2019/10/11 12:21:56 PM AST'\"Warning message in read_fun(path = enc2native(normalizePath(path)), sheet_i = sheet, :\n",
      "\"Expecting date in A2635 / R2635C1: got '2019/10/11 12:30:00 PM AST'\"Warning message in read_fun(path = enc2native(normalizePath(path)), sheet_i = sheet, :\n",
      "\"Expecting date in A2636 / R2636C1: got '2019/10/11 2:14:47 PM AST'\"Warning message in read_fun(path = enc2native(normalizePath(path)), sheet_i = sheet, :\n",
      "\"Expecting date in A2637 / R2637C1: got '2019/10/11 2:31:26 PM AST'\""
     ]
    }
   ],
   "source": [
    "data <- read_excel(\"Math Department Diet Mood total .xlsx\")"
   ]
  },
  {
   "cell_type": "markdown",
   "metadata": {},
   "source": [
    "<b> Check data and variables"
   ]
  },
  {
   "cell_type": "code",
   "execution_count": 3,
   "metadata": {},
   "outputs": [
    {
     "data": {
      "text/html": [
       "<ol class=list-inline>\n",
       "\t<li>2636</li>\n",
       "\t<li>27</li>\n",
       "</ol>\n"
      ],
      "text/latex": [
       "\\begin{enumerate*}\n",
       "\\item 2636\n",
       "\\item 27\n",
       "\\end{enumerate*}\n"
      ],
      "text/markdown": [
       "1. 2636\n",
       "2. 27\n",
       "\n",
       "\n"
      ],
      "text/plain": [
       "[1] 2636   27"
      ]
     },
     "metadata": {},
     "output_type": "display_data"
    }
   ],
   "source": [
    "dim(data)"
   ]
  },
  {
   "cell_type": "code",
   "execution_count": 4,
   "metadata": {
    "collapsed": true
   },
   "outputs": [
    {
     "name": "stdout",
     "output_type": "stream",
     "text": [
      "# A tibble: 2,533 x 1\n",
      "   Timestamp          \n",
      "   <fct>              \n",
      " 1 2014-03-11 06:39:38\n",
      " 2 2014-03-11 06:42:58\n",
      " 3 2014-03-11 07:04:07\n",
      " 4 2014-03-11 07:14:35\n",
      " 5 2014-03-11 07:17:27\n",
      " 6 2014-03-11 07:20:44\n",
      " 7 2014-03-11 07:33:16\n",
      " 8 2014-03-11 07:41:05\n",
      " 9 2014-03-11 07:45:39\n",
      "10 2014-03-11 07:46:18\n",
      "# ... with 2,523 more rows\n",
      "# A tibble: 4 x 1\n",
      "  `1. What is your gender?`\n",
      "  <fct>                    \n",
      "1 Female                   \n",
      "2 Male                     \n",
      "3 <NA>                     \n",
      "4 Other                    \n",
      "# A tibble: 10 x 1\n",
      "   `2. What is your age?`\n",
      "   <fct>                 \n",
      " 1 18-29                 \n",
      " 2 30-39                 \n",
      " 3 40-49                 \n",
      " 4 50 and above          \n",
      " 5 40-50                 \n",
      " 6 50-60                 \n",
      " 7 Over 70               \n",
      " 8 18-25                 \n",
      " 9 30-40                 \n",
      "10 25-29                 \n",
      "# A tibble: 10 x 1\n",
      "   `3. In which region you are living now?`\n",
      "   <fct>                                   \n",
      " 1 Asia                                    \n",
      " 2 North America/Central America           \n",
      " 3 Middle East/North Africa                \n",
      " 4 Europe                                  \n",
      " 5 Africa                                  \n",
      " 6 Australia<U+00A0>                              \n",
      " 7 South America                           \n",
      " 8 Option 8                                \n",
      " 9 Australia /New Zealand                  \n",
      "10 Australia                               \n",
      "# A tibble: 9 x 1\n",
      "  `4. What is the highest level of education you have completed?`\n",
      "  <fct>                                                          \n",
      "1 2 or 4 Years of College Degree (AA, BA, BS)                    \n",
      "2 Master's Degree                                                \n",
      "3 Doctoral Degree                                                \n",
      "4 High School                                                    \n",
      "5 Professional Degree (MD, JD, PharmD, ...)                      \n",
      "6 Less than High School                                          \n",
      "7 Professional                                                   \n",
      "8 Graduate                                                       \n",
      "9 <NA>                                                           \n",
      "# A tibble: 18 x 1\n",
      "   `5. What is your dietary pattern?`                                      \n",
      "   <fct>                                                                   \n",
      " 1 Mediterranean Diet<U+00A0>                                                     \n",
      " 2 Eastern Diet                                                            \n",
      " 3 Western Diet<U+00A0>                                                           \n",
      " 4 Mediterrenean Diet                                                      \n",
      " 5 Mediterrean Diet                                                        \n",
      " 6 Mediterranean Diet                                                      \n",
      " 7 Western Diet                                                            \n",
      " 8 Eastern Diet (mostly rice products, dark leafy vegetables, fruits, nuts)\n",
      " 9 Korean Diet (mostly fish, soy, fermented vegetables)                    \n",
      "10 Vegetarian                                                              \n",
      "11 Vegan                                                                   \n",
      "12 Caribbean diet                                                          \n",
      "13 Western                                                                 \n",
      "14 Vegan diet                                                              \n",
      "15 <NA>                                                                    \n",
      "16 Korean Diet                                                             \n",
      "17 Asian Diet                                                              \n",
      "18 Sophomore                                                               \n",
      "# A tibble: 7 x 1\n",
      "  `6. On average week, how many times a day do you exercise at least 20 minutes~\n",
      "  <fct>                                                                         \n",
      "1 None                                                                          \n",
      "2 1 time                                                                        \n",
      "3 2 times                                                                       \n",
      "4 4 times                                                                       \n",
      "5 More than 4 times                                                             \n",
      "6 3 times                                                                       \n",
      "7 Western Diet<U+00A0>                                                                 \n",
      "# A tibble: 8 x 1\n",
      "  `7. In the past 7 days, how many times did you eat breakfast?`\n",
      "  <fct>                                                         \n",
      "1 4 times                                                       \n",
      "2 6 or 7 times                                                  \n",
      "3 1 time                                                        \n",
      "4 5 times                                                       \n",
      "5 3 times                                                       \n",
      "6 2 times                                                       \n",
      "7 None                                                          \n",
      "8 Never                                                         \n",
      "# A tibble: 8 x 1\n",
      "  `8. On average week, how many times a day do you eat whole grain products?`\n",
      "  <fct>                                                                      \n",
      "1 More than 4 times                                                          \n",
      "2 1 time                                                                     \n",
      "3 2 times<U+00A0>                                                                   \n",
      "4 None                                                                       \n",
      "5 4 times                                                                    \n",
      "6 3 times                                                                    \n",
      "7 2 times                                                                    \n",
      "8 <NA>                                                                       \n",
      "# A tibble: 9 x 1\n",
      "  `9. On average week, how many times a day do you have dairy products?`\n",
      "  <fct>                                                                 \n",
      "1 More than 4 times                                                     \n",
      "2 1 time                                                                \n",
      "3 2 times                                                               \n",
      "4 3 times                                                               \n",
      "5 4 times                                                               \n",
      "6 None                                                                  \n",
      "7 More that 4 times                                                     \n",
      "8 1 serving                                                             \n",
      "9 <NA>                                                                  \n",
      "# A tibble: 7 x 1\n",
      "  `10. On average week, how many times a day do you consume coffee or other sou~\n",
      "  <fct>                                                                         \n",
      "1 More than 4 times                                                             \n",
      "2 3 times                                                                       \n",
      "3 2 times                                                                       \n",
      "4 None                                                                          \n",
      "5 4 times                                                                       \n",
      "6 1 time                                                                        \n",
      "7 Never                                                                         \n",
      "# A tibble: 6 x 1\n",
      "  `11. On average week, how many times a day do you consume fruits?`\n",
      "  <fct>                                                             \n",
      "1 3 times                                                           \n",
      "2 4 times                                                           \n",
      "3 1 time                                                            \n",
      "4 2 times                                                           \n",
      "5 More than 4 times                                                 \n",
      "6 None                                                              \n",
      "# A tibble: 8 x 1\n",
      "  `12. On average week, how many times a day do you consume flaxseed, and or nu~\n",
      "  <fct>                                                                         \n",
      "1 1 time                                                                        \n",
      "2 3 times<U+00A0>                                                                      \n",
      "3 None                                                                          \n",
      "4 More than 4 times                                                             \n",
      "5 2 times                                                                       \n",
      "6 4 times                                                                       \n",
      "7 3 times                                                                       \n",
      "8 3 times<U+00C2>                                                                      \n",
      "# A tibble: 6 x 1\n",
      "  `13. On average week, how many times do you eat rice, and or pasta?`\n",
      "  <fct>                                                               \n",
      "1 More than 4 times                                                   \n",
      "2 2 times                                                             \n",
      "3 4 times                                                             \n",
      "4 3 times                                                             \n",
      "5 1 time                                                              \n",
      "6 None                                                                \n",
      "# A tibble: 6 x 1\n",
      "  `14. On average week, how times do you eat meat, chicken, or turkey?`\n",
      "  <fct>                                                                \n",
      "1 More than 4 times                                                    \n",
      "2 2 times                                                              \n",
      "3 4 times                                                              \n",
      "4 3 times                                                              \n",
      "5 1 time                                                               \n",
      "6 None                                                                 \n",
      "# A tibble: 7 x 1\n",
      "  `15. On average week, how many times do you eat dark green leafy vegetables?`\n",
      "  <fct>                                                                        \n",
      "1 1 time                                                                       \n",
      "2 2 times                                                                      \n",
      "3 4 times                                                                      \n",
      "4 More than 4 times                                                            \n",
      "5 3 times                                                                      \n",
      "6 None                                                                         \n",
      "7 1 serving                                                                    \n",
      "# A tibble: 7 x 1\n",
      "  `16. On average week, how many times do you eat beans?`\n",
      "  <fct>                                                  \n",
      "1 None                                                   \n",
      "2 1 time                                                 \n",
      "3 4 times                                                \n",
      "4 2 times<U+00A0>                                               \n",
      "5 3 times                                                \n",
      "6 More than 4 times                                      \n",
      "7 2 times                                                \n",
      "# A tibble: 6 x 1\n",
      "  `17. On average week, how many times do you eat fish and shellfish (including~\n",
      "  <fct>                                                                         \n",
      "1 1 time                                                                        \n",
      "2 None                                                                          \n",
      "3 3 times                                                                       \n",
      "4 2 times                                                                       \n",
      "5 More than 4 times                                                             \n",
      "6 4 times                                                                       \n",
      "# A tibble: 6 x 1\n",
      "  `18. On average week, how many times do you eat fast foods or pre-made food?`\n",
      "  <fct>                                                                        \n",
      "1 None                                                                         \n",
      "2 1 time                                                                       \n",
      "3 4 times                                                                      \n",
      "4 More than 4 times                                                            \n",
      "5 2 times                                                                      \n",
      "6 3 times                                                                      \n",
      "# A tibble: 6 x 1\n",
      "  `19. On average week, how many times do you take multivitamin supplements?`\n",
      "  <fct>                                                                      \n",
      "1 None                                                                       \n",
      "2 More than 4 times                                                          \n",
      "3 2 times                                                                    \n",
      "4 1 time                                                                     \n",
      "5 3 times                                                                    \n",
      "6 4 times                                                                    \n",
      "# A tibble: 7 x 1\n",
      "  `20. On average week, how many times do you take fish oil supplements?`\n",
      "  <fct>                                                                  \n",
      "1 None                                                                   \n",
      "2 1 time                                                                 \n",
      "3 More than 4 times                                                      \n",
      "4 2 times                                                                \n",
      "5 3 times                                                                \n",
      "6 4 times                                                                \n",
      "7 1 times                                                                \n",
      "# A tibble: 6 x 1\n",
      "  `21. During the past month, about how often did you feel NERVOUS?`\n",
      "  <fct>                                                             \n",
      "1 All the time                                                      \n",
      "2 Some of the time                                                  \n",
      "3 Most of the time                                                  \n",
      "4 None of the time                                                  \n",
      "5 A little of the time                                              \n",
      "6 None                                                              \n",
      "# A tibble: 5 x 1\n",
      "  `21. During the past month, about how often did you feel HOPELESS?`\n",
      "  <fct>                                                              \n",
      "1 Most of the time                                                   \n",
      "2 A little of the time                                               \n",
      "3 None of the time                                                   \n",
      "4 All the time                                                       \n",
      "5 Some of the time                                                   \n",
      "# A tibble: 5 x 1\n",
      "  `22. During the past month, about how often did you feel RESTLESS or FIDGETY?`\n",
      "  <fct>                                                                         \n",
      "1 Most of the time                                                              \n",
      "2 A little of the time                                                          \n",
      "3 Some of the time                                                              \n",
      "4 All the time                                                                  \n",
      "5 None of the time                                                              \n",
      "# A tibble: 5 x 1\n",
      "  `23. During the past month, about how often did you feel SO DEPRESSED THAT NO~\n",
      "  <fct>                                                                         \n",
      "1 Most of the time                                                              \n",
      "2 A little of the time                                                          \n",
      "3 None of the time                                                              \n",
      "4 All the time                                                                  \n",
      "5 Some of the time                                                              \n",
      "# A tibble: 5 x 1\n",
      "  `24. During the past month, about how often did you feel THAT EVERYTHING WAS ~\n",
      "  <fct>                                                                         \n",
      "1 Most of the time                                                              \n",
      "2 Some of the time                                                              \n",
      "3 None of the time                                                              \n",
      "4 All the time                                                                  \n",
      "5 A little of the time                                                          \n",
      "# A tibble: 5 x 1\n",
      "  `25. During the past month, about how often did you feel WORTHLESS?`\n",
      "  <fct>                                                               \n",
      "1 Some of the time                                                    \n",
      "2 None of the time                                                    \n",
      "3 Most of the time                                                    \n",
      "4 All the time                                                        \n",
      "5 A little of the time                                                \n"
     ]
    }
   ],
   "source": [
    "for (i in 1:length(data)) {\n",
    "  data[,i] = as.factor(as.matrix(data[,i]))\n",
    "  print(unique(data[,i]))\n",
    "}"
   ]
  },
  {
   "cell_type": "markdown",
   "metadata": {},
   "source": [
    "<b> Rename the data"
   ]
  },
  {
   "cell_type": "code",
   "execution_count": 5,
   "metadata": {},
   "outputs": [
    {
     "data": {
      "text/html": [
       "<ol class=list-inline>\n",
       "\t<li>'timestamp'</li>\n",
       "\t<li>'gender'</li>\n",
       "\t<li>'age'</li>\n",
       "\t<li>'region'</li>\n",
       "\t<li>'education'</li>\n",
       "\t<li>'diet'</li>\n",
       "\t<li>'exercise'</li>\n",
       "\t<li>'breakfast'</li>\n",
       "\t<li>'whole_grain'</li>\n",
       "\t<li>'dairy_product'</li>\n",
       "\t<li>'coffee'</li>\n",
       "\t<li>'fruits'</li>\n",
       "\t<li>'flaxseed/nuts'</li>\n",
       "\t<li>'rice/pasta'</li>\n",
       "\t<li>'meat'</li>\n",
       "\t<li>'vegetables'</li>\n",
       "\t<li>'beans'</li>\n",
       "\t<li>'fish'</li>\n",
       "\t<li>'fast_food'</li>\n",
       "\t<li>'multivitamin'</li>\n",
       "\t<li>'fish_oil'</li>\n",
       "\t<li>'nervous'</li>\n",
       "\t<li>'hopeless'</li>\n",
       "\t<li>'restless'</li>\n",
       "\t<li>'depressed'</li>\n",
       "\t<li>'effort'</li>\n",
       "\t<li>'worthless'</li>\n",
       "</ol>\n"
      ],
      "text/latex": [
       "\\begin{enumerate*}\n",
       "\\item 'timestamp'\n",
       "\\item 'gender'\n",
       "\\item 'age'\n",
       "\\item 'region'\n",
       "\\item 'education'\n",
       "\\item 'diet'\n",
       "\\item 'exercise'\n",
       "\\item 'breakfast'\n",
       "\\item 'whole\\_grain'\n",
       "\\item 'dairy\\_product'\n",
       "\\item 'coffee'\n",
       "\\item 'fruits'\n",
       "\\item 'flaxseed/nuts'\n",
       "\\item 'rice/pasta'\n",
       "\\item 'meat'\n",
       "\\item 'vegetables'\n",
       "\\item 'beans'\n",
       "\\item 'fish'\n",
       "\\item 'fast\\_food'\n",
       "\\item 'multivitamin'\n",
       "\\item 'fish\\_oil'\n",
       "\\item 'nervous'\n",
       "\\item 'hopeless'\n",
       "\\item 'restless'\n",
       "\\item 'depressed'\n",
       "\\item 'effort'\n",
       "\\item 'worthless'\n",
       "\\end{enumerate*}\n"
      ],
      "text/markdown": [
       "1. 'timestamp'\n",
       "2. 'gender'\n",
       "3. 'age'\n",
       "4. 'region'\n",
       "5. 'education'\n",
       "6. 'diet'\n",
       "7. 'exercise'\n",
       "8. 'breakfast'\n",
       "9. 'whole_grain'\n",
       "10. 'dairy_product'\n",
       "11. 'coffee'\n",
       "12. 'fruits'\n",
       "13. 'flaxseed/nuts'\n",
       "14. 'rice/pasta'\n",
       "15. 'meat'\n",
       "16. 'vegetables'\n",
       "17. 'beans'\n",
       "18. 'fish'\n",
       "19. 'fast_food'\n",
       "20. 'multivitamin'\n",
       "21. 'fish_oil'\n",
       "22. 'nervous'\n",
       "23. 'hopeless'\n",
       "24. 'restless'\n",
       "25. 'depressed'\n",
       "26. 'effort'\n",
       "27. 'worthless'\n",
       "\n",
       "\n"
      ],
      "text/plain": [
       " [1] \"timestamp\"     \"gender\"        \"age\"           \"region\"       \n",
       " [5] \"education\"     \"diet\"          \"exercise\"      \"breakfast\"    \n",
       " [9] \"whole_grain\"   \"dairy_product\" \"coffee\"        \"fruits\"       \n",
       "[13] \"flaxseed/nuts\" \"rice/pasta\"    \"meat\"          \"vegetables\"   \n",
       "[17] \"beans\"         \"fish\"          \"fast_food\"     \"multivitamin\" \n",
       "[21] \"fish_oil\"      \"nervous\"       \"hopeless\"      \"restless\"     \n",
       "[25] \"depressed\"     \"effort\"        \"worthless\"    "
      ]
     },
     "metadata": {},
     "output_type": "display_data"
    }
   ],
   "source": [
    "names(data) = c(\"timestamp\",\"gender\",\"age\",\"region\",\"education\",\"diet\",\n",
    "                \"exercise\",\"breakfast\",\"whole_grain\",\"dairy_product\",\"coffee\",\n",
    "                \"fruits\",\"flaxseed/nuts\",\"rice/pasta\",\"meat\",\"vegetables\",\"beans\"\n",
    "                ,\"fish\",\"fast_food\",\"multivitamin\",\"fish_oil\",\n",
    "                \"nervous\",\"hopeless\",\"restless\",\"depressed\",\"effort\",\"worthless\")\n",
    "names(data)"
   ]
  },
  {
   "cell_type": "markdown",
   "metadata": {},
   "source": [
    "# 1.1 Cleaning the data "
   ]
  },
  {
   "cell_type": "markdown",
   "metadata": {},
   "source": [
    "### Remove observations with N/A"
   ]
  },
  {
   "cell_type": "code",
   "execution_count": 6,
   "metadata": {},
   "outputs": [
    {
     "data": {
      "text/html": [
       "2328"
      ],
      "text/latex": [
       "2328"
      ],
      "text/markdown": [
       "2328"
      ],
      "text/plain": [
       "[1] 2328"
      ]
     },
     "metadata": {},
     "output_type": "display_data"
    }
   ],
   "source": [
    "data = na.omit(data)\n",
    "dim(data)[1]"
   ]
  },
  {
   "cell_type": "markdown",
   "metadata": {},
   "source": [
    "### Remove, combine and rename"
   ]
  },
  {
   "cell_type": "markdown",
   "metadata": {},
   "source": [
    "For **Gender**, there is only one **Other** observation. For better analysis on data, I remove levels with only one observation, the same for other variables."
   ]
  },
  {
   "cell_type": "code",
   "execution_count": 7,
   "metadata": {},
   "outputs": [
    {
     "data": {
      "text/html": [
       "2327"
      ],
      "text/latex": [
       "2327"
      ],
      "text/markdown": [
       "2327"
      ],
      "text/plain": [
       "[1] 2327"
      ]
     },
     "metadata": {},
     "output_type": "display_data"
    }
   ],
   "source": [
    "data = data [-which(data$gender=='Other'),]\n",
    "dim(data)[1]"
   ]
  },
  {
   "cell_type": "markdown",
   "metadata": {},
   "source": [
    "Check **Gender** levels"
   ]
  },
  {
   "cell_type": "code",
   "execution_count": 8,
   "metadata": {},
   "outputs": [
    {
     "data": {
      "text/html": [
       "<table>\n",
       "<thead><tr><th scope=col>gender</th></tr></thead>\n",
       "<tbody>\n",
       "\t<tr><td>Female</td></tr>\n",
       "\t<tr><td>Male  </td></tr>\n",
       "</tbody>\n",
       "</table>\n"
      ],
      "text/latex": [
       "\\begin{tabular}{r|l}\n",
       " gender\\\\\n",
       "\\hline\n",
       "\t Female\\\\\n",
       "\t Male  \\\\\n",
       "\\end{tabular}\n"
      ],
      "text/markdown": [
       "\n",
       "| gender |\n",
       "|---|\n",
       "| Female |\n",
       "| Male   |\n",
       "\n"
      ],
      "text/plain": [
       "  gender\n",
       "1 Female\n",
       "2 Male  "
      ]
     },
     "metadata": {},
     "output_type": "display_data"
    }
   ],
   "source": [
    "unique(data[,2])"
   ]
  },
  {
   "cell_type": "markdown",
   "metadata": {},
   "source": [
    "----"
   ]
  },
  {
   "cell_type": "markdown",
   "metadata": {},
   "source": [
    "For **Region**:\n",
    "- There are two **Option 8** observations.\n",
    "- There are repeated levels such as: **Middle East/North Africa** and **Africa**, **Australia** and **Australia /New Zealand**. I combine those observations into **Africa** and **Australia**."
   ]
  },
  {
   "cell_type": "code",
   "execution_count": 9,
   "metadata": {},
   "outputs": [
    {
     "data": {
      "text/html": [
       "<table>\n",
       "<thead><tr><th scope=col>region</th></tr></thead>\n",
       "<tbody>\n",
       "\t<tr><td>Asia                         </td></tr>\n",
       "\t<tr><td>North America/Central America</td></tr>\n",
       "\t<tr><td>Middle East/North Africa     </td></tr>\n",
       "\t<tr><td>Europe                       </td></tr>\n",
       "\t<tr><td>Africa                       </td></tr>\n",
       "\t<tr><td><span style=white-space:pre-wrap>Australia&lt;U+00A0&gt;            </span></td></tr>\n",
       "\t<tr><td>South America                </td></tr>\n",
       "\t<tr><td>Option 8                     </td></tr>\n",
       "\t<tr><td>Australia /New Zealand       </td></tr>\n",
       "\t<tr><td>Australia                    </td></tr>\n",
       "</tbody>\n",
       "</table>\n"
      ],
      "text/latex": [
       "\\begin{tabular}{r|l}\n",
       " region\\\\\n",
       "\\hline\n",
       "\t Asia                         \\\\\n",
       "\t North America/Central America\\\\\n",
       "\t Middle East/North Africa     \\\\\n",
       "\t Europe                       \\\\\n",
       "\t Africa                       \\\\\n",
       "\t Australia<U+00A0>            \\\\\n",
       "\t South America                \\\\\n",
       "\t Option 8                     \\\\\n",
       "\t Australia /New Zealand       \\\\\n",
       "\t Australia                    \\\\\n",
       "\\end{tabular}\n"
      ],
      "text/markdown": [
       "\n",
       "| region |\n",
       "|---|\n",
       "| Asia                          |\n",
       "| North America/Central America |\n",
       "| Middle East/North Africa      |\n",
       "| Europe                        |\n",
       "| Africa                        |\n",
       "| Australia<U+00A0>             |\n",
       "| South America                 |\n",
       "| Option 8                      |\n",
       "| Australia /New Zealand        |\n",
       "| Australia                     |\n",
       "\n"
      ],
      "text/plain": [
       "   region                       \n",
       "1  Asia                         \n",
       "2  North America/Central America\n",
       "3  Middle East/North Africa     \n",
       "4  Europe                       \n",
       "5  Africa                       \n",
       "6  Australia<U+00A0>            \n",
       "7  South America                \n",
       "8  Option 8                     \n",
       "9  Australia /New Zealand       \n",
       "10 Australia                    "
      ]
     },
     "metadata": {},
     "output_type": "display_data"
    }
   ],
   "source": [
    "ureg = unique(data$region)\n",
    "unique(data[,4])"
   ]
  },
  {
   "cell_type": "code",
   "execution_count": 10,
   "metadata": {
    "scrolled": true
   },
   "outputs": [
    {
     "data": {
      "text/html": [
       "2325"
      ],
      "text/latex": [
       "2325"
      ],
      "text/markdown": [
       "2325"
      ],
      "text/plain": [
       "[1] 2325"
      ]
     },
     "metadata": {},
     "output_type": "display_data"
    }
   ],
   "source": [
    "data = data [-which(data$region==ureg[8]),]\n",
    "dim(data)[1]"
   ]
  },
  {
   "cell_type": "code",
   "execution_count": 11,
   "metadata": {},
   "outputs": [
    {
     "data": {
      "text/html": [
       "2325"
      ],
      "text/latex": [
       "2325"
      ],
      "text/markdown": [
       "2325"
      ],
      "text/plain": [
       "[1] 2325"
      ]
     },
     "metadata": {},
     "output_type": "display_data"
    }
   ],
   "source": [
    "#combine into Africa\n",
    "data$region[which(data$region==ureg[3])] = ureg[5]\n",
    "#combine into Australia/New Zealand\n",
    "data$region[which(data$region==ureg[6])] = ureg[9]\n",
    "data$region[which(data$region==ureg[10])] = ureg[9]\n",
    "dim(data)[1]"
   ]
  },
  {
   "cell_type": "markdown",
   "metadata": {},
   "source": [
    "Check **Region** levels"
   ]
  },
  {
   "cell_type": "code",
   "execution_count": 12,
   "metadata": {
    "scrolled": true
   },
   "outputs": [
    {
     "data": {
      "text/html": [
       "<table>\n",
       "<thead><tr><th scope=col>region</th></tr></thead>\n",
       "<tbody>\n",
       "\t<tr><td>Asia                         </td></tr>\n",
       "\t<tr><td>North America/Central America</td></tr>\n",
       "\t<tr><td>Africa                       </td></tr>\n",
       "\t<tr><td>Europe                       </td></tr>\n",
       "\t<tr><td>Australia /New Zealand       </td></tr>\n",
       "\t<tr><td>South America                </td></tr>\n",
       "</tbody>\n",
       "</table>\n"
      ],
      "text/latex": [
       "\\begin{tabular}{r|l}\n",
       " region\\\\\n",
       "\\hline\n",
       "\t Asia                         \\\\\n",
       "\t North America/Central America\\\\\n",
       "\t Africa                       \\\\\n",
       "\t Europe                       \\\\\n",
       "\t Australia /New Zealand       \\\\\n",
       "\t South America                \\\\\n",
       "\\end{tabular}\n"
      ],
      "text/markdown": [
       "\n",
       "| region |\n",
       "|---|\n",
       "| Asia                          |\n",
       "| North America/Central America |\n",
       "| Africa                        |\n",
       "| Europe                        |\n",
       "| Australia /New Zealand        |\n",
       "| South America                 |\n",
       "\n"
      ],
      "text/plain": [
       "  region                       \n",
       "1 Asia                         \n",
       "2 North America/Central America\n",
       "3 Africa                       \n",
       "4 Europe                       \n",
       "5 Australia /New Zealand       \n",
       "6 South America                "
      ]
     },
     "metadata": {},
     "output_type": "display_data"
    }
   ],
   "source": [
    "unique(data[,4])"
   ]
  },
  {
   "cell_type": "markdown",
   "metadata": {},
   "source": [
    "----"
   ]
  },
  {
   "cell_type": "markdown",
   "metadata": {},
   "source": [
    "For **Diet** (type):\n",
    "- There are repeated levels, such as **Mediterranean Diet** due to the spelling.\n",
    "- There are **Sophomore** observations, which are levels from other column.\n",
    "- **Asian diet, Caribbean diet, Korean diet, Vegan diet** each only has one observations."
   ]
  },
  {
   "cell_type": "code",
   "execution_count": 13,
   "metadata": {},
   "outputs": [
    {
     "data": {
      "text/html": [
       "<table>\n",
       "<thead><tr><th scope=col>diet</th></tr></thead>\n",
       "<tbody>\n",
       "\t<tr><td>Mediterranean Diet&lt;U+00A0&gt;</td></tr>\n",
       "\t<tr><td>Eastern Diet              </td></tr>\n",
       "\t<tr><td><span style=white-space:pre-wrap>Western Diet&lt;U+00A0&gt;      </span></td></tr>\n",
       "\t<tr><td>Mediterrenean Diet        </td></tr>\n",
       "\t<tr><td>Mediterrean Diet          </td></tr>\n",
       "\t<tr><td>Western Diet              </td></tr>\n",
       "\t<tr><td>Vegetarian                </td></tr>\n",
       "\t<tr><td>Vegan                     </td></tr>\n",
       "\t<tr><td>Caribbean diet            </td></tr>\n",
       "\t<tr><td>Mediterranean Diet        </td></tr>\n",
       "\t<tr><td>Western                   </td></tr>\n",
       "\t<tr><td>Vegan diet                </td></tr>\n",
       "\t<tr><td>Korean Diet               </td></tr>\n",
       "\t<tr><td>Asian Diet                </td></tr>\n",
       "\t<tr><td>Sophomore                 </td></tr>\n",
       "</tbody>\n",
       "</table>\n"
      ],
      "text/latex": [
       "\\begin{tabular}{r|l}\n",
       " diet\\\\\n",
       "\\hline\n",
       "\t Mediterranean Diet<U+00A0>\\\\\n",
       "\t Eastern Diet              \\\\\n",
       "\t Western Diet<U+00A0>      \\\\\n",
       "\t Mediterrenean Diet        \\\\\n",
       "\t Mediterrean Diet          \\\\\n",
       "\t Western Diet              \\\\\n",
       "\t Vegetarian                \\\\\n",
       "\t Vegan                     \\\\\n",
       "\t Caribbean diet            \\\\\n",
       "\t Mediterranean Diet        \\\\\n",
       "\t Western                   \\\\\n",
       "\t Vegan diet                \\\\\n",
       "\t Korean Diet               \\\\\n",
       "\t Asian Diet                \\\\\n",
       "\t Sophomore                 \\\\\n",
       "\\end{tabular}\n"
      ],
      "text/markdown": [
       "\n",
       "| diet |\n",
       "|---|\n",
       "| Mediterranean Diet<U+00A0> |\n",
       "| Eastern Diet               |\n",
       "| Western Diet<U+00A0>       |\n",
       "| Mediterrenean Diet         |\n",
       "| Mediterrean Diet           |\n",
       "| Western Diet               |\n",
       "| Vegetarian                 |\n",
       "| Vegan                      |\n",
       "| Caribbean diet             |\n",
       "| Mediterranean Diet         |\n",
       "| Western                    |\n",
       "| Vegan diet                 |\n",
       "| Korean Diet                |\n",
       "| Asian Diet                 |\n",
       "| Sophomore                  |\n",
       "\n"
      ],
      "text/plain": [
       "   diet                      \n",
       "1  Mediterranean Diet<U+00A0>\n",
       "2  Eastern Diet              \n",
       "3  Western Diet<U+00A0>      \n",
       "4  Mediterrenean Diet        \n",
       "5  Mediterrean Diet          \n",
       "6  Western Diet              \n",
       "7  Vegetarian                \n",
       "8  Vegan                     \n",
       "9  Caribbean diet            \n",
       "10 Mediterranean Diet        \n",
       "11 Western                   \n",
       "12 Vegan diet                \n",
       "13 Korean Diet               \n",
       "14 Asian Diet                \n",
       "15 Sophomore                 "
      ]
     },
     "metadata": {},
     "output_type": "display_data"
    }
   ],
   "source": [
    "udt = unique(data$diet)\n",
    "unique(data[,6])"
   ]
  },
  {
   "cell_type": "code",
   "execution_count": 14,
   "metadata": {},
   "outputs": [
    {
     "data": {
      "text/html": [
       "2323"
      ],
      "text/latex": [
       "2323"
      ],
      "text/markdown": [
       "2323"
      ],
      "text/plain": [
       "[1] 2323"
      ]
     },
     "metadata": {},
     "output_type": "display_data"
    },
    {
     "data": {
      "text/html": [
       "2314"
      ],
      "text/latex": [
       "2314"
      ],
      "text/markdown": [
       "2314"
      ],
      "text/plain": [
       "[1] 2314"
      ]
     },
     "metadata": {},
     "output_type": "display_data"
    }
   ],
   "source": [
    "#combine all Mediterranean Diet\n",
    "data$diet[which(data$diet==udt[1])] = udt[10]\n",
    "data$diet[which(data$diet==udt[4])] = udt[10]\n",
    "data$diet[which(data$diet==udt[5])] = udt[10]\n",
    "#combine all Western Diet\n",
    "data$diet[which(data$diet==udt[3])] = udt[6]\n",
    "data$diet[which(data$diet==udt[11])] = udt[6]\n",
    "#remove Sophomore observations\n",
    "data = data[-which(data$diet==udt[15]),]\n",
    "dim(data)[1]\n",
    "#remove Asian diet, Caribbean diet, Korean diet, Vegan diet\n",
    "data = data[-which(data$diet==udt[7]),]\n",
    "data = data[-which(data$diet==udt[8]),]\n",
    "data = data[-which(data$diet==udt[9]),]\n",
    "data = data[-which(data$diet==udt[12]),]\n",
    "data = data[-which(data$diet==udt[13]),]\n",
    "data = data[-which(data$diet==udt[14]),]\n",
    "dim(data)[1]"
   ]
  },
  {
   "cell_type": "markdown",
   "metadata": {},
   "source": [
    "Check **Diet** levels"
   ]
  },
  {
   "cell_type": "code",
   "execution_count": 15,
   "metadata": {},
   "outputs": [
    {
     "data": {
      "text/html": [
       "<table>\n",
       "<thead><tr><th scope=col>diet</th></tr></thead>\n",
       "<tbody>\n",
       "\t<tr><td>Mediterranean Diet</td></tr>\n",
       "\t<tr><td>Eastern Diet      </td></tr>\n",
       "\t<tr><td>Western Diet      </td></tr>\n",
       "</tbody>\n",
       "</table>\n"
      ],
      "text/latex": [
       "\\begin{tabular}{r|l}\n",
       " diet\\\\\n",
       "\\hline\n",
       "\t Mediterranean Diet\\\\\n",
       "\t Eastern Diet      \\\\\n",
       "\t Western Diet      \\\\\n",
       "\\end{tabular}\n"
      ],
      "text/markdown": [
       "\n",
       "| diet |\n",
       "|---|\n",
       "| Mediterranean Diet |\n",
       "| Eastern Diet       |\n",
       "| Western Diet       |\n",
       "\n"
      ],
      "text/plain": [
       "  diet              \n",
       "1 Mediterranean Diet\n",
       "2 Eastern Diet      \n",
       "3 Western Diet      "
      ]
     },
     "metadata": {},
     "output_type": "display_data"
    }
   ],
   "source": [
    "unique(data[,6])"
   ]
  },
  {
   "cell_type": "markdown",
   "metadata": {},
   "source": [
    "---"
   ]
  },
  {
   "cell_type": "markdown",
   "metadata": {},
   "source": [
    "For **Breakfast**:"
   ]
  },
  {
   "cell_type": "code",
   "execution_count": 16,
   "metadata": {},
   "outputs": [
    {
     "data": {
      "text/html": [
       "<table>\n",
       "<thead><tr><th scope=col>breakfast</th></tr></thead>\n",
       "<tbody>\n",
       "\t<tr><td>4 times     </td></tr>\n",
       "\t<tr><td>6 or 7 times</td></tr>\n",
       "\t<tr><td>1 time      </td></tr>\n",
       "\t<tr><td>5 times     </td></tr>\n",
       "\t<tr><td>3 times     </td></tr>\n",
       "\t<tr><td>2 times     </td></tr>\n",
       "\t<tr><td>None        </td></tr>\n",
       "\t<tr><td>Never       </td></tr>\n",
       "</tbody>\n",
       "</table>\n"
      ],
      "text/latex": [
       "\\begin{tabular}{r|l}\n",
       " breakfast\\\\\n",
       "\\hline\n",
       "\t 4 times     \\\\\n",
       "\t 6 or 7 times\\\\\n",
       "\t 1 time      \\\\\n",
       "\t 5 times     \\\\\n",
       "\t 3 times     \\\\\n",
       "\t 2 times     \\\\\n",
       "\t None        \\\\\n",
       "\t Never       \\\\\n",
       "\\end{tabular}\n"
      ],
      "text/markdown": [
       "\n",
       "| breakfast |\n",
       "|---|\n",
       "| 4 times      |\n",
       "| 6 or 7 times |\n",
       "| 1 time       |\n",
       "| 5 times      |\n",
       "| 3 times      |\n",
       "| 2 times      |\n",
       "| None         |\n",
       "| Never        |\n",
       "\n"
      ],
      "text/plain": [
       "  breakfast   \n",
       "1 4 times     \n",
       "2 6 or 7 times\n",
       "3 1 time      \n",
       "4 5 times     \n",
       "5 3 times     \n",
       "6 2 times     \n",
       "7 None        \n",
       "8 Never       "
      ]
     },
     "metadata": {},
     "output_type": "display_data"
    }
   ],
   "source": [
    "u8 = unique(data$breakfast)\n",
    "unique(data[,8])"
   ]
  },
  {
   "cell_type": "code",
   "execution_count": 17,
   "metadata": {},
   "outputs": [
    {
     "data": {
      "text/html": [
       "2314"
      ],
      "text/latex": [
       "2314"
      ],
      "text/markdown": [
       "2314"
      ],
      "text/plain": [
       "[1] 2314"
      ]
     },
     "metadata": {},
     "output_type": "display_data"
    }
   ],
   "source": [
    "data$breakfast[which(data$breakfast==u8[8])] = u8[7]\n",
    "dim(data)[1]"
   ]
  },
  {
   "cell_type": "markdown",
   "metadata": {},
   "source": [
    "Check **Breakfast** levels:"
   ]
  },
  {
   "cell_type": "code",
   "execution_count": 18,
   "metadata": {},
   "outputs": [
    {
     "data": {
      "text/html": [
       "<table>\n",
       "<thead><tr><th scope=col>breakfast</th></tr></thead>\n",
       "<tbody>\n",
       "\t<tr><td>4 times     </td></tr>\n",
       "\t<tr><td>6 or 7 times</td></tr>\n",
       "\t<tr><td>1 time      </td></tr>\n",
       "\t<tr><td>5 times     </td></tr>\n",
       "\t<tr><td>3 times     </td></tr>\n",
       "\t<tr><td>2 times     </td></tr>\n",
       "\t<tr><td>None        </td></tr>\n",
       "</tbody>\n",
       "</table>\n"
      ],
      "text/latex": [
       "\\begin{tabular}{r|l}\n",
       " breakfast\\\\\n",
       "\\hline\n",
       "\t 4 times     \\\\\n",
       "\t 6 or 7 times\\\\\n",
       "\t 1 time      \\\\\n",
       "\t 5 times     \\\\\n",
       "\t 3 times     \\\\\n",
       "\t 2 times     \\\\\n",
       "\t None        \\\\\n",
       "\\end{tabular}\n"
      ],
      "text/markdown": [
       "\n",
       "| breakfast |\n",
       "|---|\n",
       "| 4 times      |\n",
       "| 6 or 7 times |\n",
       "| 1 time       |\n",
       "| 5 times      |\n",
       "| 3 times      |\n",
       "| 2 times      |\n",
       "| None         |\n",
       "\n"
      ],
      "text/plain": [
       "  breakfast   \n",
       "1 4 times     \n",
       "2 6 or 7 times\n",
       "3 1 time      \n",
       "4 5 times     \n",
       "5 3 times     \n",
       "6 2 times     \n",
       "7 None        "
      ]
     },
     "metadata": {},
     "output_type": "display_data"
    }
   ],
   "source": [
    "unique(data[,8])"
   ]
  },
  {
   "cell_type": "markdown",
   "metadata": {},
   "source": [
    "---"
   ]
  },
  {
   "cell_type": "markdown",
   "metadata": {},
   "source": [
    "For **Whole grain**:"
   ]
  },
  {
   "cell_type": "code",
   "execution_count": 19,
   "metadata": {},
   "outputs": [
    {
     "data": {
      "text/html": [
       "<table>\n",
       "<thead><tr><th scope=col>whole_grain</th></tr></thead>\n",
       "<tbody>\n",
       "\t<tr><td>More than 4 times</td></tr>\n",
       "\t<tr><td>1 time           </td></tr>\n",
       "\t<tr><td><span style=white-space:pre-wrap>2 times&lt;U+00A0&gt;  </span></td></tr>\n",
       "\t<tr><td>None             </td></tr>\n",
       "\t<tr><td>4 times          </td></tr>\n",
       "\t<tr><td>3 times          </td></tr>\n",
       "\t<tr><td>2 times          </td></tr>\n",
       "</tbody>\n",
       "</table>\n"
      ],
      "text/latex": [
       "\\begin{tabular}{r|l}\n",
       " whole\\_grain\\\\\n",
       "\\hline\n",
       "\t More than 4 times\\\\\n",
       "\t 1 time           \\\\\n",
       "\t 2 times<U+00A0>  \\\\\n",
       "\t None             \\\\\n",
       "\t 4 times          \\\\\n",
       "\t 3 times          \\\\\n",
       "\t 2 times          \\\\\n",
       "\\end{tabular}\n"
      ],
      "text/markdown": [
       "\n",
       "| whole_grain |\n",
       "|---|\n",
       "| More than 4 times |\n",
       "| 1 time            |\n",
       "| 2 times<U+00A0>   |\n",
       "| None              |\n",
       "| 4 times           |\n",
       "| 3 times           |\n",
       "| 2 times           |\n",
       "\n"
      ],
      "text/plain": [
       "  whole_grain      \n",
       "1 More than 4 times\n",
       "2 1 time           \n",
       "3 2 times<U+00A0>  \n",
       "4 None             \n",
       "5 4 times          \n",
       "6 3 times          \n",
       "7 2 times          "
      ]
     },
     "metadata": {},
     "output_type": "display_data"
    }
   ],
   "source": [
    "u9 = unique(data$whole_grain)\n",
    "unique(data[,9])"
   ]
  },
  {
   "cell_type": "code",
   "execution_count": 20,
   "metadata": {},
   "outputs": [
    {
     "data": {
      "text/html": [
       "2314"
      ],
      "text/latex": [
       "2314"
      ],
      "text/markdown": [
       "2314"
      ],
      "text/plain": [
       "[1] 2314"
      ]
     },
     "metadata": {},
     "output_type": "display_data"
    }
   ],
   "source": [
    "data$whole_grain[which(data$whole_grain==u9[3])] = u9[7]\n",
    "dim(data)[1]"
   ]
  },
  {
   "cell_type": "markdown",
   "metadata": {},
   "source": [
    "Check **Whole grain** levels:"
   ]
  },
  {
   "cell_type": "code",
   "execution_count": 21,
   "metadata": {},
   "outputs": [
    {
     "data": {
      "text/html": [
       "<table>\n",
       "<thead><tr><th scope=col>whole_grain</th></tr></thead>\n",
       "<tbody>\n",
       "\t<tr><td>More than 4 times</td></tr>\n",
       "\t<tr><td>1 time           </td></tr>\n",
       "\t<tr><td>2 times          </td></tr>\n",
       "\t<tr><td>None             </td></tr>\n",
       "\t<tr><td>4 times          </td></tr>\n",
       "\t<tr><td>3 times          </td></tr>\n",
       "</tbody>\n",
       "</table>\n"
      ],
      "text/latex": [
       "\\begin{tabular}{r|l}\n",
       " whole\\_grain\\\\\n",
       "\\hline\n",
       "\t More than 4 times\\\\\n",
       "\t 1 time           \\\\\n",
       "\t 2 times          \\\\\n",
       "\t None             \\\\\n",
       "\t 4 times          \\\\\n",
       "\t 3 times          \\\\\n",
       "\\end{tabular}\n"
      ],
      "text/markdown": [
       "\n",
       "| whole_grain |\n",
       "|---|\n",
       "| More than 4 times |\n",
       "| 1 time            |\n",
       "| 2 times           |\n",
       "| None              |\n",
       "| 4 times           |\n",
       "| 3 times           |\n",
       "\n"
      ],
      "text/plain": [
       "  whole_grain      \n",
       "1 More than 4 times\n",
       "2 1 time           \n",
       "3 2 times          \n",
       "4 None             \n",
       "5 4 times          \n",
       "6 3 times          "
      ]
     },
     "metadata": {},
     "output_type": "display_data"
    }
   ],
   "source": [
    "unique(data[,9])"
   ]
  },
  {
   "cell_type": "markdown",
   "metadata": {},
   "source": [
    "---"
   ]
  },
  {
   "cell_type": "markdown",
   "metadata": {},
   "source": [
    "For **Dairy product**:"
   ]
  },
  {
   "cell_type": "code",
   "execution_count": 22,
   "metadata": {
    "scrolled": true
   },
   "outputs": [
    {
     "data": {
      "text/html": [
       "<table>\n",
       "<thead><tr><th scope=col>dairy_product</th></tr></thead>\n",
       "<tbody>\n",
       "\t<tr><td>More than 4 times</td></tr>\n",
       "\t<tr><td>1 time           </td></tr>\n",
       "\t<tr><td>2 times          </td></tr>\n",
       "\t<tr><td>3 times          </td></tr>\n",
       "\t<tr><td>4 times          </td></tr>\n",
       "\t<tr><td>None             </td></tr>\n",
       "\t<tr><td>More that 4 times</td></tr>\n",
       "\t<tr><td>1 serving        </td></tr>\n",
       "</tbody>\n",
       "</table>\n"
      ],
      "text/latex": [
       "\\begin{tabular}{r|l}\n",
       " dairy\\_product\\\\\n",
       "\\hline\n",
       "\t More than 4 times\\\\\n",
       "\t 1 time           \\\\\n",
       "\t 2 times          \\\\\n",
       "\t 3 times          \\\\\n",
       "\t 4 times          \\\\\n",
       "\t None             \\\\\n",
       "\t More that 4 times\\\\\n",
       "\t 1 serving        \\\\\n",
       "\\end{tabular}\n"
      ],
      "text/markdown": [
       "\n",
       "| dairy_product |\n",
       "|---|\n",
       "| More than 4 times |\n",
       "| 1 time            |\n",
       "| 2 times           |\n",
       "| 3 times           |\n",
       "| 4 times           |\n",
       "| None              |\n",
       "| More that 4 times |\n",
       "| 1 serving         |\n",
       "\n"
      ],
      "text/plain": [
       "  dairy_product    \n",
       "1 More than 4 times\n",
       "2 1 time           \n",
       "3 2 times          \n",
       "4 3 times          \n",
       "5 4 times          \n",
       "6 None             \n",
       "7 More that 4 times\n",
       "8 1 serving        "
      ]
     },
     "metadata": {},
     "output_type": "display_data"
    }
   ],
   "source": [
    "u10 = unique(data$dairy_product)\n",
    "unique(data[,10])"
   ]
  },
  {
   "cell_type": "code",
   "execution_count": 23,
   "metadata": {},
   "outputs": [
    {
     "data": {
      "text/html": [
       "2314"
      ],
      "text/latex": [
       "2314"
      ],
      "text/markdown": [
       "2314"
      ],
      "text/plain": [
       "[1] 2314"
      ]
     },
     "metadata": {},
     "output_type": "display_data"
    }
   ],
   "source": [
    "data$dairy_product[which(data$dairy_product==u10[8])] = u10[2]\n",
    "data$dairy_product[which(data$dairy_product==u10[7])] = u10[1]\n",
    "dim(data)[1]"
   ]
  },
  {
   "cell_type": "markdown",
   "metadata": {},
   "source": [
    "Check **Dairy product** levels:"
   ]
  },
  {
   "cell_type": "code",
   "execution_count": 24,
   "metadata": {},
   "outputs": [
    {
     "data": {
      "text/html": [
       "<table>\n",
       "<thead><tr><th scope=col>dairy_product</th></tr></thead>\n",
       "<tbody>\n",
       "\t<tr><td>More than 4 times</td></tr>\n",
       "\t<tr><td>1 time           </td></tr>\n",
       "\t<tr><td>2 times          </td></tr>\n",
       "\t<tr><td>3 times          </td></tr>\n",
       "\t<tr><td>4 times          </td></tr>\n",
       "\t<tr><td>None             </td></tr>\n",
       "</tbody>\n",
       "</table>\n"
      ],
      "text/latex": [
       "\\begin{tabular}{r|l}\n",
       " dairy\\_product\\\\\n",
       "\\hline\n",
       "\t More than 4 times\\\\\n",
       "\t 1 time           \\\\\n",
       "\t 2 times          \\\\\n",
       "\t 3 times          \\\\\n",
       "\t 4 times          \\\\\n",
       "\t None             \\\\\n",
       "\\end{tabular}\n"
      ],
      "text/markdown": [
       "\n",
       "| dairy_product |\n",
       "|---|\n",
       "| More than 4 times |\n",
       "| 1 time            |\n",
       "| 2 times           |\n",
       "| 3 times           |\n",
       "| 4 times           |\n",
       "| None              |\n",
       "\n"
      ],
      "text/plain": [
       "  dairy_product    \n",
       "1 More than 4 times\n",
       "2 1 time           \n",
       "3 2 times          \n",
       "4 3 times          \n",
       "5 4 times          \n",
       "6 None             "
      ]
     },
     "metadata": {},
     "output_type": "display_data"
    }
   ],
   "source": [
    "unique(data[,10])"
   ]
  },
  {
   "cell_type": "markdown",
   "metadata": {},
   "source": [
    "---"
   ]
  },
  {
   "cell_type": "markdown",
   "metadata": {},
   "source": [
    "For **Coffee**:"
   ]
  },
  {
   "cell_type": "code",
   "execution_count": 26,
   "metadata": {},
   "outputs": [
    {
     "data": {
      "text/html": [
       "<table>\n",
       "<thead><tr><th scope=col>coffee</th></tr></thead>\n",
       "<tbody>\n",
       "\t<tr><td>More than 4 times</td></tr>\n",
       "\t<tr><td>3 times          </td></tr>\n",
       "\t<tr><td>2 times          </td></tr>\n",
       "\t<tr><td>None             </td></tr>\n",
       "\t<tr><td>4 times          </td></tr>\n",
       "\t<tr><td>1 time           </td></tr>\n",
       "\t<tr><td>Never            </td></tr>\n",
       "</tbody>\n",
       "</table>\n"
      ],
      "text/latex": [
       "\\begin{tabular}{r|l}\n",
       " coffee\\\\\n",
       "\\hline\n",
       "\t More than 4 times\\\\\n",
       "\t 3 times          \\\\\n",
       "\t 2 times          \\\\\n",
       "\t None             \\\\\n",
       "\t 4 times          \\\\\n",
       "\t 1 time           \\\\\n",
       "\t Never            \\\\\n",
       "\\end{tabular}\n"
      ],
      "text/markdown": [
       "\n",
       "| coffee |\n",
       "|---|\n",
       "| More than 4 times |\n",
       "| 3 times           |\n",
       "| 2 times           |\n",
       "| None              |\n",
       "| 4 times           |\n",
       "| 1 time            |\n",
       "| Never             |\n",
       "\n"
      ],
      "text/plain": [
       "  coffee           \n",
       "1 More than 4 times\n",
       "2 3 times          \n",
       "3 2 times          \n",
       "4 None             \n",
       "5 4 times          \n",
       "6 1 time           \n",
       "7 Never            "
      ]
     },
     "metadata": {},
     "output_type": "display_data"
    }
   ],
   "source": [
    "u11 = unique(data$coffee)\n",
    "unique(data[,11])"
   ]
  },
  {
   "cell_type": "code",
   "execution_count": 27,
   "metadata": {},
   "outputs": [
    {
     "data": {
      "text/html": [
       "2314"
      ],
      "text/latex": [
       "2314"
      ],
      "text/markdown": [
       "2314"
      ],
      "text/plain": [
       "[1] 2314"
      ]
     },
     "metadata": {},
     "output_type": "display_data"
    }
   ],
   "source": [
    "data$coffee[which(data$coffee==u11[7])] = u11[4]\n",
    "dim(data)[1]"
   ]
  },
  {
   "cell_type": "markdown",
   "metadata": {},
   "source": [
    "Check **Coffee** levels:"
   ]
  },
  {
   "cell_type": "code",
   "execution_count": 28,
   "metadata": {},
   "outputs": [
    {
     "data": {
      "text/html": [
       "<table>\n",
       "<thead><tr><th scope=col>coffee</th></tr></thead>\n",
       "<tbody>\n",
       "\t<tr><td>More than 4 times</td></tr>\n",
       "\t<tr><td>3 times          </td></tr>\n",
       "\t<tr><td>2 times          </td></tr>\n",
       "\t<tr><td>None             </td></tr>\n",
       "\t<tr><td>4 times          </td></tr>\n",
       "\t<tr><td>1 time           </td></tr>\n",
       "</tbody>\n",
       "</table>\n"
      ],
      "text/latex": [
       "\\begin{tabular}{r|l}\n",
       " coffee\\\\\n",
       "\\hline\n",
       "\t More than 4 times\\\\\n",
       "\t 3 times          \\\\\n",
       "\t 2 times          \\\\\n",
       "\t None             \\\\\n",
       "\t 4 times          \\\\\n",
       "\t 1 time           \\\\\n",
       "\\end{tabular}\n"
      ],
      "text/markdown": [
       "\n",
       "| coffee |\n",
       "|---|\n",
       "| More than 4 times |\n",
       "| 3 times           |\n",
       "| 2 times           |\n",
       "| None              |\n",
       "| 4 times           |\n",
       "| 1 time            |\n",
       "\n"
      ],
      "text/plain": [
       "  coffee           \n",
       "1 More than 4 times\n",
       "2 3 times          \n",
       "3 2 times          \n",
       "4 None             \n",
       "5 4 times          \n",
       "6 1 time           "
      ]
     },
     "metadata": {},
     "output_type": "display_data"
    }
   ],
   "source": [
    "unique(data[,11])"
   ]
  },
  {
   "cell_type": "markdown",
   "metadata": {},
   "source": [
    "---"
   ]
  },
  {
   "cell_type": "markdown",
   "metadata": {},
   "source": [
    "For **Vegetables**:"
   ]
  },
  {
   "cell_type": "code",
   "execution_count": 34,
   "metadata": {},
   "outputs": [
    {
     "data": {
      "text/html": [
       "<table>\n",
       "<thead><tr><th scope=col>vegetables</th></tr></thead>\n",
       "<tbody>\n",
       "\t<tr><td>1 time           </td></tr>\n",
       "\t<tr><td>2 times          </td></tr>\n",
       "\t<tr><td>4 times          </td></tr>\n",
       "\t<tr><td>More than 4 times</td></tr>\n",
       "\t<tr><td>3 times          </td></tr>\n",
       "\t<tr><td>None             </td></tr>\n",
       "\t<tr><td>1 serving        </td></tr>\n",
       "</tbody>\n",
       "</table>\n"
      ],
      "text/latex": [
       "\\begin{tabular}{r|l}\n",
       " vegetables\\\\\n",
       "\\hline\n",
       "\t 1 time           \\\\\n",
       "\t 2 times          \\\\\n",
       "\t 4 times          \\\\\n",
       "\t More than 4 times\\\\\n",
       "\t 3 times          \\\\\n",
       "\t None             \\\\\n",
       "\t 1 serving        \\\\\n",
       "\\end{tabular}\n"
      ],
      "text/markdown": [
       "\n",
       "| vegetables |\n",
       "|---|\n",
       "| 1 time            |\n",
       "| 2 times           |\n",
       "| 4 times           |\n",
       "| More than 4 times |\n",
       "| 3 times           |\n",
       "| None              |\n",
       "| 1 serving         |\n",
       "\n"
      ],
      "text/plain": [
       "  vegetables       \n",
       "1 1 time           \n",
       "2 2 times          \n",
       "3 4 times          \n",
       "4 More than 4 times\n",
       "5 3 times          \n",
       "6 None             \n",
       "7 1 serving        "
      ]
     },
     "metadata": {},
     "output_type": "display_data"
    }
   ],
   "source": [
    "u16 = unique(data$vegetables)\n",
    "unique(data[,16])"
   ]
  },
  {
   "cell_type": "code",
   "execution_count": 35,
   "metadata": {},
   "outputs": [
    {
     "data": {
      "text/html": [
       "2314"
      ],
      "text/latex": [
       "2314"
      ],
      "text/markdown": [
       "2314"
      ],
      "text/plain": [
       "[1] 2314"
      ]
     },
     "metadata": {},
     "output_type": "display_data"
    }
   ],
   "source": [
    "data$vegetables[which(data$vegetables==u16[7])] = u16[1]\n",
    "dim(data)[1]"
   ]
  },
  {
   "cell_type": "markdown",
   "metadata": {},
   "source": [
    "Check **Vegetables** levels:"
   ]
  },
  {
   "cell_type": "code",
   "execution_count": 37,
   "metadata": {},
   "outputs": [
    {
     "data": {
      "text/html": [
       "<table>\n",
       "<thead><tr><th scope=col>vegetables</th></tr></thead>\n",
       "<tbody>\n",
       "\t<tr><td>1 time           </td></tr>\n",
       "\t<tr><td>2 times          </td></tr>\n",
       "\t<tr><td>4 times          </td></tr>\n",
       "\t<tr><td>More than 4 times</td></tr>\n",
       "\t<tr><td>3 times          </td></tr>\n",
       "\t<tr><td>None             </td></tr>\n",
       "</tbody>\n",
       "</table>\n"
      ],
      "text/latex": [
       "\\begin{tabular}{r|l}\n",
       " vegetables\\\\\n",
       "\\hline\n",
       "\t 1 time           \\\\\n",
       "\t 2 times          \\\\\n",
       "\t 4 times          \\\\\n",
       "\t More than 4 times\\\\\n",
       "\t 3 times          \\\\\n",
       "\t None             \\\\\n",
       "\\end{tabular}\n"
      ],
      "text/markdown": [
       "\n",
       "| vegetables |\n",
       "|---|\n",
       "| 1 time            |\n",
       "| 2 times           |\n",
       "| 4 times           |\n",
       "| More than 4 times |\n",
       "| 3 times           |\n",
       "| None              |\n",
       "\n"
      ],
      "text/plain": [
       "  vegetables       \n",
       "1 1 time           \n",
       "2 2 times          \n",
       "3 4 times          \n",
       "4 More than 4 times\n",
       "5 3 times          \n",
       "6 None             "
      ]
     },
     "metadata": {},
     "output_type": "display_data"
    }
   ],
   "source": [
    "unique(data[,16])"
   ]
  },
  {
   "cell_type": "markdown",
   "metadata": {},
   "source": [
    "---"
   ]
  },
  {
   "cell_type": "markdown",
   "metadata": {},
   "source": [
    "For **Beans**:"
   ]
  },
  {
   "cell_type": "code",
   "execution_count": 39,
   "metadata": {},
   "outputs": [
    {
     "data": {
      "text/html": [
       "<table>\n",
       "<thead><tr><th scope=col>beans</th></tr></thead>\n",
       "<tbody>\n",
       "\t<tr><td>None             </td></tr>\n",
       "\t<tr><td>1 time           </td></tr>\n",
       "\t<tr><td>4 times          </td></tr>\n",
       "\t<tr><td><span style=white-space:pre-wrap>2 times&lt;U+00A0&gt;  </span></td></tr>\n",
       "\t<tr><td>3 times          </td></tr>\n",
       "\t<tr><td>More than 4 times</td></tr>\n",
       "\t<tr><td>2 times          </td></tr>\n",
       "</tbody>\n",
       "</table>\n"
      ],
      "text/latex": [
       "\\begin{tabular}{r|l}\n",
       " beans\\\\\n",
       "\\hline\n",
       "\t None             \\\\\n",
       "\t 1 time           \\\\\n",
       "\t 4 times          \\\\\n",
       "\t 2 times<U+00A0>  \\\\\n",
       "\t 3 times          \\\\\n",
       "\t More than 4 times\\\\\n",
       "\t 2 times          \\\\\n",
       "\\end{tabular}\n"
      ],
      "text/markdown": [
       "\n",
       "| beans |\n",
       "|---|\n",
       "| None              |\n",
       "| 1 time            |\n",
       "| 4 times           |\n",
       "| 2 times<U+00A0>   |\n",
       "| 3 times           |\n",
       "| More than 4 times |\n",
       "| 2 times           |\n",
       "\n"
      ],
      "text/plain": [
       "  beans            \n",
       "1 None             \n",
       "2 1 time           \n",
       "3 4 times          \n",
       "4 2 times<U+00A0>  \n",
       "5 3 times          \n",
       "6 More than 4 times\n",
       "7 2 times          "
      ]
     },
     "metadata": {},
     "output_type": "display_data"
    }
   ],
   "source": [
    "u17 = unique(data$beans)\n",
    "unique(data[,17])"
   ]
  },
  {
   "cell_type": "code",
   "execution_count": 40,
   "metadata": {},
   "outputs": [
    {
     "data": {
      "text/html": [
       "2314"
      ],
      "text/latex": [
       "2314"
      ],
      "text/markdown": [
       "2314"
      ],
      "text/plain": [
       "[1] 2314"
      ]
     },
     "metadata": {},
     "output_type": "display_data"
    }
   ],
   "source": [
    "data$beans[which(data$beans==u17[4])] = u17[7]\n",
    "dim(data)[1]"
   ]
  },
  {
   "cell_type": "markdown",
   "metadata": {},
   "source": [
    "Check **Beans** levels:"
   ]
  },
  {
   "cell_type": "code",
   "execution_count": 41,
   "metadata": {},
   "outputs": [
    {
     "data": {
      "text/html": [
       "<table>\n",
       "<thead><tr><th scope=col>beans</th></tr></thead>\n",
       "<tbody>\n",
       "\t<tr><td>None             </td></tr>\n",
       "\t<tr><td>1 time           </td></tr>\n",
       "\t<tr><td>4 times          </td></tr>\n",
       "\t<tr><td>2 times          </td></tr>\n",
       "\t<tr><td>3 times          </td></tr>\n",
       "\t<tr><td>More than 4 times</td></tr>\n",
       "</tbody>\n",
       "</table>\n"
      ],
      "text/latex": [
       "\\begin{tabular}{r|l}\n",
       " beans\\\\\n",
       "\\hline\n",
       "\t None             \\\\\n",
       "\t 1 time           \\\\\n",
       "\t 4 times          \\\\\n",
       "\t 2 times          \\\\\n",
       "\t 3 times          \\\\\n",
       "\t More than 4 times\\\\\n",
       "\\end{tabular}\n"
      ],
      "text/markdown": [
       "\n",
       "| beans |\n",
       "|---|\n",
       "| None              |\n",
       "| 1 time            |\n",
       "| 4 times           |\n",
       "| 2 times           |\n",
       "| 3 times           |\n",
       "| More than 4 times |\n",
       "\n"
      ],
      "text/plain": [
       "  beans            \n",
       "1 None             \n",
       "2 1 time           \n",
       "3 4 times          \n",
       "4 2 times          \n",
       "5 3 times          \n",
       "6 More than 4 times"
      ]
     },
     "metadata": {},
     "output_type": "display_data"
    }
   ],
   "source": [
    "unique(data[,17])"
   ]
  },
  {
   "cell_type": "markdown",
   "metadata": {},
   "source": [
    "---"
   ]
  },
  {
   "cell_type": "markdown",
   "metadata": {},
   "source": [
    "For **Fish oil**:"
   ]
  },
  {
   "cell_type": "code",
   "execution_count": 46,
   "metadata": {},
   "outputs": [
    {
     "data": {
      "text/html": [
       "<table>\n",
       "<thead><tr><th scope=col>fish_oil</th></tr></thead>\n",
       "<tbody>\n",
       "\t<tr><td>None             </td></tr>\n",
       "\t<tr><td>1 time           </td></tr>\n",
       "\t<tr><td>More than 4 times</td></tr>\n",
       "\t<tr><td>2 times          </td></tr>\n",
       "\t<tr><td>3 times          </td></tr>\n",
       "\t<tr><td>4 times          </td></tr>\n",
       "\t<tr><td>1 times          </td></tr>\n",
       "</tbody>\n",
       "</table>\n"
      ],
      "text/latex": [
       "\\begin{tabular}{r|l}\n",
       " fish\\_oil\\\\\n",
       "\\hline\n",
       "\t None             \\\\\n",
       "\t 1 time           \\\\\n",
       "\t More than 4 times\\\\\n",
       "\t 2 times          \\\\\n",
       "\t 3 times          \\\\\n",
       "\t 4 times          \\\\\n",
       "\t 1 times          \\\\\n",
       "\\end{tabular}\n"
      ],
      "text/markdown": [
       "\n",
       "| fish_oil |\n",
       "|---|\n",
       "| None              |\n",
       "| 1 time            |\n",
       "| More than 4 times |\n",
       "| 2 times           |\n",
       "| 3 times           |\n",
       "| 4 times           |\n",
       "| 1 times           |\n",
       "\n"
      ],
      "text/plain": [
       "  fish_oil         \n",
       "1 None             \n",
       "2 1 time           \n",
       "3 More than 4 times\n",
       "4 2 times          \n",
       "5 3 times          \n",
       "6 4 times          \n",
       "7 1 times          "
      ]
     },
     "metadata": {},
     "output_type": "display_data"
    }
   ],
   "source": [
    "u21 = unique(data$fish_oil)\n",
    "unique(data[,21])"
   ]
  },
  {
   "cell_type": "code",
   "execution_count": 47,
   "metadata": {},
   "outputs": [
    {
     "data": {
      "text/html": [
       "2314"
      ],
      "text/latex": [
       "2314"
      ],
      "text/markdown": [
       "2314"
      ],
      "text/plain": [
       "[1] 2314"
      ]
     },
     "metadata": {},
     "output_type": "display_data"
    }
   ],
   "source": [
    "data$fish_oil[which(data$fish_oil==u21[7])] = u21[1]\n",
    "dim(data)[1]"
   ]
  },
  {
   "cell_type": "markdown",
   "metadata": {},
   "source": [
    "Check **Fish oil** levels:"
   ]
  },
  {
   "cell_type": "code",
   "execution_count": 48,
   "metadata": {},
   "outputs": [
    {
     "data": {
      "text/html": [
       "<table>\n",
       "<thead><tr><th scope=col>fish_oil</th></tr></thead>\n",
       "<tbody>\n",
       "\t<tr><td>None             </td></tr>\n",
       "\t<tr><td>1 time           </td></tr>\n",
       "\t<tr><td>More than 4 times</td></tr>\n",
       "\t<tr><td>2 times          </td></tr>\n",
       "\t<tr><td>3 times          </td></tr>\n",
       "\t<tr><td>4 times          </td></tr>\n",
       "</tbody>\n",
       "</table>\n"
      ],
      "text/latex": [
       "\\begin{tabular}{r|l}\n",
       " fish\\_oil\\\\\n",
       "\\hline\n",
       "\t None             \\\\\n",
       "\t 1 time           \\\\\n",
       "\t More than 4 times\\\\\n",
       "\t 2 times          \\\\\n",
       "\t 3 times          \\\\\n",
       "\t 4 times          \\\\\n",
       "\\end{tabular}\n"
      ],
      "text/markdown": [
       "\n",
       "| fish_oil |\n",
       "|---|\n",
       "| None              |\n",
       "| 1 time            |\n",
       "| More than 4 times |\n",
       "| 2 times           |\n",
       "| 3 times           |\n",
       "| 4 times           |\n",
       "\n"
      ],
      "text/plain": [
       "  fish_oil         \n",
       "1 None             \n",
       "2 1 time           \n",
       "3 More than 4 times\n",
       "4 2 times          \n",
       "5 3 times          \n",
       "6 4 times          "
      ]
     },
     "metadata": {},
     "output_type": "display_data"
    }
   ],
   "source": [
    "unique(data[,21])"
   ]
  },
  {
   "cell_type": "markdown",
   "metadata": {},
   "source": [
    "---"
   ]
  },
  {
   "cell_type": "markdown",
   "metadata": {},
   "source": [
    "For **Nervous**:"
   ]
  },
  {
   "cell_type": "code",
   "execution_count": 50,
   "metadata": {
    "scrolled": true
   },
   "outputs": [
    {
     "data": {
      "text/html": [
       "<table>\n",
       "<thead><tr><th scope=col>nervous</th></tr></thead>\n",
       "<tbody>\n",
       "\t<tr><td>All the time        </td></tr>\n",
       "\t<tr><td>Some of the time    </td></tr>\n",
       "\t<tr><td>Most of the time    </td></tr>\n",
       "\t<tr><td>None of the time    </td></tr>\n",
       "\t<tr><td>A little of the time</td></tr>\n",
       "\t<tr><td>None                </td></tr>\n",
       "</tbody>\n",
       "</table>\n"
      ],
      "text/latex": [
       "\\begin{tabular}{r|l}\n",
       " nervous\\\\\n",
       "\\hline\n",
       "\t All the time        \\\\\n",
       "\t Some of the time    \\\\\n",
       "\t Most of the time    \\\\\n",
       "\t None of the time    \\\\\n",
       "\t A little of the time\\\\\n",
       "\t None                \\\\\n",
       "\\end{tabular}\n"
      ],
      "text/markdown": [
       "\n",
       "| nervous |\n",
       "|---|\n",
       "| All the time         |\n",
       "| Some of the time     |\n",
       "| Most of the time     |\n",
       "| None of the time     |\n",
       "| A little of the time |\n",
       "| None                 |\n",
       "\n"
      ],
      "text/plain": [
       "  nervous             \n",
       "1 All the time        \n",
       "2 Some of the time    \n",
       "3 Most of the time    \n",
       "4 None of the time    \n",
       "5 A little of the time\n",
       "6 None                "
      ]
     },
     "metadata": {},
     "output_type": "display_data"
    }
   ],
   "source": [
    "u22 = unique(data$nervous)\n",
    "unique(data[,22])"
   ]
  },
  {
   "cell_type": "code",
   "execution_count": 51,
   "metadata": {},
   "outputs": [
    {
     "data": {
      "text/html": [
       "2314"
      ],
      "text/latex": [
       "2314"
      ],
      "text/markdown": [
       "2314"
      ],
      "text/plain": [
       "[1] 2314"
      ]
     },
     "metadata": {},
     "output_type": "display_data"
    }
   ],
   "source": [
    "data$nervous[which(data$nervous==u22[6])] = u22[4]\n",
    "dim(data)[1]"
   ]
  },
  {
   "cell_type": "markdown",
   "metadata": {},
   "source": [
    "Check **Nervous** levels:"
   ]
  },
  {
   "cell_type": "code",
   "execution_count": 52,
   "metadata": {
    "scrolled": true
   },
   "outputs": [
    {
     "data": {
      "text/html": [
       "<table>\n",
       "<thead><tr><th scope=col>nervous</th></tr></thead>\n",
       "<tbody>\n",
       "\t<tr><td>All the time        </td></tr>\n",
       "\t<tr><td>Some of the time    </td></tr>\n",
       "\t<tr><td>Most of the time    </td></tr>\n",
       "\t<tr><td>None of the time    </td></tr>\n",
       "\t<tr><td>A little of the time</td></tr>\n",
       "</tbody>\n",
       "</table>\n"
      ],
      "text/latex": [
       "\\begin{tabular}{r|l}\n",
       " nervous\\\\\n",
       "\\hline\n",
       "\t All the time        \\\\\n",
       "\t Some of the time    \\\\\n",
       "\t Most of the time    \\\\\n",
       "\t None of the time    \\\\\n",
       "\t A little of the time\\\\\n",
       "\\end{tabular}\n"
      ],
      "text/markdown": [
       "\n",
       "| nervous |\n",
       "|---|\n",
       "| All the time         |\n",
       "| Some of the time     |\n",
       "| Most of the time     |\n",
       "| None of the time     |\n",
       "| A little of the time |\n",
       "\n"
      ],
      "text/plain": [
       "  nervous             \n",
       "1 All the time        \n",
       "2 Some of the time    \n",
       "3 Most of the time    \n",
       "4 None of the time    \n",
       "5 A little of the time"
      ]
     },
     "metadata": {},
     "output_type": "display_data"
    }
   ],
   "source": [
    "unique(data[,22])"
   ]
  },
  {
   "cell_type": "markdown",
   "metadata": {},
   "source": [
    "---"
   ]
  },
  {
   "cell_type": "markdown",
   "metadata": {},
   "source": [
    "After above cleaning, there are **2314** observations left."
   ]
  },
  {
   "cell_type": "markdown",
   "metadata": {},
   "source": [
    "# 1.2 Convert categorical variables into numerical variables"
   ]
  },
  {
   "cell_type": "markdown",
   "metadata": {},
   "source": [
    "To obtain more information from the data, I convert a categorical variable into a numerical variable if levels of variable indicate clear order."
   ]
  },
  {
   "cell_type": "code",
   "execution_count": 60,
   "metadata": {},
   "outputs": [],
   "source": [
    "x=as.data.frame(data[,2:21])\n",
    "y=as.matrix(data[,22:27])"
   ]
  },
  {
   "cell_type": "markdown",
   "metadata": {},
   "source": [
    "- For **Education**, I convert it into number 1 to 8, from low education level to high education level according to the order of 'Less than high school','High school','AA, BA, BS','Graduate','Master's Degree','Doctoral Degree','Professional Degree','Professional'."
   ]
  },
  {
   "cell_type": "code",
   "execution_count": 62,
   "metadata": {
    "scrolled": true
   },
   "outputs": [
    {
     "data": {
      "text/html": [
       "<table>\n",
       "<tbody>\n",
       "\t<tr><td>3</td></tr>\n",
       "\t<tr><td>5</td></tr>\n",
       "\t<tr><td>6</td></tr>\n",
       "\t<tr><td>2</td></tr>\n",
       "\t<tr><td>7</td></tr>\n",
       "\t<tr><td>1</td></tr>\n",
       "\t<tr><td>8</td></tr>\n",
       "\t<tr><td>4</td></tr>\n",
       "</tbody>\n",
       "</table>\n"
      ],
      "text/latex": [
       "\\begin{tabular}{l}\n",
       "\t 3\\\\\n",
       "\t 5\\\\\n",
       "\t 6\\\\\n",
       "\t 2\\\\\n",
       "\t 7\\\\\n",
       "\t 1\\\\\n",
       "\t 8\\\\\n",
       "\t 4\\\\\n",
       "\\end{tabular}\n"
      ],
      "text/markdown": [
       "\n",
       "| 3 |\n",
       "| 5 |\n",
       "| 6 |\n",
       "| 2 |\n",
       "| 7 |\n",
       "| 1 |\n",
       "| 8 |\n",
       "| 4 |\n",
       "\n"
      ],
      "text/plain": [
       "     [,1]\n",
       "[1,] 3   \n",
       "[2,] 5   \n",
       "[3,] 6   \n",
       "[4,] 2   \n",
       "[5,] 7   \n",
       "[6,] 1   \n",
       "[7,] 8   \n",
       "[8,] 4   "
      ]
     },
     "metadata": {},
     "output_type": "display_data"
    }
   ],
   "source": [
    "xm1 = matrix(0,dim(x)[1],1)\n",
    "for (i in 1:dim(x)[1]) {\n",
    "  if (x[i,4]==\"Less than High School\"){\n",
    "    xm1[i,1]=1\n",
    "  }\n",
    "  if (x[i,4]==\"High School\"){\n",
    "    xm1[i,1]=2\n",
    "  }\n",
    "  if (x[i,4]==\"2 or 4 Years of College Degree (AA, BA, BS)\"){\n",
    "    xm1[i,1]=3\n",
    "  }\n",
    "  if (x[i,4]==\"Graduate\"){\n",
    "    xm1[i,1]=4\n",
    "  }\n",
    "  if (x[i,4]==\"Master's Degree\"){\n",
    "    xm1[i,1]=5\n",
    "  }\n",
    "  if (x[i,4]==\"Doctoral Degree\"){\n",
    "    xm1[i,1]=6\n",
    "  }\n",
    "  if (x[i,4]==\"Professional Degree (MD, JD, PharmD, ...)\"){\n",
    "    xm1[i,1]=7\n",
    "  }\n",
    "  if (x[i,4]==\"Professional\"){\n",
    "    xm1[i,1]=8\n",
    "  }\n",
    "}\n",
    "x[,4]=xm1\n"
   ]
  },
  {
   "cell_type": "code",
   "execution_count": 63,
   "metadata": {},
   "outputs": [
    {
     "data": {
      "text/html": [
       "<table>\n",
       "<tbody>\n",
       "\t<tr><td>3</td></tr>\n",
       "\t<tr><td>5</td></tr>\n",
       "\t<tr><td>6</td></tr>\n",
       "\t<tr><td>2</td></tr>\n",
       "\t<tr><td>7</td></tr>\n",
       "\t<tr><td>1</td></tr>\n",
       "\t<tr><td>8</td></tr>\n",
       "\t<tr><td>4</td></tr>\n",
       "</tbody>\n",
       "</table>\n"
      ],
      "text/latex": [
       "\\begin{tabular}{l}\n",
       "\t 3\\\\\n",
       "\t 5\\\\\n",
       "\t 6\\\\\n",
       "\t 2\\\\\n",
       "\t 7\\\\\n",
       "\t 1\\\\\n",
       "\t 8\\\\\n",
       "\t 4\\\\\n",
       "\\end{tabular}\n"
      ],
      "text/markdown": [
       "\n",
       "| 3 |\n",
       "| 5 |\n",
       "| 6 |\n",
       "| 2 |\n",
       "| 7 |\n",
       "| 1 |\n",
       "| 8 |\n",
       "| 4 |\n",
       "\n"
      ],
      "text/plain": [
       "     [,1]\n",
       "[1,] 3   \n",
       "[2,] 5   \n",
       "[3,] 6   \n",
       "[4,] 2   \n",
       "[5,] 7   \n",
       "[6,] 1   \n",
       "[7,] 8   \n",
       "[8,] 4   "
      ]
     },
     "metadata": {},
     "output_type": "display_data"
    }
   ],
   "source": [
    "unique(x$edu)"
   ]
  },
  {
   "cell_type": "markdown",
   "metadata": {},
   "source": [
    "- For the frequency of consuming different type of food, I convert 'None' into 0, and 'More than X times' into X +1, frequency between 1 and X to the relative number."
   ]
  },
  {
   "cell_type": "code",
   "execution_count": 64,
   "metadata": {},
   "outputs": [],
   "source": [
    "xm=matrix(0,dim(x)[1],dim(x)[2])\n",
    "for (i in 6:20) {\n",
    "  for (j in 1:nrow(x)) {\n",
    "    if (x[j,i]=='None'){\n",
    "      xm[j,i]=0\n",
    "    }\n",
    "    if (x[j,i]=='1 time'){\n",
    "      xm[j,i]=1\n",
    "    }\n",
    "    if ((x[j,i]=='2 times')|(x[j,i]==unique(x[,8])[3])){\n",
    "      xm[j,i]=2\n",
    "    }\n",
    "    if ((x[j,i]=='3 times')|(x[j,i]==unique(x[,12])[2])){\n",
    "      xm[j,i]=3\n",
    "    }\n",
    "    if (x[j,i]=='4 times'){\n",
    "      xm[j,i]=4\n",
    "    }\n",
    "    if ((x[j,i]=='5 times')|(x[j,i]=='More than 4 times')){\n",
    "      xm[j,i]=5\n",
    "    }\n",
    "    if (x[j,i]=='6 or 7 times'){\n",
    "      xm[j,i]=6\n",
    "    }\n",
    "  }\n",
    "}\n",
    "x[,6:20]=xm[,6:20]"
   ]
  },
  {
   "cell_type": "code",
   "execution_count": 65,
   "metadata": {},
   "outputs": [
    {
     "name": "stdout",
     "output_type": "stream",
     "text": [
      "[1] 0 1 2 4 5 3\n",
      "[1] 4 6 1 5 3 2 0\n",
      "[1] 5 1 2 0 4 3\n",
      "[1] 5 1 2 3 4 0\n",
      "[1] 5 3 2 0 4 1\n",
      "[1] 3 4 1 2 5 0\n",
      "[1] 1 3 0 5 2 4\n",
      "[1] 5 2 4 3 1 0\n",
      "[1] 5 2 4 3 1 0\n",
      "[1] 1 2 4 5 3 0\n",
      "[1] 0 1 4 2 3 5\n",
      "[1] 1 0 3 2 5 4\n",
      "[1] 0 1 4 5 2 3\n",
      "[1] 0 5 2 1 3 4\n",
      "[1] 0 1 5 2 3 4\n"
     ]
    }
   ],
   "source": [
    "for (i in 6:20) {\n",
    "  print(unique(x[,i]))\n",
    "}"
   ]
  },
  {
   "cell_type": "markdown",
   "metadata": {},
   "source": [
    "- To interpret the mental health status better, I convert 'All the time'... 'None of the time' into 1 to 5, and get a new response called **mental health score** from the average of the original 6 responses."
   ]
  },
  {
   "cell_type": "code",
   "execution_count": 66,
   "metadata": {},
   "outputs": [],
   "source": [
    "s=matrix(0,dim(y)[1],dim(y)[2])\n",
    "for (i in 1:dim(y)[1]) {\n",
    "  for (j in 1:dim(y)[2]) {\n",
    "    if (y[i,j]=='None of the time'){\n",
    "      s[i,j]=5\n",
    "    }\n",
    "    if (y[i,j]=='A little of the time'){\n",
    "      s[i,j]=4\n",
    "    }\n",
    "    if (y[i,j]=='Some of the time'){\n",
    "      s[i,j]=3\n",
    "    }\n",
    "    if (y[i,j]=='Most of the time'){\n",
    "      s[i,j]=2\n",
    "    }\n",
    "    if (y[i,j]=='All the time'){\n",
    "      s[i,j]=1\n",
    "    }\n",
    "  }\n",
    "}\n",
    "y=rowMeans(s)"
   ]
  },
  {
   "cell_type": "code",
   "execution_count": 68,
   "metadata": {},
   "outputs": [
    {
     "data": {
      "image/png": "[encoded data removed]",
      "text/plain": [
       "Plot with title \"Mental health score distribution histogram\""
      ]
     },
     "metadata": {},
     "output_type": "display_data"
    }
   ],
   "source": [
    "barplot(prop.table(table(y)),main = 'Mental health score distribution histogram',xlab = 'Score', ylab = 'Frequency')"
   ]
  },
  {
   "cell_type": "markdown",
   "metadata": {},
   "source": [
    "# 1.3 New Dataset Summary"
   ]
  },
  {
   "cell_type": "markdown",
   "metadata": {},
   "source": [
    "A new data set with **2314** observations, **20** variables and **1** response is obtained."
   ]
  },
  {
   "cell_type": "markdown",
   "metadata": {},
   "source": [
    "| **Name of variable** | **Type**    | **Description**                            |\n",
    "|:---------------------|:------------|:-------------------------------------------|\n",
    "| y (Mental health score)| Numerical   | Mental health score, from 1 to 5           |\n",
    "| Gender               | Categorical | Female or Male                             |\n",
    "| Age                  | Categorical | 18-29, 30-39, 40-49 or 50 and above        |\n",
    "| Region               | Categorical | Continent participant comes from           |\n",
    "| Diet                 | Categorical | Different diet type                        |\n",
    "| Education            | Numerical   | From 1 to 8, indicating education level    |\n",
    "| Exercise             | Numerical   | Frequency of exercise per week             |\n",
    "| Breakfast            | Numerical   | Frequency of breakfast per week            |\n",
    "| Whole grain          | Numerical   | Frequency of eating whole grain per week   |\n",
    "| Dairy product        | Numerical   | Frequency of eating dairy product per week |\n",
    "| Coffee               | Numerical   | Frequency of drinking coffee per week      |\n",
    "| Fruit                | Numerical   | Frequency of eating fruit per week         |\n",
    "| Flaxseed/nuts        | Numerical   | Frequency of eating flaxseed/nuts per week |\n",
    "| Rice/pasta           | Numerical   | Frequency of eating rice/pasta per week    |\n",
    "| Meat                 | Numerical   | Frequency of eating meat per week          |\n",
    "| Vegetables           | Numerical   | Frequency of eating vegetables per week    |\n",
    "| Beans                | Numerical   | Frequency of eating beans per week         |\n",
    "| Fish                 | Numerical   | Frequency of eating fish per week          |\n",
    "| Fast food            | Numerical   | Frequency of eating fast food per week     |\n",
    "| Multivitamin         | Numerical   | Frequency of eating multivitamin per week  |\n",
    "| Fish oil             | Numerical   | Frequency of eating fish oil per week      |\n"
   ]
  },
  {
   "cell_type": "markdown",
   "metadata": {},
   "source": [
    "# 2.1 Visualization"
   ]
  },
  {
   "cell_type": "markdown",
   "metadata": {},
   "source": [
    "One direct way is to visualize the average mental health score for each level/value of each variable, and find out any significance or trend."
   ]
  },
  {
   "cell_type": "code",
   "execution_count": 70,
   "metadata": {},
   "outputs": [
    {
     "data": {
      "image/png": "[encoded data removed]",
      "text/plain": [
       "Plot with title \"fish_oil\""
      ]
     },
     "metadata": {},
     "output_type": "display_data"
    }
   ],
   "source": [
    "par(mfrow=c(5,4))\n",
    "for (i in 1:dim(x)[2]) {\n",
    "  what=matrix(0,1,length(unique(x[,i])))\n",
    "  colnames(what)=sort(unique(x[,i]))\n",
    "  for (j in 1:length(unique(x[,i]))) {\n",
    "    what[1,j]=mean(y[x[,i]==sort(unique(x[,i]))[j]])\n",
    "  }\n",
    "  barplot(what,main=as.character(colnames(x)[i]),xlab='type/frequency',ylab = 'average score')\n",
    "}\n",
    "par(mfrow=c(1,1))"
   ]
  }
 ],
 "metadata": {
  "kernelspec": {
   "display_name": "R",
   "language": "R",
   "name": "ir"
  },
  "language_info": {
   "codemirror_mode": "r",
   "file_extension": ".r",
   "mimetype": "text/x-r-source",
   "name": "R",
   "pygments_lexer": "r",
   "version": "3.6.1"
  }
 },
 "nbformat": 4,
 "nbformat_minor": 2
}
